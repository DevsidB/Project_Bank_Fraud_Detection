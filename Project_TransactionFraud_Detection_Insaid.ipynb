{
 "cells": [
  {
   "cell_type": "markdown",
   "id": "6f3ea870",
   "metadata": {},
   "source": [
    "__Goal : To detect the fraud in transactions__\n",
    "\n",
    "In the datasets like fraud detection, customer churn, device failure, disease prediction the dataset is always imbalanced.\n",
    "The rate of fraud, customer churn, device failure, diseased patients is usually low. So when such dataset is provided for training-\n",
    "The training data provided contains very less value of such particular class. So model doesn't have much to learn from it.There is a huge bias in the dataset which should be solved to get the exact predictions.\n",
    "\n",
    "1. Step1: Initially solving using unbalanced dataset (Logistic Regression to check for performance)\n",
    "\n",
    "2. Step2: Later solving using balanced dataset using different balancing methods and hyper parameter tuning.\n",
    "    \n",
    "        1.using OVERSAMPLING\n",
    "        \n",
    "3. Step3:  Selecting the best model from hyper parameter tuning scores to train the model.Freezing the model using Joblib for further predictions. Pipelines can be created and model can be deployed using flask/django.\n"
   ]
  },
  {
   "cell_type": "markdown",
   "id": "13a09c96",
   "metadata": {},
   "source": [
    "__Questions:__"
   ]
  },
  {
   "cell_type": "markdown",
   "id": "7193eb18",
   "metadata": {},
   "source": [
    "1. Data cleaning including missing values, outliers and multi-collinearity.\n",
    "    \n",
    "        No missing values, outlier can be handled using 3 standard deviation, IQR OR PERCENTILE METHOD.\n",
    "\n",
    "2. Describe your fraud detection model in elaboration.\n",
    "        \n",
    "        Dataset was cleaned, preprocessed and prepared for the predictions using various techniques.\n",
    "        Decision tree was selected as the best model with criterion: 'entropy' to predict the fraudulent transactions which was \n",
    "        selected after performing hyperparameter tuning. \n",
    "\n",
    "3. How did you select variables to be included in the model?\n",
    "    \n",
    "        Correlation used to detect the column dependencies. \n",
    "        Columns having ID or name which was irrelevant for ML model was removed.\n",
    "        Also we understand that in 'type' column only TRANSFER and CASH_OUT consists all fraud values.\n",
    "        Rest of the rows can be dropped safely.\n",
    "\n",
    "4. Demonstrate the performance of the model by using best set of tools.\n",
    "        \n",
    "        Hyperparameter tuning was performed to find the best model with parameters (99 % accuracy was achieved using decision\n",
    "        tree)\n",
    "        Cross validation of cv =5 used to find the score of best model. (avg accuracy achieved for decision tree = 99.98% )\n",
    "        Confusion matrix was plotted to find TruePositives,TrueNegatives,FalsePositives,FalseNegatives\n",
    "\n",
    "5. What are the key factors that predict fraudulent customer?\n",
    "\n",
    "        1. Fraud transactions occured in rows containing these 2 categories: TRANSFER and CASH_OUT (8213 total cases) \n",
    "        2. 8034 out of 8213 cases all amount from  'oldbalanceOrg' column was transacted when the transaction was fraud in these 2 categories:     TRANSFER and CASH_OUT.\n",
    "        3. 8053 out of 8213 times newbalanceOrig is 0 as all amount was removed in these 2\n",
    "           categories:     TRANSFER and CASH_OUT.\n",
    "        4. For 159 out of 160 times when newbalanceOrig values not equal to 0 : the amount was > 200000 & the transaction was fraud.\n",
    "    \n",
    "        columns: oldbalanceOrg, newbalanceOrig, oldbalanceDest, newbalanceDest\n",
    "\n",
    "6. Do these factors make sense? If yes, How? If not, How not?\n",
    "    \n",
    "        Yes. The account sheet must balance the transactions made from sender to receiver. \n",
    "        If any non-adherence to the values are detected it denotes the likelihood of fraudulent cases or errors.\n",
    "        Separate dataframe consisting this errors is created for analysis.\n",
    "\n",
    "7. What kind of prevention should be adopted while company update its infrastructure?\n",
    "\n",
    "        Machine learning model can be deployed to analyse for suspicious activity.\n",
    "        Warnings/prompts/alerts for such activity can be raised and transactions can be monitored to avoid any frauds.\n",
    "\n",
    "8. Assuming these actions have been implemented, how would you determine if they work?\n",
    "\n",
    "        Testing the model on the test data and using the cross validation scores we will get the accuracy of the model. \n",
    "        Also metrics such as Precision, recall and f1 score will be used to evaluate the performance of the model.\n"
   ]
  },
  {
   "cell_type": "markdown",
   "id": "f0218401",
   "metadata": {},
   "source": [
    "__Importing libraries and csv__"
   ]
  },
  {
   "cell_type": "code",
   "execution_count": 1,
   "id": "1946db94",
   "metadata": {},
   "outputs": [],
   "source": [
    "import warnings\n",
    "warnings.filterwarnings('ignore')"
   ]
  },
  {
   "cell_type": "code",
   "execution_count": 2,
   "id": "bc91458a",
   "metadata": {},
   "outputs": [],
   "source": [
    "%matplotlib inline\n",
    "import matplotlib\n",
    "from matplotlib import pyplot as plt\n",
    "import pandas as pd\n",
    "import numpy as np\n",
    "import seaborn as sn"
   ]
  },
  {
   "cell_type": "code",
   "execution_count": 3,
   "id": "1f0058d8",
   "metadata": {},
   "outputs": [
    {
     "data": {
      "text/plain": [
       "(6362620, 11)"
      ]
     },
     "execution_count": 3,
     "metadata": {},
     "output_type": "execute_result"
    }
   ],
   "source": [
    "df = pd.read_csv('Fraud.csv')\n",
    "df.shape"
   ]
  },
  {
   "cell_type": "code",
   "execution_count": 4,
   "id": "645cc9b4",
   "metadata": {},
   "outputs": [
    {
     "data": {
      "text/html": [
       "<div>\n",
       "<style scoped>\n",
       "    .dataframe tbody tr th:only-of-type {\n",
       "        vertical-align: middle;\n",
       "    }\n",
       "\n",
       "    .dataframe tbody tr th {\n",
       "        vertical-align: top;\n",
       "    }\n",
       "\n",
       "    .dataframe thead th {\n",
       "        text-align: right;\n",
       "    }\n",
       "</style>\n",
       "<table border=\"1\" class=\"dataframe\">\n",
       "  <thead>\n",
       "    <tr style=\"text-align: right;\">\n",
       "      <th></th>\n",
       "      <th>step</th>\n",
       "      <th>type</th>\n",
       "      <th>amount</th>\n",
       "      <th>nameOrig</th>\n",
       "      <th>oldbalanceOrg</th>\n",
       "      <th>newbalanceOrig</th>\n",
       "      <th>nameDest</th>\n",
       "      <th>oldbalanceDest</th>\n",
       "      <th>newbalanceDest</th>\n",
       "      <th>isFraud</th>\n",
       "      <th>isFlaggedFraud</th>\n",
       "    </tr>\n",
       "  </thead>\n",
       "  <tbody>\n",
       "    <tr>\n",
       "      <th>0</th>\n",
       "      <td>1</td>\n",
       "      <td>PAYMENT</td>\n",
       "      <td>9839.64</td>\n",
       "      <td>C1231006815</td>\n",
       "      <td>170136.0</td>\n",
       "      <td>160296.36</td>\n",
       "      <td>M1979787155</td>\n",
       "      <td>0.0</td>\n",
       "      <td>0.0</td>\n",
       "      <td>0</td>\n",
       "      <td>0</td>\n",
       "    </tr>\n",
       "    <tr>\n",
       "      <th>1</th>\n",
       "      <td>1</td>\n",
       "      <td>PAYMENT</td>\n",
       "      <td>1864.28</td>\n",
       "      <td>C1666544295</td>\n",
       "      <td>21249.0</td>\n",
       "      <td>19384.72</td>\n",
       "      <td>M2044282225</td>\n",
       "      <td>0.0</td>\n",
       "      <td>0.0</td>\n",
       "      <td>0</td>\n",
       "      <td>0</td>\n",
       "    </tr>\n",
       "    <tr>\n",
       "      <th>2</th>\n",
       "      <td>1</td>\n",
       "      <td>TRANSFER</td>\n",
       "      <td>181.00</td>\n",
       "      <td>C1305486145</td>\n",
       "      <td>181.0</td>\n",
       "      <td>0.00</td>\n",
       "      <td>C553264065</td>\n",
       "      <td>0.0</td>\n",
       "      <td>0.0</td>\n",
       "      <td>1</td>\n",
       "      <td>0</td>\n",
       "    </tr>\n",
       "    <tr>\n",
       "      <th>3</th>\n",
       "      <td>1</td>\n",
       "      <td>CASH_OUT</td>\n",
       "      <td>181.00</td>\n",
       "      <td>C840083671</td>\n",
       "      <td>181.0</td>\n",
       "      <td>0.00</td>\n",
       "      <td>C38997010</td>\n",
       "      <td>21182.0</td>\n",
       "      <td>0.0</td>\n",
       "      <td>1</td>\n",
       "      <td>0</td>\n",
       "    </tr>\n",
       "    <tr>\n",
       "      <th>4</th>\n",
       "      <td>1</td>\n",
       "      <td>PAYMENT</td>\n",
       "      <td>11668.14</td>\n",
       "      <td>C2048537720</td>\n",
       "      <td>41554.0</td>\n",
       "      <td>29885.86</td>\n",
       "      <td>M1230701703</td>\n",
       "      <td>0.0</td>\n",
       "      <td>0.0</td>\n",
       "      <td>0</td>\n",
       "      <td>0</td>\n",
       "    </tr>\n",
       "  </tbody>\n",
       "</table>\n",
       "</div>"
      ],
      "text/plain": [
       "   step      type    amount     nameOrig  oldbalanceOrg  newbalanceOrig  \\\n",
       "0     1   PAYMENT   9839.64  C1231006815       170136.0       160296.36   \n",
       "1     1   PAYMENT   1864.28  C1666544295        21249.0        19384.72   \n",
       "2     1  TRANSFER    181.00  C1305486145          181.0            0.00   \n",
       "3     1  CASH_OUT    181.00   C840083671          181.0            0.00   \n",
       "4     1   PAYMENT  11668.14  C2048537720        41554.0        29885.86   \n",
       "\n",
       "      nameDest  oldbalanceDest  newbalanceDest  isFraud  isFlaggedFraud  \n",
       "0  M1979787155             0.0             0.0        0               0  \n",
       "1  M2044282225             0.0             0.0        0               0  \n",
       "2   C553264065             0.0             0.0        1               0  \n",
       "3    C38997010         21182.0             0.0        1               0  \n",
       "4  M1230701703             0.0             0.0        0               0  "
      ]
     },
     "execution_count": 4,
     "metadata": {},
     "output_type": "execute_result"
    }
   ],
   "source": [
    "df.head()"
   ]
  },
  {
   "cell_type": "markdown",
   "id": "4f3413e9",
   "metadata": {},
   "source": [
    "## Data Exploration"
   ]
  },
  {
   "cell_type": "code",
   "execution_count": 5,
   "id": "9934cefb",
   "metadata": {},
   "outputs": [
    {
     "data": {
      "text/plain": [
       "step              0\n",
       "type              0\n",
       "amount            0\n",
       "nameOrig          0\n",
       "oldbalanceOrg     0\n",
       "newbalanceOrig    0\n",
       "nameDest          0\n",
       "oldbalanceDest    0\n",
       "newbalanceDest    0\n",
       "isFraud           0\n",
       "isFlaggedFraud    0\n",
       "dtype: int64"
      ]
     },
     "execution_count": 5,
     "metadata": {},
     "output_type": "execute_result"
    }
   ],
   "source": [
    "df.isnull().sum() ##checking null values in dataframe"
   ]
  },
  {
   "cell_type": "raw",
   "id": "d62a8bc2",
   "metadata": {},
   "source": [
    "There are no null values in the dataset. "
   ]
  },
  {
   "cell_type": "code",
   "execution_count": 6,
   "id": "4ea9b7a1",
   "metadata": {},
   "outputs": [
    {
     "data": {
      "text/plain": [
       "step                int64\n",
       "type               object\n",
       "amount            float64\n",
       "nameOrig           object\n",
       "oldbalanceOrg     float64\n",
       "newbalanceOrig    float64\n",
       "nameDest           object\n",
       "oldbalanceDest    float64\n",
       "newbalanceDest    float64\n",
       "isFraud             int64\n",
       "isFlaggedFraud      int64\n",
       "dtype: object"
      ]
     },
     "execution_count": 6,
     "metadata": {},
     "output_type": "execute_result"
    }
   ],
   "source": [
    "df.dtypes"
   ]
  },
  {
   "cell_type": "raw",
   "id": "667c4650",
   "metadata": {},
   "source": [
    "Converting all float values to integers"
   ]
  },
  {
   "cell_type": "code",
   "execution_count": 7,
   "id": "b4bea51f",
   "metadata": {},
   "outputs": [
    {
     "data": {
      "text/html": [
       "<div>\n",
       "<style scoped>\n",
       "    .dataframe tbody tr th:only-of-type {\n",
       "        vertical-align: middle;\n",
       "    }\n",
       "\n",
       "    .dataframe tbody tr th {\n",
       "        vertical-align: top;\n",
       "    }\n",
       "\n",
       "    .dataframe thead th {\n",
       "        text-align: right;\n",
       "    }\n",
       "</style>\n",
       "<table border=\"1\" class=\"dataframe\">\n",
       "  <thead>\n",
       "    <tr style=\"text-align: right;\">\n",
       "      <th></th>\n",
       "      <th>step</th>\n",
       "      <th>type</th>\n",
       "      <th>amount</th>\n",
       "      <th>nameOrig</th>\n",
       "      <th>oldbalanceOrg</th>\n",
       "      <th>newbalanceOrig</th>\n",
       "      <th>nameDest</th>\n",
       "      <th>oldbalanceDest</th>\n",
       "      <th>newbalanceDest</th>\n",
       "      <th>isFraud</th>\n",
       "      <th>isFlaggedFraud</th>\n",
       "    </tr>\n",
       "  </thead>\n",
       "  <tbody>\n",
       "    <tr>\n",
       "      <th>0</th>\n",
       "      <td>1</td>\n",
       "      <td>PAYMENT</td>\n",
       "      <td>9839</td>\n",
       "      <td>C1231006815</td>\n",
       "      <td>170136</td>\n",
       "      <td>160296</td>\n",
       "      <td>M1979787155</td>\n",
       "      <td>0</td>\n",
       "      <td>0</td>\n",
       "      <td>0</td>\n",
       "      <td>0</td>\n",
       "    </tr>\n",
       "    <tr>\n",
       "      <th>1</th>\n",
       "      <td>1</td>\n",
       "      <td>PAYMENT</td>\n",
       "      <td>1864</td>\n",
       "      <td>C1666544295</td>\n",
       "      <td>21249</td>\n",
       "      <td>19384</td>\n",
       "      <td>M2044282225</td>\n",
       "      <td>0</td>\n",
       "      <td>0</td>\n",
       "      <td>0</td>\n",
       "      <td>0</td>\n",
       "    </tr>\n",
       "    <tr>\n",
       "      <th>2</th>\n",
       "      <td>1</td>\n",
       "      <td>TRANSFER</td>\n",
       "      <td>181</td>\n",
       "      <td>C1305486145</td>\n",
       "      <td>181</td>\n",
       "      <td>0</td>\n",
       "      <td>C553264065</td>\n",
       "      <td>0</td>\n",
       "      <td>0</td>\n",
       "      <td>1</td>\n",
       "      <td>0</td>\n",
       "    </tr>\n",
       "    <tr>\n",
       "      <th>3</th>\n",
       "      <td>1</td>\n",
       "      <td>CASH_OUT</td>\n",
       "      <td>181</td>\n",
       "      <td>C840083671</td>\n",
       "      <td>181</td>\n",
       "      <td>0</td>\n",
       "      <td>C38997010</td>\n",
       "      <td>21182</td>\n",
       "      <td>0</td>\n",
       "      <td>1</td>\n",
       "      <td>0</td>\n",
       "    </tr>\n",
       "    <tr>\n",
       "      <th>4</th>\n",
       "      <td>1</td>\n",
       "      <td>PAYMENT</td>\n",
       "      <td>11668</td>\n",
       "      <td>C2048537720</td>\n",
       "      <td>41554</td>\n",
       "      <td>29885</td>\n",
       "      <td>M1230701703</td>\n",
       "      <td>0</td>\n",
       "      <td>0</td>\n",
       "      <td>0</td>\n",
       "      <td>0</td>\n",
       "    </tr>\n",
       "    <tr>\n",
       "      <th>...</th>\n",
       "      <td>...</td>\n",
       "      <td>...</td>\n",
       "      <td>...</td>\n",
       "      <td>...</td>\n",
       "      <td>...</td>\n",
       "      <td>...</td>\n",
       "      <td>...</td>\n",
       "      <td>...</td>\n",
       "      <td>...</td>\n",
       "      <td>...</td>\n",
       "      <td>...</td>\n",
       "    </tr>\n",
       "    <tr>\n",
       "      <th>6362615</th>\n",
       "      <td>743</td>\n",
       "      <td>CASH_OUT</td>\n",
       "      <td>339682</td>\n",
       "      <td>C786484425</td>\n",
       "      <td>339682</td>\n",
       "      <td>0</td>\n",
       "      <td>C776919290</td>\n",
       "      <td>0</td>\n",
       "      <td>339682</td>\n",
       "      <td>1</td>\n",
       "      <td>0</td>\n",
       "    </tr>\n",
       "    <tr>\n",
       "      <th>6362616</th>\n",
       "      <td>743</td>\n",
       "      <td>TRANSFER</td>\n",
       "      <td>6311409</td>\n",
       "      <td>C1529008245</td>\n",
       "      <td>6311409</td>\n",
       "      <td>0</td>\n",
       "      <td>C1881841831</td>\n",
       "      <td>0</td>\n",
       "      <td>0</td>\n",
       "      <td>1</td>\n",
       "      <td>0</td>\n",
       "    </tr>\n",
       "    <tr>\n",
       "      <th>6362617</th>\n",
       "      <td>743</td>\n",
       "      <td>CASH_OUT</td>\n",
       "      <td>6311409</td>\n",
       "      <td>C1162922333</td>\n",
       "      <td>6311409</td>\n",
       "      <td>0</td>\n",
       "      <td>C1365125890</td>\n",
       "      <td>68488</td>\n",
       "      <td>6379898</td>\n",
       "      <td>1</td>\n",
       "      <td>0</td>\n",
       "    </tr>\n",
       "    <tr>\n",
       "      <th>6362618</th>\n",
       "      <td>743</td>\n",
       "      <td>TRANSFER</td>\n",
       "      <td>850002</td>\n",
       "      <td>C1685995037</td>\n",
       "      <td>850002</td>\n",
       "      <td>0</td>\n",
       "      <td>C2080388513</td>\n",
       "      <td>0</td>\n",
       "      <td>0</td>\n",
       "      <td>1</td>\n",
       "      <td>0</td>\n",
       "    </tr>\n",
       "    <tr>\n",
       "      <th>6362619</th>\n",
       "      <td>743</td>\n",
       "      <td>CASH_OUT</td>\n",
       "      <td>850002</td>\n",
       "      <td>C1280323807</td>\n",
       "      <td>850002</td>\n",
       "      <td>0</td>\n",
       "      <td>C873221189</td>\n",
       "      <td>6510099</td>\n",
       "      <td>7360101</td>\n",
       "      <td>1</td>\n",
       "      <td>0</td>\n",
       "    </tr>\n",
       "  </tbody>\n",
       "</table>\n",
       "<p>6362620 rows × 11 columns</p>\n",
       "</div>"
      ],
      "text/plain": [
       "         step      type   amount     nameOrig  oldbalanceOrg  newbalanceOrig  \\\n",
       "0           1   PAYMENT     9839  C1231006815         170136          160296   \n",
       "1           1   PAYMENT     1864  C1666544295          21249           19384   \n",
       "2           1  TRANSFER      181  C1305486145            181               0   \n",
       "3           1  CASH_OUT      181   C840083671            181               0   \n",
       "4           1   PAYMENT    11668  C2048537720          41554           29885   \n",
       "...       ...       ...      ...          ...            ...             ...   \n",
       "6362615   743  CASH_OUT   339682   C786484425         339682               0   \n",
       "6362616   743  TRANSFER  6311409  C1529008245        6311409               0   \n",
       "6362617   743  CASH_OUT  6311409  C1162922333        6311409               0   \n",
       "6362618   743  TRANSFER   850002  C1685995037         850002               0   \n",
       "6362619   743  CASH_OUT   850002  C1280323807         850002               0   \n",
       "\n",
       "            nameDest  oldbalanceDest  newbalanceDest  isFraud  isFlaggedFraud  \n",
       "0        M1979787155               0               0        0               0  \n",
       "1        M2044282225               0               0        0               0  \n",
       "2         C553264065               0               0        1               0  \n",
       "3          C38997010           21182               0        1               0  \n",
       "4        M1230701703               0               0        0               0  \n",
       "...              ...             ...             ...      ...             ...  \n",
       "6362615   C776919290               0          339682        1               0  \n",
       "6362616  C1881841831               0               0        1               0  \n",
       "6362617  C1365125890           68488         6379898        1               0  \n",
       "6362618  C2080388513               0               0        1               0  \n",
       "6362619   C873221189         6510099         7360101        1               0  \n",
       "\n",
       "[6362620 rows x 11 columns]"
      ]
     },
     "execution_count": 7,
     "metadata": {},
     "output_type": "execute_result"
    }
   ],
   "source": [
    "df = df.astype({\"amount\":'int', \"oldbalanceOrg\":'int',\"newbalanceOrig\":'int',\"oldbalanceDest\":'int',\"newbalanceDest\":'int','step':'int','isFraud':'int','isFlaggedFraud':'int'})\n",
    "df"
   ]
  },
  {
   "cell_type": "code",
   "execution_count": 8,
   "id": "3a83f0ea",
   "metadata": {},
   "outputs": [
    {
     "data": {
      "text/plain": [
       "step               int32\n",
       "type              object\n",
       "amount             int32\n",
       "nameOrig          object\n",
       "oldbalanceOrg      int32\n",
       "newbalanceOrig     int32\n",
       "nameDest          object\n",
       "oldbalanceDest     int32\n",
       "newbalanceDest     int32\n",
       "isFraud            int32\n",
       "isFlaggedFraud     int32\n",
       "dtype: object"
      ]
     },
     "execution_count": 8,
     "metadata": {},
     "output_type": "execute_result"
    }
   ],
   "source": [
    "df.dtypes # no floats "
   ]
  },
  {
   "cell_type": "code",
   "execution_count": 9,
   "id": "c0cfcfcc",
   "metadata": {},
   "outputs": [
    {
     "data": {
      "text/html": [
       "<div>\n",
       "<style scoped>\n",
       "    .dataframe tbody tr th:only-of-type {\n",
       "        vertical-align: middle;\n",
       "    }\n",
       "\n",
       "    .dataframe tbody tr th {\n",
       "        vertical-align: top;\n",
       "    }\n",
       "\n",
       "    .dataframe thead th {\n",
       "        text-align: right;\n",
       "    }\n",
       "</style>\n",
       "<table border=\"1\" class=\"dataframe\">\n",
       "  <thead>\n",
       "    <tr style=\"text-align: right;\">\n",
       "      <th></th>\n",
       "      <th>step</th>\n",
       "      <th>amount</th>\n",
       "      <th>oldbalanceOrg</th>\n",
       "      <th>newbalanceOrig</th>\n",
       "      <th>oldbalanceDest</th>\n",
       "      <th>newbalanceDest</th>\n",
       "      <th>isFraud</th>\n",
       "      <th>isFlaggedFraud</th>\n",
       "    </tr>\n",
       "  </thead>\n",
       "  <tbody>\n",
       "    <tr>\n",
       "      <th>count</th>\n",
       "      <td>6.362620e+06</td>\n",
       "      <td>6.362620e+06</td>\n",
       "      <td>6.362620e+06</td>\n",
       "      <td>6.362620e+06</td>\n",
       "      <td>6.362620e+06</td>\n",
       "      <td>6.362620e+06</td>\n",
       "      <td>6.362620e+06</td>\n",
       "      <td>6.362620e+06</td>\n",
       "    </tr>\n",
       "    <tr>\n",
       "      <th>mean</th>\n",
       "      <td>2.433972e+02</td>\n",
       "      <td>1.798614e+05</td>\n",
       "      <td>8.338830e+05</td>\n",
       "      <td>8.551135e+05</td>\n",
       "      <td>1.100701e+06</td>\n",
       "      <td>1.224996e+06</td>\n",
       "      <td>1.290820e-03</td>\n",
       "      <td>2.514687e-06</td>\n",
       "    </tr>\n",
       "    <tr>\n",
       "      <th>std</th>\n",
       "      <td>1.423320e+02</td>\n",
       "      <td>6.038582e+05</td>\n",
       "      <td>2.888243e+06</td>\n",
       "      <td>2.924048e+06</td>\n",
       "      <td>3.399180e+06</td>\n",
       "      <td>3.674129e+06</td>\n",
       "      <td>3.590480e-02</td>\n",
       "      <td>1.585775e-03</td>\n",
       "    </tr>\n",
       "    <tr>\n",
       "      <th>min</th>\n",
       "      <td>1.000000e+00</td>\n",
       "      <td>0.000000e+00</td>\n",
       "      <td>0.000000e+00</td>\n",
       "      <td>0.000000e+00</td>\n",
       "      <td>0.000000e+00</td>\n",
       "      <td>0.000000e+00</td>\n",
       "      <td>0.000000e+00</td>\n",
       "      <td>0.000000e+00</td>\n",
       "    </tr>\n",
       "    <tr>\n",
       "      <th>25%</th>\n",
       "      <td>1.560000e+02</td>\n",
       "      <td>1.338900e+04</td>\n",
       "      <td>0.000000e+00</td>\n",
       "      <td>0.000000e+00</td>\n",
       "      <td>0.000000e+00</td>\n",
       "      <td>0.000000e+00</td>\n",
       "      <td>0.000000e+00</td>\n",
       "      <td>0.000000e+00</td>\n",
       "    </tr>\n",
       "    <tr>\n",
       "      <th>50%</th>\n",
       "      <td>2.390000e+02</td>\n",
       "      <td>7.487150e+04</td>\n",
       "      <td>1.420800e+04</td>\n",
       "      <td>0.000000e+00</td>\n",
       "      <td>1.327050e+05</td>\n",
       "      <td>2.146610e+05</td>\n",
       "      <td>0.000000e+00</td>\n",
       "      <td>0.000000e+00</td>\n",
       "    </tr>\n",
       "    <tr>\n",
       "      <th>75%</th>\n",
       "      <td>3.350000e+02</td>\n",
       "      <td>2.087210e+05</td>\n",
       "      <td>1.073150e+05</td>\n",
       "      <td>1.442580e+05</td>\n",
       "      <td>9.430362e+05</td>\n",
       "      <td>1.111909e+06</td>\n",
       "      <td>0.000000e+00</td>\n",
       "      <td>0.000000e+00</td>\n",
       "    </tr>\n",
       "    <tr>\n",
       "      <th>max</th>\n",
       "      <td>7.430000e+02</td>\n",
       "      <td>9.244552e+07</td>\n",
       "      <td>5.958504e+07</td>\n",
       "      <td>4.958504e+07</td>\n",
       "      <td>3.560159e+08</td>\n",
       "      <td>3.561793e+08</td>\n",
       "      <td>1.000000e+00</td>\n",
       "      <td>1.000000e+00</td>\n",
       "    </tr>\n",
       "  </tbody>\n",
       "</table>\n",
       "</div>"
      ],
      "text/plain": [
       "               step        amount  oldbalanceOrg  newbalanceOrig  \\\n",
       "count  6.362620e+06  6.362620e+06   6.362620e+06    6.362620e+06   \n",
       "mean   2.433972e+02  1.798614e+05   8.338830e+05    8.551135e+05   \n",
       "std    1.423320e+02  6.038582e+05   2.888243e+06    2.924048e+06   \n",
       "min    1.000000e+00  0.000000e+00   0.000000e+00    0.000000e+00   \n",
       "25%    1.560000e+02  1.338900e+04   0.000000e+00    0.000000e+00   \n",
       "50%    2.390000e+02  7.487150e+04   1.420800e+04    0.000000e+00   \n",
       "75%    3.350000e+02  2.087210e+05   1.073150e+05    1.442580e+05   \n",
       "max    7.430000e+02  9.244552e+07   5.958504e+07    4.958504e+07   \n",
       "\n",
       "       oldbalanceDest  newbalanceDest       isFraud  isFlaggedFraud  \n",
       "count    6.362620e+06    6.362620e+06  6.362620e+06    6.362620e+06  \n",
       "mean     1.100701e+06    1.224996e+06  1.290820e-03    2.514687e-06  \n",
       "std      3.399180e+06    3.674129e+06  3.590480e-02    1.585775e-03  \n",
       "min      0.000000e+00    0.000000e+00  0.000000e+00    0.000000e+00  \n",
       "25%      0.000000e+00    0.000000e+00  0.000000e+00    0.000000e+00  \n",
       "50%      1.327050e+05    2.146610e+05  0.000000e+00    0.000000e+00  \n",
       "75%      9.430362e+05    1.111909e+06  0.000000e+00    0.000000e+00  \n",
       "max      3.560159e+08    3.561793e+08  1.000000e+00    1.000000e+00  "
      ]
     },
     "execution_count": 9,
     "metadata": {},
     "output_type": "execute_result"
    }
   ],
   "source": [
    "df.describe()"
   ]
  },
  {
   "cell_type": "code",
   "execution_count": 10,
   "id": "1c665db1",
   "metadata": {
    "scrolled": true
   },
   "outputs": [
    {
     "data": {
      "text/plain": [
       "array([[<AxesSubplot:title={'center':'step'}>,\n",
       "        <AxesSubplot:title={'center':'amount'}>,\n",
       "        <AxesSubplot:title={'center':'oldbalanceOrg'}>],\n",
       "       [<AxesSubplot:title={'center':'newbalanceOrig'}>,\n",
       "        <AxesSubplot:title={'center':'oldbalanceDest'}>,\n",
       "        <AxesSubplot:title={'center':'newbalanceDest'}>],\n",
       "       [<AxesSubplot:title={'center':'isFraud'}>,\n",
       "        <AxesSubplot:title={'center':'isFlaggedFraud'}>, <AxesSubplot:>]],\n",
       "      dtype=object)"
      ]
     },
     "execution_count": 10,
     "metadata": {},
     "output_type": "execute_result"
    },
    {
     "data": {
      "image/png": "[encoded data removed]",
      "text/plain": [
       "<Figure size 720x720 with 9 Axes>"
      ]
     },
     "metadata": {
      "needs_background": "light"
     },
     "output_type": "display_data"
    }
   ],
   "source": [
    "hist_bars = df.hist (bins= 20, figsize = (10,10), rwidth=0.8) #only numeric columns with dtype int or float are plotted\n",
    "hist_bars"
   ]
  },
  {
   "cell_type": "markdown",
   "id": "61aa01eb",
   "metadata": {},
   "source": [
    "__Correlation__"
   ]
  },
  {
   "cell_type": "markdown",
   "id": "658fe631",
   "metadata": {},
   "source": [
    "    Pearsons correlation coefficient lies between -1 to 1, where -1 \n",
    "    indicates strong negative correlation and 1 indicates strong positive correlation.\n",
    "    -1 indicates that POSITIVE changes in A will result in stronger NEGATIVE changes in B\n",
    "    -0.1 indicates that POSITIVE changes in A will result in weaker NEGATIVE changes in B\n",
    "    1 indicates that POSITIVE changes in A will result in stronger POSITIVE changes in B\n",
    "    0.1 indicates that POSITIVE changes in A will result in weaker POSITIVE changes in B"
   ]
  },
  {
   "cell_type": "code",
   "execution_count": 11,
   "id": "ad48a346",
   "metadata": {},
   "outputs": [
    {
     "data": {
      "text/html": [
       "<div>\n",
       "<style scoped>\n",
       "    .dataframe tbody tr th:only-of-type {\n",
       "        vertical-align: middle;\n",
       "    }\n",
       "\n",
       "    .dataframe tbody tr th {\n",
       "        vertical-align: top;\n",
       "    }\n",
       "\n",
       "    .dataframe thead th {\n",
       "        text-align: right;\n",
       "    }\n",
       "</style>\n",
       "<table border=\"1\" class=\"dataframe\">\n",
       "  <thead>\n",
       "    <tr style=\"text-align: right;\">\n",
       "      <th></th>\n",
       "      <th>step</th>\n",
       "      <th>amount</th>\n",
       "      <th>oldbalanceOrg</th>\n",
       "      <th>newbalanceOrig</th>\n",
       "      <th>oldbalanceDest</th>\n",
       "      <th>newbalanceDest</th>\n",
       "      <th>isFraud</th>\n",
       "      <th>isFlaggedFraud</th>\n",
       "    </tr>\n",
       "  </thead>\n",
       "  <tbody>\n",
       "    <tr>\n",
       "      <th>step</th>\n",
       "      <td>1.000000</td>\n",
       "      <td>0.022373</td>\n",
       "      <td>-0.010058</td>\n",
       "      <td>-0.010299</td>\n",
       "      <td>0.027665</td>\n",
       "      <td>0.025888</td>\n",
       "      <td>0.031578</td>\n",
       "      <td>0.003277</td>\n",
       "    </tr>\n",
       "    <tr>\n",
       "      <th>amount</th>\n",
       "      <td>0.022373</td>\n",
       "      <td>1.000000</td>\n",
       "      <td>-0.002762</td>\n",
       "      <td>-0.007861</td>\n",
       "      <td>0.294137</td>\n",
       "      <td>0.459304</td>\n",
       "      <td>0.076688</td>\n",
       "      <td>0.012295</td>\n",
       "    </tr>\n",
       "    <tr>\n",
       "      <th>oldbalanceOrg</th>\n",
       "      <td>-0.010058</td>\n",
       "      <td>-0.002762</td>\n",
       "      <td>1.000000</td>\n",
       "      <td>0.998803</td>\n",
       "      <td>0.066242</td>\n",
       "      <td>0.042029</td>\n",
       "      <td>0.010154</td>\n",
       "      <td>0.003835</td>\n",
       "    </tr>\n",
       "    <tr>\n",
       "      <th>newbalanceOrig</th>\n",
       "      <td>-0.010299</td>\n",
       "      <td>-0.007861</td>\n",
       "      <td>0.998803</td>\n",
       "      <td>1.000000</td>\n",
       "      <td>0.067812</td>\n",
       "      <td>0.041837</td>\n",
       "      <td>-0.008148</td>\n",
       "      <td>0.003776</td>\n",
       "    </tr>\n",
       "    <tr>\n",
       "      <th>oldbalanceDest</th>\n",
       "      <td>0.027665</td>\n",
       "      <td>0.294137</td>\n",
       "      <td>0.066242</td>\n",
       "      <td>0.067812</td>\n",
       "      <td>1.000000</td>\n",
       "      <td>0.976569</td>\n",
       "      <td>-0.005885</td>\n",
       "      <td>-0.000513</td>\n",
       "    </tr>\n",
       "    <tr>\n",
       "      <th>newbalanceDest</th>\n",
       "      <td>0.025888</td>\n",
       "      <td>0.459304</td>\n",
       "      <td>0.042029</td>\n",
       "      <td>0.041837</td>\n",
       "      <td>0.976569</td>\n",
       "      <td>1.000000</td>\n",
       "      <td>0.000535</td>\n",
       "      <td>-0.000529</td>\n",
       "    </tr>\n",
       "    <tr>\n",
       "      <th>isFraud</th>\n",
       "      <td>0.031578</td>\n",
       "      <td>0.076688</td>\n",
       "      <td>0.010154</td>\n",
       "      <td>-0.008148</td>\n",
       "      <td>-0.005885</td>\n",
       "      <td>0.000535</td>\n",
       "      <td>1.000000</td>\n",
       "      <td>0.044109</td>\n",
       "    </tr>\n",
       "    <tr>\n",
       "      <th>isFlaggedFraud</th>\n",
       "      <td>0.003277</td>\n",
       "      <td>0.012295</td>\n",
       "      <td>0.003835</td>\n",
       "      <td>0.003776</td>\n",
       "      <td>-0.000513</td>\n",
       "      <td>-0.000529</td>\n",
       "      <td>0.044109</td>\n",
       "      <td>1.000000</td>\n",
       "    </tr>\n",
       "  </tbody>\n",
       "</table>\n",
       "</div>"
      ],
      "text/plain": [
       "                    step    amount  oldbalanceOrg  newbalanceOrig  \\\n",
       "step            1.000000  0.022373      -0.010058       -0.010299   \n",
       "amount          0.022373  1.000000      -0.002762       -0.007861   \n",
       "oldbalanceOrg  -0.010058 -0.002762       1.000000        0.998803   \n",
       "newbalanceOrig -0.010299 -0.007861       0.998803        1.000000   \n",
       "oldbalanceDest  0.027665  0.294137       0.066242        0.067812   \n",
       "newbalanceDest  0.025888  0.459304       0.042029        0.041837   \n",
       "isFraud         0.031578  0.076688       0.010154       -0.008148   \n",
       "isFlaggedFraud  0.003277  0.012295       0.003835        0.003776   \n",
       "\n",
       "                oldbalanceDest  newbalanceDest   isFraud  isFlaggedFraud  \n",
       "step                  0.027665        0.025888  0.031578        0.003277  \n",
       "amount                0.294137        0.459304  0.076688        0.012295  \n",
       "oldbalanceOrg         0.066242        0.042029  0.010154        0.003835  \n",
       "newbalanceOrig        0.067812        0.041837 -0.008148        0.003776  \n",
       "oldbalanceDest        1.000000        0.976569 -0.005885       -0.000513  \n",
       "newbalanceDest        0.976569        1.000000  0.000535       -0.000529  \n",
       "isFraud              -0.005885        0.000535  1.000000        0.044109  \n",
       "isFlaggedFraud       -0.000513       -0.000529  0.044109        1.000000  "
      ]
     },
     "execution_count": 11,
     "metadata": {},
     "output_type": "execute_result"
    }
   ],
   "source": [
    "corr_matrix= df.corr()\n",
    "corr_matrix"
   ]
  },
  {
   "cell_type": "code",
   "execution_count": 12,
   "id": "2cf00520",
   "metadata": {},
   "outputs": [
    {
     "data": {
      "text/plain": [
       "Index(['step', 'type', 'amount', 'nameOrig', 'oldbalanceOrg', 'newbalanceOrig',\n",
       "       'nameDest', 'oldbalanceDest', 'newbalanceDest', 'isFraud',\n",
       "       'isFlaggedFraud'],\n",
       "      dtype='object')"
      ]
     },
     "execution_count": 12,
     "metadata": {},
     "output_type": "execute_result"
    }
   ],
   "source": [
    "df.columns"
   ]
  },
  {
   "cell_type": "code",
   "execution_count": 13,
   "id": "022dbd35",
   "metadata": {},
   "outputs": [
    {
     "data": {
      "text/plain": [
       "array(['step', 'amount', 'oldbalanceOrg', 'newbalanceOrig',\n",
       "       'oldbalanceDest', 'newbalanceDest', 'isFraud', 'isFlaggedFraud'],\n",
       "      dtype=object)"
      ]
     },
     "execution_count": 13,
     "metadata": {},
     "output_type": "execute_result"
    }
   ],
   "source": [
    "# Taking only columns with dtypes int32 and converting pandas series to numpy array for correlation.\n",
    "corr_columns = df.dtypes[(df.dtypes=='int')].keys().to_numpy()\n",
    "corr_columns"
   ]
  },
  {
   "cell_type": "code",
   "execution_count": 14,
   "id": "b04bfa87",
   "metadata": {},
   "outputs": [
    {
     "data": {
      "text/plain": [
       "['step',\n",
       " 'amount',\n",
       " 'oldbalanceOrg',\n",
       " 'newbalanceOrig',\n",
       " 'oldbalanceDest',\n",
       " 'newbalanceDest',\n",
       " 'isFraud',\n",
       " 'isFlaggedFraud']"
      ]
     },
     "execution_count": 14,
     "metadata": {},
     "output_type": "execute_result"
    }
   ],
   "source": [
    "list(corr_columns)"
   ]
  },
  {
   "cell_type": "code",
   "execution_count": 15,
   "id": "50290b43",
   "metadata": {},
   "outputs": [
    {
     "data": {
      "text/html": [
       "<div>\n",
       "<style scoped>\n",
       "    .dataframe tbody tr th:only-of-type {\n",
       "        vertical-align: middle;\n",
       "    }\n",
       "\n",
       "    .dataframe tbody tr th {\n",
       "        vertical-align: top;\n",
       "    }\n",
       "\n",
       "    .dataframe thead th {\n",
       "        text-align: right;\n",
       "    }\n",
       "</style>\n",
       "<table border=\"1\" class=\"dataframe\">\n",
       "  <thead>\n",
       "    <tr style=\"text-align: right;\">\n",
       "      <th></th>\n",
       "      <th>step</th>\n",
       "      <th>amount</th>\n",
       "      <th>oldbalanceOrg</th>\n",
       "      <th>newbalanceOrig</th>\n",
       "      <th>oldbalanceDest</th>\n",
       "      <th>newbalanceDest</th>\n",
       "      <th>isFraud</th>\n",
       "      <th>isFlaggedFraud</th>\n",
       "    </tr>\n",
       "  </thead>\n",
       "  <tbody>\n",
       "    <tr>\n",
       "      <th>0</th>\n",
       "      <td>1</td>\n",
       "      <td>9839</td>\n",
       "      <td>170136</td>\n",
       "      <td>160296</td>\n",
       "      <td>0</td>\n",
       "      <td>0</td>\n",
       "      <td>0</td>\n",
       "      <td>0</td>\n",
       "    </tr>\n",
       "    <tr>\n",
       "      <th>1</th>\n",
       "      <td>1</td>\n",
       "      <td>1864</td>\n",
       "      <td>21249</td>\n",
       "      <td>19384</td>\n",
       "      <td>0</td>\n",
       "      <td>0</td>\n",
       "      <td>0</td>\n",
       "      <td>0</td>\n",
       "    </tr>\n",
       "    <tr>\n",
       "      <th>2</th>\n",
       "      <td>1</td>\n",
       "      <td>181</td>\n",
       "      <td>181</td>\n",
       "      <td>0</td>\n",
       "      <td>0</td>\n",
       "      <td>0</td>\n",
       "      <td>1</td>\n",
       "      <td>0</td>\n",
       "    </tr>\n",
       "    <tr>\n",
       "      <th>3</th>\n",
       "      <td>1</td>\n",
       "      <td>181</td>\n",
       "      <td>181</td>\n",
       "      <td>0</td>\n",
       "      <td>21182</td>\n",
       "      <td>0</td>\n",
       "      <td>1</td>\n",
       "      <td>0</td>\n",
       "    </tr>\n",
       "    <tr>\n",
       "      <th>4</th>\n",
       "      <td>1</td>\n",
       "      <td>11668</td>\n",
       "      <td>41554</td>\n",
       "      <td>29885</td>\n",
       "      <td>0</td>\n",
       "      <td>0</td>\n",
       "      <td>0</td>\n",
       "      <td>0</td>\n",
       "    </tr>\n",
       "    <tr>\n",
       "      <th>...</th>\n",
       "      <td>...</td>\n",
       "      <td>...</td>\n",
       "      <td>...</td>\n",
       "      <td>...</td>\n",
       "      <td>...</td>\n",
       "      <td>...</td>\n",
       "      <td>...</td>\n",
       "      <td>...</td>\n",
       "    </tr>\n",
       "    <tr>\n",
       "      <th>6362615</th>\n",
       "      <td>743</td>\n",
       "      <td>339682</td>\n",
       "      <td>339682</td>\n",
       "      <td>0</td>\n",
       "      <td>0</td>\n",
       "      <td>339682</td>\n",
       "      <td>1</td>\n",
       "      <td>0</td>\n",
       "    </tr>\n",
       "    <tr>\n",
       "      <th>6362616</th>\n",
       "      <td>743</td>\n",
       "      <td>6311409</td>\n",
       "      <td>6311409</td>\n",
       "      <td>0</td>\n",
       "      <td>0</td>\n",
       "      <td>0</td>\n",
       "      <td>1</td>\n",
       "      <td>0</td>\n",
       "    </tr>\n",
       "    <tr>\n",
       "      <th>6362617</th>\n",
       "      <td>743</td>\n",
       "      <td>6311409</td>\n",
       "      <td>6311409</td>\n",
       "      <td>0</td>\n",
       "      <td>68488</td>\n",
       "      <td>6379898</td>\n",
       "      <td>1</td>\n",
       "      <td>0</td>\n",
       "    </tr>\n",
       "    <tr>\n",
       "      <th>6362618</th>\n",
       "      <td>743</td>\n",
       "      <td>850002</td>\n",
       "      <td>850002</td>\n",
       "      <td>0</td>\n",
       "      <td>0</td>\n",
       "      <td>0</td>\n",
       "      <td>1</td>\n",
       "      <td>0</td>\n",
       "    </tr>\n",
       "    <tr>\n",
       "      <th>6362619</th>\n",
       "      <td>743</td>\n",
       "      <td>850002</td>\n",
       "      <td>850002</td>\n",
       "      <td>0</td>\n",
       "      <td>6510099</td>\n",
       "      <td>7360101</td>\n",
       "      <td>1</td>\n",
       "      <td>0</td>\n",
       "    </tr>\n",
       "  </tbody>\n",
       "</table>\n",
       "<p>6362620 rows × 8 columns</p>\n",
       "</div>"
      ],
      "text/plain": [
       "         step   amount  oldbalanceOrg  newbalanceOrig  oldbalanceDest  \\\n",
       "0           1     9839         170136          160296               0   \n",
       "1           1     1864          21249           19384               0   \n",
       "2           1      181            181               0               0   \n",
       "3           1      181            181               0           21182   \n",
       "4           1    11668          41554           29885               0   \n",
       "...       ...      ...            ...             ...             ...   \n",
       "6362615   743   339682         339682               0               0   \n",
       "6362616   743  6311409        6311409               0               0   \n",
       "6362617   743  6311409        6311409               0           68488   \n",
       "6362618   743   850002         850002               0               0   \n",
       "6362619   743   850002         850002               0         6510099   \n",
       "\n",
       "         newbalanceDest  isFraud  isFlaggedFraud  \n",
       "0                     0        0               0  \n",
       "1                     0        0               0  \n",
       "2                     0        1               0  \n",
       "3                     0        1               0  \n",
       "4                     0        0               0  \n",
       "...                 ...      ...             ...  \n",
       "6362615          339682        1               0  \n",
       "6362616               0        1               0  \n",
       "6362617         6379898        1               0  \n",
       "6362618               0        1               0  \n",
       "6362619         7360101        1               0  \n",
       "\n",
       "[6362620 rows x 8 columns]"
      ]
     },
     "execution_count": 15,
     "metadata": {},
     "output_type": "execute_result"
    }
   ],
   "source": [
    "df_corr = df[list(corr_columns)]\n",
    "df_corr"
   ]
  },
  {
   "cell_type": "code",
   "execution_count": 16,
   "id": "dabafc7a",
   "metadata": {
    "scrolled": false
   },
   "outputs": [
    {
     "data": {
      "text/plain": [
       "step              int32\n",
       "amount            int32\n",
       "oldbalanceOrg     int32\n",
       "newbalanceOrig    int32\n",
       "oldbalanceDest    int32\n",
       "newbalanceDest    int32\n",
       "isFraud           int32\n",
       "isFlaggedFraud    int32\n",
       "dtype: object"
      ]
     },
     "execution_count": 16,
     "metadata": {},
     "output_type": "execute_result"
    }
   ],
   "source": [
    "df_corr.dtypes"
   ]
  },
  {
   "cell_type": "code",
   "execution_count": 17,
   "id": "845a82b7",
   "metadata": {},
   "outputs": [
    {
     "data": {
      "text/plain": [
       "array([[<AxesSubplot:xlabel='step', ylabel='step'>,\n",
       "        <AxesSubplot:xlabel='amount', ylabel='step'>,\n",
       "        <AxesSubplot:xlabel='oldbalanceOrg', ylabel='step'>,\n",
       "        <AxesSubplot:xlabel='newbalanceOrig', ylabel='step'>,\n",
       "        <AxesSubplot:xlabel='oldbalanceDest', ylabel='step'>,\n",
       "        <AxesSubplot:xlabel='newbalanceDest', ylabel='step'>,\n",
       "        <AxesSubplot:xlabel='isFraud', ylabel='step'>,\n",
       "        <AxesSubplot:xlabel='isFlaggedFraud', ylabel='step'>],\n",
       "       [<AxesSubplot:xlabel='step', ylabel='amount'>,\n",
       "        <AxesSubplot:xlabel='amount', ylabel='amount'>,\n",
       "        <AxesSubplot:xlabel='oldbalanceOrg', ylabel='amount'>,\n",
       "        <AxesSubplot:xlabel='newbalanceOrig', ylabel='amount'>,\n",
       "        <AxesSubplot:xlabel='oldbalanceDest', ylabel='amount'>,\n",
       "        <AxesSubplot:xlabel='newbalanceDest', ylabel='amount'>,\n",
       "        <AxesSubplot:xlabel='isFraud', ylabel='amount'>,\n",
       "        <AxesSubplot:xlabel='isFlaggedFraud', ylabel='amount'>],\n",
       "       [<AxesSubplot:xlabel='step', ylabel='oldbalanceOrg'>,\n",
       "        <AxesSubplot:xlabel='amount', ylabel='oldbalanceOrg'>,\n",
       "        <AxesSubplot:xlabel='oldbalanceOrg', ylabel='oldbalanceOrg'>,\n",
       "        <AxesSubplot:xlabel='newbalanceOrig', ylabel='oldbalanceOrg'>,\n",
       "        <AxesSubplot:xlabel='oldbalanceDest', ylabel='oldbalanceOrg'>,\n",
       "        <AxesSubplot:xlabel='newbalanceDest', ylabel='oldbalanceOrg'>,\n",
       "        <AxesSubplot:xlabel='isFraud', ylabel='oldbalanceOrg'>,\n",
       "        <AxesSubplot:xlabel='isFlaggedFraud', ylabel='oldbalanceOrg'>],\n",
       "       [<AxesSubplot:xlabel='step', ylabel='newbalanceOrig'>,\n",
       "        <AxesSubplot:xlabel='amount', ylabel='newbalanceOrig'>,\n",
       "        <AxesSubplot:xlabel='oldbalanceOrg', ylabel='newbalanceOrig'>,\n",
       "        <AxesSubplot:xlabel='newbalanceOrig', ylabel='newbalanceOrig'>,\n",
       "        <AxesSubplot:xlabel='oldbalanceDest', ylabel='newbalanceOrig'>,\n",
       "        <AxesSubplot:xlabel='newbalanceDest', ylabel='newbalanceOrig'>,\n",
       "        <AxesSubplot:xlabel='isFraud', ylabel='newbalanceOrig'>,\n",
       "        <AxesSubplot:xlabel='isFlaggedFraud', ylabel='newbalanceOrig'>],\n",
       "       [<AxesSubplot:xlabel='step', ylabel='oldbalanceDest'>,\n",
       "        <AxesSubplot:xlabel='amount', ylabel='oldbalanceDest'>,\n",
       "        <AxesSubplot:xlabel='oldbalanceOrg', ylabel='oldbalanceDest'>,\n",
       "        <AxesSubplot:xlabel='newbalanceOrig', ylabel='oldbalanceDest'>,\n",
       "        <AxesSubplot:xlabel='oldbalanceDest', ylabel='oldbalanceDest'>,\n",
       "        <AxesSubplot:xlabel='newbalanceDest', ylabel='oldbalanceDest'>,\n",
       "        <AxesSubplot:xlabel='isFraud', ylabel='oldbalanceDest'>,\n",
       "        <AxesSubplot:xlabel='isFlaggedFraud', ylabel='oldbalanceDest'>],\n",
       "       [<AxesSubplot:xlabel='step', ylabel='newbalanceDest'>,\n",
       "        <AxesSubplot:xlabel='amount', ylabel='newbalanceDest'>,\n",
       "        <AxesSubplot:xlabel='oldbalanceOrg', ylabel='newbalanceDest'>,\n",
       "        <AxesSubplot:xlabel='newbalanceOrig', ylabel='newbalanceDest'>,\n",
       "        <AxesSubplot:xlabel='oldbalanceDest', ylabel='newbalanceDest'>,\n",
       "        <AxesSubplot:xlabel='newbalanceDest', ylabel='newbalanceDest'>,\n",
       "        <AxesSubplot:xlabel='isFraud', ylabel='newbalanceDest'>,\n",
       "        <AxesSubplot:xlabel='isFlaggedFraud', ylabel='newbalanceDest'>],\n",
       "       [<AxesSubplot:xlabel='step', ylabel='isFraud'>,\n",
       "        <AxesSubplot:xlabel='amount', ylabel='isFraud'>,\n",
       "        <AxesSubplot:xlabel='oldbalanceOrg', ylabel='isFraud'>,\n",
       "        <AxesSubplot:xlabel='newbalanceOrig', ylabel='isFraud'>,\n",
       "        <AxesSubplot:xlabel='oldbalanceDest', ylabel='isFraud'>,\n",
       "        <AxesSubplot:xlabel='newbalanceDest', ylabel='isFraud'>,\n",
       "        <AxesSubplot:xlabel='isFraud', ylabel='isFraud'>,\n",
       "        <AxesSubplot:xlabel='isFlaggedFraud', ylabel='isFraud'>],\n",
       "       [<AxesSubplot:xlabel='step', ylabel='isFlaggedFraud'>,\n",
       "        <AxesSubplot:xlabel='amount', ylabel='isFlaggedFraud'>,\n",
       "        <AxesSubplot:xlabel='oldbalanceOrg', ylabel='isFlaggedFraud'>,\n",
       "        <AxesSubplot:xlabel='newbalanceOrig', ylabel='isFlaggedFraud'>,\n",
       "        <AxesSubplot:xlabel='oldbalanceDest', ylabel='isFlaggedFraud'>,\n",
       "        <AxesSubplot:xlabel='newbalanceDest', ylabel='isFlaggedFraud'>,\n",
       "        <AxesSubplot:xlabel='isFraud', ylabel='isFlaggedFraud'>,\n",
       "        <AxesSubplot:xlabel='isFlaggedFraud', ylabel='isFlaggedFraud'>]],\n",
       "      dtype=object)"
      ]
     },
     "execution_count": 17,
     "metadata": {},
     "output_type": "execute_result"
    },
    {
     "data": {
      "image/png": "[encoded data removed]",
      "text/plain": [
       "<Figure size 864x576 with 64 Axes>"
      ]
     },
     "metadata": {
      "needs_background": "light"
     },
     "output_type": "display_data"
    }
   ],
   "source": [
    "# Plotting first 50000 values scatter plot\n",
    "from pandas.plotting import scatter_matrix\n",
    "scatter_plot = scatter_matrix(df[0:5000], figsize = (12,8))\n",
    "scatter_plot"
   ]
  },
  {
   "cell_type": "code",
   "execution_count": 18,
   "id": "de400968",
   "metadata": {},
   "outputs": [
    {
     "data": {
      "text/plain": [
       "isFlaggedFraud    630.603629\n",
       "amount             30.993949\n",
       "isFraud            27.779538\n",
       "oldbalanceDest     19.921759\n",
       "newbalanceDest     19.352303\n",
       "oldbalanceOrg       5.249137\n",
       "newbalanceOrig      5.176884\n",
       "step                0.375177\n",
       "dtype: float64"
      ]
     },
     "execution_count": 18,
     "metadata": {},
     "output_type": "execute_result"
    }
   ],
   "source": [
    "skew =df.skew().sort_values(ascending =False )\n",
    "skew"
   ]
  },
  {
   "cell_type": "code",
   "execution_count": 19,
   "id": "69d77058",
   "metadata": {},
   "outputs": [
    {
     "data": {
      "text/html": [
       "<div>\n",
       "<style scoped>\n",
       "    .dataframe tbody tr th:only-of-type {\n",
       "        vertical-align: middle;\n",
       "    }\n",
       "\n",
       "    .dataframe tbody tr th {\n",
       "        vertical-align: top;\n",
       "    }\n",
       "\n",
       "    .dataframe thead th {\n",
       "        text-align: right;\n",
       "    }\n",
       "</style>\n",
       "<table border=\"1\" class=\"dataframe\">\n",
       "  <thead>\n",
       "    <tr style=\"text-align: right;\">\n",
       "      <th></th>\n",
       "      <th>skew</th>\n",
       "    </tr>\n",
       "  </thead>\n",
       "  <tbody>\n",
       "    <tr>\n",
       "      <th>isFlaggedFraud</th>\n",
       "      <td>630.603629</td>\n",
       "    </tr>\n",
       "    <tr>\n",
       "      <th>amount</th>\n",
       "      <td>30.993949</td>\n",
       "    </tr>\n",
       "    <tr>\n",
       "      <th>isFraud</th>\n",
       "      <td>27.779538</td>\n",
       "    </tr>\n",
       "    <tr>\n",
       "      <th>oldbalanceDest</th>\n",
       "      <td>19.921759</td>\n",
       "    </tr>\n",
       "    <tr>\n",
       "      <th>newbalanceDest</th>\n",
       "      <td>19.352303</td>\n",
       "    </tr>\n",
       "    <tr>\n",
       "      <th>oldbalanceOrg</th>\n",
       "      <td>5.249137</td>\n",
       "    </tr>\n",
       "    <tr>\n",
       "      <th>newbalanceOrig</th>\n",
       "      <td>5.176884</td>\n",
       "    </tr>\n",
       "    <tr>\n",
       "      <th>step</th>\n",
       "      <td>0.375177</td>\n",
       "    </tr>\n",
       "  </tbody>\n",
       "</table>\n",
       "</div>"
      ],
      "text/plain": [
       "                      skew\n",
       "isFlaggedFraud  630.603629\n",
       "amount           30.993949\n",
       "isFraud          27.779538\n",
       "oldbalanceDest   19.921759\n",
       "newbalanceDest   19.352303\n",
       "oldbalanceOrg     5.249137\n",
       "newbalanceOrig    5.176884\n",
       "step              0.375177"
      ]
     },
     "execution_count": 19,
     "metadata": {},
     "output_type": "execute_result"
    }
   ],
   "source": [
    "skew_df= pd.DataFrame({'skew':skew})\n",
    "skew_df.head(10)"
   ]
  },
  {
   "cell_type": "markdown",
   "id": "299a38f1",
   "metadata": {},
   "source": [
    "    We understand that our data is skewed here. \n",
    "    The data is not normally distributed and we do not see any bell curve in the data.\n",
    "    We can tackle this using IQR, standard deviation or percentile method.\n",
    "    Lets explore the dataset further."
   ]
  },
  {
   "cell_type": "code",
   "execution_count": 20,
   "id": "1f250c80",
   "metadata": {},
   "outputs": [
    {
     "data": {
      "text/plain": [
       "0    6354407\n",
       "1       8213\n",
       "Name: isFraud, dtype: int64"
      ]
     },
     "execution_count": 20,
     "metadata": {},
     "output_type": "execute_result"
    }
   ],
   "source": [
    "df.isFraud.value_counts()"
   ]
  },
  {
   "cell_type": "code",
   "execution_count": 21,
   "id": "445b745d",
   "metadata": {},
   "outputs": [
    {
     "data": {
      "text/plain": [
       "0    528812\n",
       "1      4097\n",
       "Name: isFraud, dtype: int64"
      ]
     },
     "execution_count": 21,
     "metadata": {},
     "output_type": "execute_result"
    }
   ],
   "source": [
    "df[df.type=='TRANSFER'].isFraud.value_counts()"
   ]
  },
  {
   "cell_type": "code",
   "execution_count": 22,
   "id": "cc937bc0",
   "metadata": {},
   "outputs": [
    {
     "data": {
      "text/plain": [
       "0    2233384\n",
       "1       4116\n",
       "Name: isFraud, dtype: int64"
      ]
     },
     "execution_count": 22,
     "metadata": {},
     "output_type": "execute_result"
    }
   ],
   "source": [
    "df[df.type=='CASH_OUT'].isFraud.value_counts()"
   ]
  },
  {
   "cell_type": "code",
   "execution_count": 23,
   "id": "b55df530",
   "metadata": {},
   "outputs": [
    {
     "data": {
      "text/plain": [
       "8213"
      ]
     },
     "execution_count": 23,
     "metadata": {},
     "output_type": "execute_result"
    }
   ],
   "source": [
    "4097 + 4116"
   ]
  },
  {
   "cell_type": "markdown",
   "id": "c9f71d2c",
   "metadata": {},
   "source": [
    "Data Dictionary says : Note that there is not information for customers that start with M (Merchants).\n",
    "    \n",
    "    Lets check that data"
   ]
  },
  {
   "cell_type": "code",
   "execution_count": 24,
   "id": "33c79477",
   "metadata": {},
   "outputs": [
    {
     "data": {
      "text/plain": [
       "0    2151495\n",
       "Name: oldbalanceDest, dtype: int64"
      ]
     },
     "execution_count": 24,
     "metadata": {},
     "output_type": "execute_result"
    }
   ],
   "source": [
    "df[df.nameDest.str.contains('M')].oldbalanceDest.value_counts()\n",
    "# We do not see any other value than 0"
   ]
  },
  {
   "cell_type": "code",
   "execution_count": 25,
   "id": "c08d0010",
   "metadata": {},
   "outputs": [
    {
     "data": {
      "text/plain": [
       "0    2151495\n",
       "Name: newbalanceDest, dtype: int64"
      ]
     },
     "execution_count": 25,
     "metadata": {},
     "output_type": "execute_result"
    }
   ],
   "source": [
    "df[df.nameDest.str.contains('M')].newbalanceDest.value_counts()\n",
    "# We do not see any other value than 0"
   ]
  },
  {
   "cell_type": "markdown",
   "id": "d93e70bb",
   "metadata": {},
   "source": [
    "    We do not see any other value than 0 for newbalanceDest and oldbalanceDest when M was first letter in nameDest.\n",
    "    Although all type rows were selected in this case. We are concerned only with this 2 categories :\n",
    "\n",
    "        1. TRANSFER row\n",
    "        2. CASH_OUT row\n",
    "\n",
    "    The rest of the rows does not matter.Lets checkout if M is contained in these two categories: "
   ]
  },
  {
   "cell_type": "code",
   "execution_count": 26,
   "id": "1fb0b320",
   "metadata": {},
   "outputs": [
    {
     "data": {
      "text/plain": [
       "False"
      ]
     },
     "execution_count": 26,
     "metadata": {},
     "output_type": "execute_result"
    }
   ],
   "source": [
    "(df.loc[df.type == 'CASH_OUT'].nameDest.str.contains('M')).any()"
   ]
  },
  {
   "cell_type": "code",
   "execution_count": 27,
   "id": "6df53396",
   "metadata": {},
   "outputs": [
    {
     "data": {
      "text/plain": [
       "False"
      ]
     },
     "execution_count": 27,
     "metadata": {},
     "output_type": "execute_result"
    }
   ],
   "source": [
    "(df.loc[df.type == 'TRANSFER'].nameDest.str.contains('M')).any()"
   ]
  },
  {
   "cell_type": "markdown",
   "id": "8a8e050c",
   "metadata": {},
   "source": [
    "    M is not contained in these two categories:    1. TRANSFER row 2. CASH_OUT row \n",
    "    Also we understand that in 'type' column only TRANSFER and CASH_OUT consists all fraud.\n",
    "    So we can safely drop the rest of the rows from our dataframe."
   ]
  },
  {
   "cell_type": "code",
   "execution_count": 28,
   "id": "f35f7392",
   "metadata": {},
   "outputs": [
    {
     "data": {
      "text/html": [
       "<div>\n",
       "<style scoped>\n",
       "    .dataframe tbody tr th:only-of-type {\n",
       "        vertical-align: middle;\n",
       "    }\n",
       "\n",
       "    .dataframe tbody tr th {\n",
       "        vertical-align: top;\n",
       "    }\n",
       "\n",
       "    .dataframe thead th {\n",
       "        text-align: right;\n",
       "    }\n",
       "</style>\n",
       "<table border=\"1\" class=\"dataframe\">\n",
       "  <thead>\n",
       "    <tr style=\"text-align: right;\">\n",
       "      <th></th>\n",
       "      <th>step</th>\n",
       "      <th>type</th>\n",
       "      <th>amount</th>\n",
       "      <th>nameOrig</th>\n",
       "      <th>oldbalanceOrg</th>\n",
       "      <th>newbalanceOrig</th>\n",
       "      <th>nameDest</th>\n",
       "      <th>oldbalanceDest</th>\n",
       "      <th>newbalanceDest</th>\n",
       "      <th>isFraud</th>\n",
       "      <th>isFlaggedFraud</th>\n",
       "    </tr>\n",
       "  </thead>\n",
       "  <tbody>\n",
       "    <tr>\n",
       "      <th>2</th>\n",
       "      <td>1</td>\n",
       "      <td>TRANSFER</td>\n",
       "      <td>181</td>\n",
       "      <td>C1305486145</td>\n",
       "      <td>181</td>\n",
       "      <td>0</td>\n",
       "      <td>C553264065</td>\n",
       "      <td>0</td>\n",
       "      <td>0</td>\n",
       "      <td>1</td>\n",
       "      <td>0</td>\n",
       "    </tr>\n",
       "    <tr>\n",
       "      <th>3</th>\n",
       "      <td>1</td>\n",
       "      <td>CASH_OUT</td>\n",
       "      <td>181</td>\n",
       "      <td>C840083671</td>\n",
       "      <td>181</td>\n",
       "      <td>0</td>\n",
       "      <td>C38997010</td>\n",
       "      <td>21182</td>\n",
       "      <td>0</td>\n",
       "      <td>1</td>\n",
       "      <td>0</td>\n",
       "    </tr>\n",
       "    <tr>\n",
       "      <th>15</th>\n",
       "      <td>1</td>\n",
       "      <td>CASH_OUT</td>\n",
       "      <td>229133</td>\n",
       "      <td>C905080434</td>\n",
       "      <td>15325</td>\n",
       "      <td>0</td>\n",
       "      <td>C476402209</td>\n",
       "      <td>5083</td>\n",
       "      <td>51513</td>\n",
       "      <td>0</td>\n",
       "      <td>0</td>\n",
       "    </tr>\n",
       "    <tr>\n",
       "      <th>19</th>\n",
       "      <td>1</td>\n",
       "      <td>TRANSFER</td>\n",
       "      <td>215310</td>\n",
       "      <td>C1670993182</td>\n",
       "      <td>705</td>\n",
       "      <td>0</td>\n",
       "      <td>C1100439041</td>\n",
       "      <td>22425</td>\n",
       "      <td>0</td>\n",
       "      <td>0</td>\n",
       "      <td>0</td>\n",
       "    </tr>\n",
       "    <tr>\n",
       "      <th>24</th>\n",
       "      <td>1</td>\n",
       "      <td>TRANSFER</td>\n",
       "      <td>311685</td>\n",
       "      <td>C1984094095</td>\n",
       "      <td>10835</td>\n",
       "      <td>0</td>\n",
       "      <td>C932583850</td>\n",
       "      <td>6267</td>\n",
       "      <td>2719172</td>\n",
       "      <td>0</td>\n",
       "      <td>0</td>\n",
       "    </tr>\n",
       "    <tr>\n",
       "      <th>...</th>\n",
       "      <td>...</td>\n",
       "      <td>...</td>\n",
       "      <td>...</td>\n",
       "      <td>...</td>\n",
       "      <td>...</td>\n",
       "      <td>...</td>\n",
       "      <td>...</td>\n",
       "      <td>...</td>\n",
       "      <td>...</td>\n",
       "      <td>...</td>\n",
       "      <td>...</td>\n",
       "    </tr>\n",
       "    <tr>\n",
       "      <th>6362615</th>\n",
       "      <td>743</td>\n",
       "      <td>CASH_OUT</td>\n",
       "      <td>339682</td>\n",
       "      <td>C786484425</td>\n",
       "      <td>339682</td>\n",
       "      <td>0</td>\n",
       "      <td>C776919290</td>\n",
       "      <td>0</td>\n",
       "      <td>339682</td>\n",
       "      <td>1</td>\n",
       "      <td>0</td>\n",
       "    </tr>\n",
       "    <tr>\n",
       "      <th>6362616</th>\n",
       "      <td>743</td>\n",
       "      <td>TRANSFER</td>\n",
       "      <td>6311409</td>\n",
       "      <td>C1529008245</td>\n",
       "      <td>6311409</td>\n",
       "      <td>0</td>\n",
       "      <td>C1881841831</td>\n",
       "      <td>0</td>\n",
       "      <td>0</td>\n",
       "      <td>1</td>\n",
       "      <td>0</td>\n",
       "    </tr>\n",
       "    <tr>\n",
       "      <th>6362617</th>\n",
       "      <td>743</td>\n",
       "      <td>CASH_OUT</td>\n",
       "      <td>6311409</td>\n",
       "      <td>C1162922333</td>\n",
       "      <td>6311409</td>\n",
       "      <td>0</td>\n",
       "      <td>C1365125890</td>\n",
       "      <td>68488</td>\n",
       "      <td>6379898</td>\n",
       "      <td>1</td>\n",
       "      <td>0</td>\n",
       "    </tr>\n",
       "    <tr>\n",
       "      <th>6362618</th>\n",
       "      <td>743</td>\n",
       "      <td>TRANSFER</td>\n",
       "      <td>850002</td>\n",
       "      <td>C1685995037</td>\n",
       "      <td>850002</td>\n",
       "      <td>0</td>\n",
       "      <td>C2080388513</td>\n",
       "      <td>0</td>\n",
       "      <td>0</td>\n",
       "      <td>1</td>\n",
       "      <td>0</td>\n",
       "    </tr>\n",
       "    <tr>\n",
       "      <th>6362619</th>\n",
       "      <td>743</td>\n",
       "      <td>CASH_OUT</td>\n",
       "      <td>850002</td>\n",
       "      <td>C1280323807</td>\n",
       "      <td>850002</td>\n",
       "      <td>0</td>\n",
       "      <td>C873221189</td>\n",
       "      <td>6510099</td>\n",
       "      <td>7360101</td>\n",
       "      <td>1</td>\n",
       "      <td>0</td>\n",
       "    </tr>\n",
       "  </tbody>\n",
       "</table>\n",
       "<p>2770409 rows × 11 columns</p>\n",
       "</div>"
      ],
      "text/plain": [
       "         step      type   amount     nameOrig  oldbalanceOrg  newbalanceOrig  \\\n",
       "2           1  TRANSFER      181  C1305486145            181               0   \n",
       "3           1  CASH_OUT      181   C840083671            181               0   \n",
       "15          1  CASH_OUT   229133   C905080434          15325               0   \n",
       "19          1  TRANSFER   215310  C1670993182            705               0   \n",
       "24          1  TRANSFER   311685  C1984094095          10835               0   \n",
       "...       ...       ...      ...          ...            ...             ...   \n",
       "6362615   743  CASH_OUT   339682   C786484425         339682               0   \n",
       "6362616   743  TRANSFER  6311409  C1529008245        6311409               0   \n",
       "6362617   743  CASH_OUT  6311409  C1162922333        6311409               0   \n",
       "6362618   743  TRANSFER   850002  C1685995037         850002               0   \n",
       "6362619   743  CASH_OUT   850002  C1280323807         850002               0   \n",
       "\n",
       "            nameDest  oldbalanceDest  newbalanceDest  isFraud  isFlaggedFraud  \n",
       "2         C553264065               0               0        1               0  \n",
       "3          C38997010           21182               0        1               0  \n",
       "15        C476402209            5083           51513        0               0  \n",
       "19       C1100439041           22425               0        0               0  \n",
       "24        C932583850            6267         2719172        0               0  \n",
       "...              ...             ...             ...      ...             ...  \n",
       "6362615   C776919290               0          339682        1               0  \n",
       "6362616  C1881841831               0               0        1               0  \n",
       "6362617  C1365125890           68488         6379898        1               0  \n",
       "6362618  C2080388513               0               0        1               0  \n",
       "6362619   C873221189         6510099         7360101        1               0  \n",
       "\n",
       "[2770409 rows x 11 columns]"
      ]
     },
     "execution_count": 28,
     "metadata": {},
     "output_type": "execute_result"
    }
   ],
   "source": [
    "df1 = df[(df.type=='TRANSFER') |(df.type=='CASH_OUT')]\n",
    "df1"
   ]
  },
  {
   "cell_type": "code",
   "execution_count": 29,
   "id": "aacc4e7e",
   "metadata": {},
   "outputs": [
    {
     "data": {
      "text/plain": [
       "0    2762196\n",
       "1       8213\n",
       "Name: isFraud, dtype: int64"
      ]
     },
     "execution_count": 29,
     "metadata": {},
     "output_type": "execute_result"
    }
   ],
   "source": [
    "df1.isFraud.value_counts()"
   ]
  },
  {
   "cell_type": "markdown",
   "id": "49144a39",
   "metadata": {},
   "source": [
    "___Column 0: step column___"
   ]
  },
  {
   "cell_type": "code",
   "execution_count": 30,
   "id": "e840d8f2",
   "metadata": {
    "scrolled": true
   },
   "outputs": [
    {
     "data": {
      "text/plain": [
       "array([  1,   2,   3,   4,   5,   6,   7,   8,   9,  10,  11,  12,  13,\n",
       "        14,  15,  16,  17,  18,  19,  20,  21,  22,  23,  24,  25,  26,\n",
       "        27,  28,  29,  30,  31,  32,  33,  34,  35,  36,  37,  38,  39,\n",
       "        40,  41,  42,  43,  44,  45,  46,  47,  48,  49,  50,  51,  52,\n",
       "        53,  54,  55,  56,  57,  58,  59,  60,  61,  62,  63,  64,  65,\n",
       "        66,  67,  68,  69,  70,  71,  72,  73,  74,  75,  76,  77,  78,\n",
       "        79,  80,  81,  82,  83,  84,  85,  86,  87,  88,  89,  90,  91,\n",
       "        92,  93,  94,  95,  96,  97,  98,  99, 100, 101, 102, 103, 104,\n",
       "       105, 106, 107, 108, 109, 110, 111, 112, 113, 114, 115, 116, 117,\n",
       "       118, 119, 120, 121, 122, 123, 124, 125, 126, 127, 128, 129, 130,\n",
       "       131, 132, 133, 134, 135, 136, 137, 138, 139, 140, 141, 142, 143,\n",
       "       144, 145, 146, 147, 148, 149, 150, 151, 152, 153, 154, 155, 156,\n",
       "       157, 158, 159, 160, 161, 162, 163, 164, 165, 166, 167, 168, 169,\n",
       "       170, 171, 172, 173, 174, 175, 176, 177, 178, 179, 180, 181, 182,\n",
       "       183, 184, 185, 186, 187, 188, 189, 190, 191, 192, 193, 194, 195,\n",
       "       196, 197, 198, 199, 200, 201, 202, 203, 204, 205, 206, 207, 208,\n",
       "       209, 210, 211, 212, 213, 214, 215, 216, 217, 218, 219, 220, 221,\n",
       "       222, 223, 224, 225, 226, 227, 228, 229, 230, 231, 232, 233, 234,\n",
       "       235, 236, 237, 238, 239, 240, 241, 242, 243, 244, 245, 246, 247,\n",
       "       248, 249, 250, 251, 252, 253, 254, 255, 256, 257, 258, 259, 260,\n",
       "       261, 262, 263, 264, 265, 266, 267, 268, 269, 270, 271, 272, 273,\n",
       "       274, 275, 276, 277, 278, 279, 280, 281, 282, 283, 284, 285, 286,\n",
       "       287, 288, 289, 290, 291, 292, 293, 294, 295, 296, 297, 298, 299,\n",
       "       300, 301, 302, 303, 304, 305, 306, 307, 308, 309, 310, 311, 312,\n",
       "       313, 314, 315, 316, 317, 318, 319, 320, 321, 322, 323, 324, 325,\n",
       "       326, 327, 328, 329, 330, 331, 332, 333, 334, 335, 336, 337, 338,\n",
       "       339, 340, 341, 342, 343, 344, 345, 346, 347, 348, 349, 350, 351,\n",
       "       352, 353, 354, 355, 356, 357, 358, 359, 360, 361, 362, 363, 364,\n",
       "       365, 366, 367, 368, 369, 370, 371, 372, 373, 374, 375, 376, 377,\n",
       "       378, 379, 380, 381, 382, 383, 384, 385, 386, 387, 388, 389, 390,\n",
       "       391, 392, 393, 394, 395, 396, 397, 398, 399, 400, 401, 402, 403,\n",
       "       404, 405, 406, 407, 408, 409, 410, 411, 412, 413, 414, 415, 416,\n",
       "       417, 418, 419, 420, 421, 422, 423, 424, 425, 426, 427, 428, 429,\n",
       "       430, 431, 432, 433, 434, 435, 436, 437, 438, 439, 440, 441, 442,\n",
       "       443, 444, 445, 446, 447, 448, 449, 450, 451, 452, 453, 454, 455,\n",
       "       456, 457, 458, 459, 460, 461, 462, 463, 464, 465, 466, 467, 468,\n",
       "       469, 470, 471, 472, 473, 474, 475, 476, 477, 478, 479, 480, 481,\n",
       "       482, 483, 484, 485, 486, 487, 488, 489, 490, 491, 492, 493, 494,\n",
       "       495, 496, 497, 498, 499, 500, 501, 502, 503, 504, 505, 506, 507,\n",
       "       508, 509, 510, 511, 512, 513, 514, 515, 516, 517, 518, 519, 520,\n",
       "       521, 522, 523, 524, 525, 526, 527, 528, 529, 530, 531, 532, 533,\n",
       "       534, 535, 536, 537, 538, 539, 540, 541, 542, 543, 544, 545, 546,\n",
       "       547, 548, 549, 550, 551, 552, 553, 554, 555, 556, 557, 558, 559,\n",
       "       560, 561, 562, 563, 564, 565, 566, 567, 568, 569, 570, 571, 572,\n",
       "       573, 574, 575, 576, 577, 578, 579, 580, 581, 582, 583, 584, 585,\n",
       "       586, 587, 588, 589, 590, 591, 592, 593, 594, 595, 596, 597, 598,\n",
       "       599, 600, 601, 602, 603, 604, 605, 606, 607, 608, 609, 610, 611,\n",
       "       612, 613, 614, 615, 616, 617, 618, 619, 620, 621, 622, 623, 624,\n",
       "       625, 626, 627, 628, 629, 630, 631, 632, 633, 634, 635, 636, 637,\n",
       "       638, 639, 640, 641, 642, 643, 644, 645, 646, 647, 648, 649, 650,\n",
       "       651, 652, 653, 654, 655, 656, 657, 658, 659, 660, 661, 662, 663,\n",
       "       664, 665, 666, 667, 668, 669, 670, 671, 672, 673, 674, 675, 676,\n",
       "       677, 678, 679, 680, 681, 682, 683, 684, 685, 686, 687, 688, 689,\n",
       "       690, 691, 692, 693, 694, 695, 696, 697, 698, 699, 700, 701, 702,\n",
       "       703, 704, 705, 706, 707, 708, 709, 710, 711, 712, 713, 714, 715,\n",
       "       716, 717, 718, 719, 720, 721, 722, 723, 724, 725, 726, 727, 728,\n",
       "       729, 730, 731, 732, 733, 734, 735, 736, 737, 738, 739, 740, 741,\n",
       "       742, 743])"
      ]
     },
     "execution_count": 30,
     "metadata": {},
     "output_type": "execute_result"
    }
   ],
   "source": [
    "df1.step.unique() #Unique values in step column"
   ]
  },
  {
   "cell_type": "code",
   "execution_count": 31,
   "id": "d87237e2",
   "metadata": {},
   "outputs": [
    {
     "data": {
      "text/plain": [
       "19     23768\n",
       "18     23330\n",
       "187    22546\n",
       "235    22200\n",
       "139    21559\n",
       "       ...  \n",
       "28         4\n",
       "693        4\n",
       "54         4\n",
       "662        2\n",
       "112        2\n",
       "Name: step, Length: 743, dtype: int64"
      ]
     },
     "execution_count": 31,
     "metadata": {},
     "output_type": "execute_result"
    }
   ],
   "source": [
    "df1.step.value_counts() #checking value counts for step column"
   ]
  },
  {
   "cell_type": "markdown",
   "id": "5ac9900d",
   "metadata": {},
   "source": [
    "    We will Plot the step column vs count and find the distribution of values. "
   ]
  },
  {
   "cell_type": "code",
   "execution_count": 32,
   "id": "9055d37c",
   "metadata": {},
   "outputs": [
    {
     "data": {
      "image/png": "[encoded data removed]",
      "text/plain": [
       "<Figure size 432x288 with 1 Axes>"
      ]
     },
     "metadata": {
      "needs_background": "light"
     },
     "output_type": "display_data"
    }
   ],
   "source": [
    "plt.hist(df1.step, bins=20, rwidth=0.8)\n",
    "plt.xlabel('step')\n",
    "plt.ylabel('Count')\n",
    "plt.show()"
   ]
  },
  {
   "cell_type": "markdown",
   "id": "121c4f2f",
   "metadata": {},
   "source": [
    "    step column will be dropped further"
   ]
  },
  {
   "cell_type": "markdown",
   "id": "cf4ba5ee",
   "metadata": {},
   "source": [
    "___Column 1 : type column___"
   ]
  },
  {
   "cell_type": "code",
   "execution_count": 33,
   "id": "7210b2d4",
   "metadata": {},
   "outputs": [
    {
     "data": {
      "text/plain": [
       "CASH_OUT    2237500\n",
       "TRANSFER     532909\n",
       "Name: type, dtype: int64"
      ]
     },
     "execution_count": 33,
     "metadata": {},
     "output_type": "execute_result"
    }
   ],
   "source": [
    "df1.type.value_counts() # Exploring the type column"
   ]
  },
  {
   "cell_type": "markdown",
   "id": "e685c807",
   "metadata": {},
   "source": [
    "    Type columns contains 2 categories of dtype as object. \n",
    "    Converting them to discrete values of 1 and 0 using One-Hot-Encoding."
   ]
  },
  {
   "cell_type": "code",
   "execution_count": 34,
   "id": "bccdb16d",
   "metadata": {},
   "outputs": [
    {
     "data": {
      "text/html": [
       "<div>\n",
       "<style scoped>\n",
       "    .dataframe tbody tr th:only-of-type {\n",
       "        vertical-align: middle;\n",
       "    }\n",
       "\n",
       "    .dataframe tbody tr th {\n",
       "        vertical-align: top;\n",
       "    }\n",
       "\n",
       "    .dataframe thead th {\n",
       "        text-align: right;\n",
       "    }\n",
       "</style>\n",
       "<table border=\"1\" class=\"dataframe\">\n",
       "  <thead>\n",
       "    <tr style=\"text-align: right;\">\n",
       "      <th></th>\n",
       "      <th>CASH_OUT</th>\n",
       "      <th>TRANSFER</th>\n",
       "    </tr>\n",
       "  </thead>\n",
       "  <tbody>\n",
       "    <tr>\n",
       "      <th>2</th>\n",
       "      <td>0</td>\n",
       "      <td>1</td>\n",
       "    </tr>\n",
       "    <tr>\n",
       "      <th>3</th>\n",
       "      <td>1</td>\n",
       "      <td>0</td>\n",
       "    </tr>\n",
       "    <tr>\n",
       "      <th>15</th>\n",
       "      <td>1</td>\n",
       "      <td>0</td>\n",
       "    </tr>\n",
       "    <tr>\n",
       "      <th>19</th>\n",
       "      <td>0</td>\n",
       "      <td>1</td>\n",
       "    </tr>\n",
       "    <tr>\n",
       "      <th>24</th>\n",
       "      <td>0</td>\n",
       "      <td>1</td>\n",
       "    </tr>\n",
       "  </tbody>\n",
       "</table>\n",
       "</div>"
      ],
      "text/plain": [
       "    CASH_OUT  TRANSFER\n",
       "2          0         1\n",
       "3          1         0\n",
       "15         1         0\n",
       "19         0         1\n",
       "24         0         1"
      ]
     },
     "execution_count": 34,
     "metadata": {},
     "output_type": "execute_result"
    }
   ],
   "source": [
    "dummies = pd.get_dummies(df1.type)\n",
    "dummies.head()"
   ]
  },
  {
   "cell_type": "code",
   "execution_count": 35,
   "id": "031dff0d",
   "metadata": {},
   "outputs": [
    {
     "data": {
      "text/html": [
       "<div>\n",
       "<style scoped>\n",
       "    .dataframe tbody tr th:only-of-type {\n",
       "        vertical-align: middle;\n",
       "    }\n",
       "\n",
       "    .dataframe tbody tr th {\n",
       "        vertical-align: top;\n",
       "    }\n",
       "\n",
       "    .dataframe thead th {\n",
       "        text-align: right;\n",
       "    }\n",
       "</style>\n",
       "<table border=\"1\" class=\"dataframe\">\n",
       "  <thead>\n",
       "    <tr style=\"text-align: right;\">\n",
       "      <th></th>\n",
       "      <th>step</th>\n",
       "      <th>type</th>\n",
       "      <th>amount</th>\n",
       "      <th>nameOrig</th>\n",
       "      <th>oldbalanceOrg</th>\n",
       "      <th>newbalanceOrig</th>\n",
       "      <th>nameDest</th>\n",
       "      <th>oldbalanceDest</th>\n",
       "      <th>newbalanceDest</th>\n",
       "      <th>isFraud</th>\n",
       "      <th>isFlaggedFraud</th>\n",
       "      <th>CASH_OUT</th>\n",
       "      <th>TRANSFER</th>\n",
       "    </tr>\n",
       "  </thead>\n",
       "  <tbody>\n",
       "    <tr>\n",
       "      <th>2</th>\n",
       "      <td>1</td>\n",
       "      <td>TRANSFER</td>\n",
       "      <td>181</td>\n",
       "      <td>C1305486145</td>\n",
       "      <td>181</td>\n",
       "      <td>0</td>\n",
       "      <td>C553264065</td>\n",
       "      <td>0</td>\n",
       "      <td>0</td>\n",
       "      <td>1</td>\n",
       "      <td>0</td>\n",
       "      <td>0</td>\n",
       "      <td>1</td>\n",
       "    </tr>\n",
       "    <tr>\n",
       "      <th>3</th>\n",
       "      <td>1</td>\n",
       "      <td>CASH_OUT</td>\n",
       "      <td>181</td>\n",
       "      <td>C840083671</td>\n",
       "      <td>181</td>\n",
       "      <td>0</td>\n",
       "      <td>C38997010</td>\n",
       "      <td>21182</td>\n",
       "      <td>0</td>\n",
       "      <td>1</td>\n",
       "      <td>0</td>\n",
       "      <td>1</td>\n",
       "      <td>0</td>\n",
       "    </tr>\n",
       "    <tr>\n",
       "      <th>15</th>\n",
       "      <td>1</td>\n",
       "      <td>CASH_OUT</td>\n",
       "      <td>229133</td>\n",
       "      <td>C905080434</td>\n",
       "      <td>15325</td>\n",
       "      <td>0</td>\n",
       "      <td>C476402209</td>\n",
       "      <td>5083</td>\n",
       "      <td>51513</td>\n",
       "      <td>0</td>\n",
       "      <td>0</td>\n",
       "      <td>1</td>\n",
       "      <td>0</td>\n",
       "    </tr>\n",
       "    <tr>\n",
       "      <th>19</th>\n",
       "      <td>1</td>\n",
       "      <td>TRANSFER</td>\n",
       "      <td>215310</td>\n",
       "      <td>C1670993182</td>\n",
       "      <td>705</td>\n",
       "      <td>0</td>\n",
       "      <td>C1100439041</td>\n",
       "      <td>22425</td>\n",
       "      <td>0</td>\n",
       "      <td>0</td>\n",
       "      <td>0</td>\n",
       "      <td>0</td>\n",
       "      <td>1</td>\n",
       "    </tr>\n",
       "    <tr>\n",
       "      <th>24</th>\n",
       "      <td>1</td>\n",
       "      <td>TRANSFER</td>\n",
       "      <td>311685</td>\n",
       "      <td>C1984094095</td>\n",
       "      <td>10835</td>\n",
       "      <td>0</td>\n",
       "      <td>C932583850</td>\n",
       "      <td>6267</td>\n",
       "      <td>2719172</td>\n",
       "      <td>0</td>\n",
       "      <td>0</td>\n",
       "      <td>0</td>\n",
       "      <td>1</td>\n",
       "    </tr>\n",
       "  </tbody>\n",
       "</table>\n",
       "</div>"
      ],
      "text/plain": [
       "    step      type  amount     nameOrig  oldbalanceOrg  newbalanceOrig  \\\n",
       "2      1  TRANSFER     181  C1305486145            181               0   \n",
       "3      1  CASH_OUT     181   C840083671            181               0   \n",
       "15     1  CASH_OUT  229133   C905080434          15325               0   \n",
       "19     1  TRANSFER  215310  C1670993182            705               0   \n",
       "24     1  TRANSFER  311685  C1984094095          10835               0   \n",
       "\n",
       "       nameDest  oldbalanceDest  newbalanceDest  isFraud  isFlaggedFraud  \\\n",
       "2    C553264065               0               0        1               0   \n",
       "3     C38997010           21182               0        1               0   \n",
       "15   C476402209            5083           51513        0               0   \n",
       "19  C1100439041           22425               0        0               0   \n",
       "24   C932583850            6267         2719172        0               0   \n",
       "\n",
       "    CASH_OUT  TRANSFER  \n",
       "2          0         1  \n",
       "3          1         0  \n",
       "15         1         0  \n",
       "19         0         1  \n",
       "24         0         1  "
      ]
     },
     "execution_count": 35,
     "metadata": {},
     "output_type": "execute_result"
    }
   ],
   "source": [
    "df2 = pd.concat([df1,dummies], axis = 'columns')\n",
    "df2.head()"
   ]
  },
  {
   "cell_type": "markdown",
   "id": "830a3388",
   "metadata": {},
   "source": [
    "__Data Cleaning__"
   ]
  },
  {
   "cell_type": "markdown",
   "id": "578a6b42",
   "metadata": {},
   "source": [
    "___column: isFraud and isFlaggedFraud column___"
   ]
  },
  {
   "cell_type": "code",
   "execution_count": 36,
   "id": "f1a1c023",
   "metadata": {
    "scrolled": true
   },
   "outputs": [
    {
     "data": {
      "text/plain": [
       "0    2762196\n",
       "1       8213\n",
       "Name: isFraud, dtype: int64"
      ]
     },
     "execution_count": 36,
     "metadata": {},
     "output_type": "execute_result"
    }
   ],
   "source": [
    "df2.isFraud.value_counts()"
   ]
  },
  {
   "cell_type": "markdown",
   "id": "b04103ea",
   "metadata": {},
   "source": [
    "    Using isFraud as a target column"
   ]
  },
  {
   "cell_type": "code",
   "execution_count": 37,
   "id": "18b602b0",
   "metadata": {
    "scrolled": true
   },
   "outputs": [
    {
     "data": {
      "text/plain": [
       "0    2770393\n",
       "1         16\n",
       "Name: isFlaggedFraud, dtype: int64"
      ]
     },
     "execution_count": 37,
     "metadata": {},
     "output_type": "execute_result"
    }
   ],
   "source": [
    "df2.isFlaggedFraud.value_counts() "
   ]
  },
  {
   "cell_type": "markdown",
   "id": "21c324cb",
   "metadata": {},
   "source": [
    "    isFlaggedFraud contains very less values of 1 as compared to 0. \n",
    "    It would not affect the training set. \n",
    "    Balancing this values might reduce down the 0 or increase 1 to much greater extent.\n",
    "    Dropping 'isFlaggedFraud' column and observe the results."
   ]
  },
  {
   "cell_type": "markdown",
   "id": "7e4869b0",
   "metadata": {},
   "source": [
    "The following columns will be dropped:\n",
    "\n",
    "    1. 'type': column converted to dummies.\n",
    "    2. 'TRANSFER': dropping this column to avoid the dummy variable trap.\n",
    "    3. nameOrig- contains ID \n",
    "    4. nameDest- contains ID \n",
    "    5. step - This column does not affect the output. \n",
    "    \n",
    "    "
   ]
  },
  {
   "cell_type": "code",
   "execution_count": 38,
   "id": "78f348af",
   "metadata": {},
   "outputs": [
    {
     "data": {
      "text/html": [
       "<div>\n",
       "<style scoped>\n",
       "    .dataframe tbody tr th:only-of-type {\n",
       "        vertical-align: middle;\n",
       "    }\n",
       "\n",
       "    .dataframe tbody tr th {\n",
       "        vertical-align: top;\n",
       "    }\n",
       "\n",
       "    .dataframe thead th {\n",
       "        text-align: right;\n",
       "    }\n",
       "</style>\n",
       "<table border=\"1\" class=\"dataframe\">\n",
       "  <thead>\n",
       "    <tr style=\"text-align: right;\">\n",
       "      <th></th>\n",
       "      <th>amount</th>\n",
       "      <th>oldbalanceOrg</th>\n",
       "      <th>newbalanceOrig</th>\n",
       "      <th>oldbalanceDest</th>\n",
       "      <th>newbalanceDest</th>\n",
       "      <th>isFraud</th>\n",
       "      <th>CASH_OUT</th>\n",
       "    </tr>\n",
       "  </thead>\n",
       "  <tbody>\n",
       "    <tr>\n",
       "      <th>2</th>\n",
       "      <td>181</td>\n",
       "      <td>181</td>\n",
       "      <td>0</td>\n",
       "      <td>0</td>\n",
       "      <td>0</td>\n",
       "      <td>1</td>\n",
       "      <td>0</td>\n",
       "    </tr>\n",
       "    <tr>\n",
       "      <th>3</th>\n",
       "      <td>181</td>\n",
       "      <td>181</td>\n",
       "      <td>0</td>\n",
       "      <td>21182</td>\n",
       "      <td>0</td>\n",
       "      <td>1</td>\n",
       "      <td>1</td>\n",
       "    </tr>\n",
       "    <tr>\n",
       "      <th>15</th>\n",
       "      <td>229133</td>\n",
       "      <td>15325</td>\n",
       "      <td>0</td>\n",
       "      <td>5083</td>\n",
       "      <td>51513</td>\n",
       "      <td>0</td>\n",
       "      <td>1</td>\n",
       "    </tr>\n",
       "    <tr>\n",
       "      <th>19</th>\n",
       "      <td>215310</td>\n",
       "      <td>705</td>\n",
       "      <td>0</td>\n",
       "      <td>22425</td>\n",
       "      <td>0</td>\n",
       "      <td>0</td>\n",
       "      <td>0</td>\n",
       "    </tr>\n",
       "    <tr>\n",
       "      <th>24</th>\n",
       "      <td>311685</td>\n",
       "      <td>10835</td>\n",
       "      <td>0</td>\n",
       "      <td>6267</td>\n",
       "      <td>2719172</td>\n",
       "      <td>0</td>\n",
       "      <td>0</td>\n",
       "    </tr>\n",
       "    <tr>\n",
       "      <th>...</th>\n",
       "      <td>...</td>\n",
       "      <td>...</td>\n",
       "      <td>...</td>\n",
       "      <td>...</td>\n",
       "      <td>...</td>\n",
       "      <td>...</td>\n",
       "      <td>...</td>\n",
       "    </tr>\n",
       "    <tr>\n",
       "      <th>6362615</th>\n",
       "      <td>339682</td>\n",
       "      <td>339682</td>\n",
       "      <td>0</td>\n",
       "      <td>0</td>\n",
       "      <td>339682</td>\n",
       "      <td>1</td>\n",
       "      <td>1</td>\n",
       "    </tr>\n",
       "    <tr>\n",
       "      <th>6362616</th>\n",
       "      <td>6311409</td>\n",
       "      <td>6311409</td>\n",
       "      <td>0</td>\n",
       "      <td>0</td>\n",
       "      <td>0</td>\n",
       "      <td>1</td>\n",
       "      <td>0</td>\n",
       "    </tr>\n",
       "    <tr>\n",
       "      <th>6362617</th>\n",
       "      <td>6311409</td>\n",
       "      <td>6311409</td>\n",
       "      <td>0</td>\n",
       "      <td>68488</td>\n",
       "      <td>6379898</td>\n",
       "      <td>1</td>\n",
       "      <td>1</td>\n",
       "    </tr>\n",
       "    <tr>\n",
       "      <th>6362618</th>\n",
       "      <td>850002</td>\n",
       "      <td>850002</td>\n",
       "      <td>0</td>\n",
       "      <td>0</td>\n",
       "      <td>0</td>\n",
       "      <td>1</td>\n",
       "      <td>0</td>\n",
       "    </tr>\n",
       "    <tr>\n",
       "      <th>6362619</th>\n",
       "      <td>850002</td>\n",
       "      <td>850002</td>\n",
       "      <td>0</td>\n",
       "      <td>6510099</td>\n",
       "      <td>7360101</td>\n",
       "      <td>1</td>\n",
       "      <td>1</td>\n",
       "    </tr>\n",
       "  </tbody>\n",
       "</table>\n",
       "<p>2770409 rows × 7 columns</p>\n",
       "</div>"
      ],
      "text/plain": [
       "          amount  oldbalanceOrg  newbalanceOrig  oldbalanceDest  \\\n",
       "2            181            181               0               0   \n",
       "3            181            181               0           21182   \n",
       "15        229133          15325               0            5083   \n",
       "19        215310            705               0           22425   \n",
       "24        311685          10835               0            6267   \n",
       "...          ...            ...             ...             ...   \n",
       "6362615   339682         339682               0               0   \n",
       "6362616  6311409        6311409               0               0   \n",
       "6362617  6311409        6311409               0           68488   \n",
       "6362618   850002         850002               0               0   \n",
       "6362619   850002         850002               0         6510099   \n",
       "\n",
       "         newbalanceDest  isFraud  CASH_OUT  \n",
       "2                     0        1         0  \n",
       "3                     0        1         1  \n",
       "15                51513        0         1  \n",
       "19                    0        0         0  \n",
       "24              2719172        0         0  \n",
       "...                 ...      ...       ...  \n",
       "6362615          339682        1         1  \n",
       "6362616               0        1         0  \n",
       "6362617         6379898        1         1  \n",
       "6362618               0        1         0  \n",
       "6362619         7360101        1         1  \n",
       "\n",
       "[2770409 rows x 7 columns]"
      ]
     },
     "execution_count": 38,
     "metadata": {},
     "output_type": "execute_result"
    }
   ],
   "source": [
    "df3 = df2.drop(['type','TRANSFER','nameOrig','nameDest','step','isFlaggedFraud'], axis = 'columns')\n",
    "df3"
   ]
  },
  {
   "cell_type": "markdown",
   "id": "6f6232e0",
   "metadata": {},
   "source": [
    "__Detecting the reason of frauds__"
   ]
  },
  {
   "cell_type": "code",
   "execution_count": 39,
   "id": "b9587b94",
   "metadata": {},
   "outputs": [],
   "source": [
    "fraudDS = df3[df3.isFraud==1]"
   ]
  },
  {
   "cell_type": "code",
   "execution_count": 40,
   "id": "8e3cdc83",
   "metadata": {},
   "outputs": [],
   "source": [
    "nofraudDS = df3[df3.isFraud==0]"
   ]
  },
  {
   "cell_type": "code",
   "execution_count": 41,
   "id": "df7c4d6d",
   "metadata": {},
   "outputs": [
    {
     "data": {
      "text/plain": [
       "(8213, 7)"
      ]
     },
     "execution_count": 41,
     "metadata": {},
     "output_type": "execute_result"
    }
   ],
   "source": [
    "fraudDS.shape # total fraud cases"
   ]
  },
  {
   "cell_type": "code",
   "execution_count": 42,
   "id": "537ffaf5",
   "metadata": {},
   "outputs": [
    {
     "data": {
      "text/plain": [
       "(2762196, 7)"
      ]
     },
     "execution_count": 42,
     "metadata": {},
     "output_type": "execute_result"
    }
   ],
   "source": [
    "nofraudDS.shape #total no fraud cases"
   ]
  },
  {
   "cell_type": "code",
   "execution_count": 43,
   "id": "9a068b66",
   "metadata": {},
   "outputs": [
    {
     "data": {
      "text/plain": [
       "(8034, 7)"
      ]
     },
     "execution_count": 43,
     "metadata": {},
     "output_type": "execute_result"
    }
   ],
   "source": [
    "fraudDS[fraudDS.amount==fraudDS.oldbalanceOrg].shape\n",
    "# All the oldbalanceOrg amount was transacted when the transaction was fraud in 8034 out of 8213 cases."
   ]
  },
  {
   "cell_type": "code",
   "execution_count": 44,
   "id": "73c1c9fd",
   "metadata": {},
   "outputs": [
    {
     "data": {
      "text/plain": [
       "(8053, 7)"
      ]
     },
     "execution_count": 44,
     "metadata": {},
     "output_type": "execute_result"
    }
   ],
   "source": [
    "fraudDS[fraudDS.newbalanceOrig==0].shape\n",
    "# 8053 out of 8213 times newbalanceOrig is 0 as all amount was removed."
   ]
  },
  {
   "cell_type": "code",
   "execution_count": 45,
   "id": "bd304cde",
   "metadata": {},
   "outputs": [
    {
     "data": {
      "text/plain": [
       "(160, 7)"
      ]
     },
     "execution_count": 45,
     "metadata": {},
     "output_type": "execute_result"
    }
   ],
   "source": [
    "fraudDS[fraudDS.newbalanceOrig!=0].shape"
   ]
  },
  {
   "cell_type": "code",
   "execution_count": 46,
   "id": "ca805b13",
   "metadata": {},
   "outputs": [
    {
     "data": {
      "text/plain": [
       "count    1.600000e+02\n",
       "mean     9.875754e+06\n",
       "std      1.016499e+07\n",
       "min      1.755970e+05\n",
       "25%      2.604515e+06\n",
       "50%      5.793376e+06\n",
       "75%      1.447791e+07\n",
       "max      4.958504e+07\n",
       "Name: newbalanceOrig, dtype: float64"
      ]
     },
     "execution_count": 46,
     "metadata": {},
     "output_type": "execute_result"
    }
   ],
   "source": [
    "# For 160 values not equal to 0 ,lets find the reason behind this stats.\n",
    "fraudDS[fraudDS.newbalanceOrig!=0].newbalanceOrig.describe()"
   ]
  },
  {
   "cell_type": "code",
   "execution_count": 47,
   "id": "06bab891",
   "metadata": {},
   "outputs": [
    {
     "data": {
      "text/html": [
       "<div>\n",
       "<style scoped>\n",
       "    .dataframe tbody tr th:only-of-type {\n",
       "        vertical-align: middle;\n",
       "    }\n",
       "\n",
       "    .dataframe tbody tr th {\n",
       "        vertical-align: top;\n",
       "    }\n",
       "\n",
       "    .dataframe thead th {\n",
       "        text-align: right;\n",
       "    }\n",
       "</style>\n",
       "<table border=\"1\" class=\"dataframe\">\n",
       "  <thead>\n",
       "    <tr style=\"text-align: right;\">\n",
       "      <th></th>\n",
       "      <th>amount</th>\n",
       "      <th>oldbalanceOrg</th>\n",
       "      <th>newbalanceOrig</th>\n",
       "      <th>oldbalanceDest</th>\n",
       "      <th>newbalanceDest</th>\n",
       "      <th>isFraud</th>\n",
       "      <th>CASH_OUT</th>\n",
       "    </tr>\n",
       "  </thead>\n",
       "  <tbody>\n",
       "    <tr>\n",
       "      <th>4440</th>\n",
       "      <td>10000000</td>\n",
       "      <td>12930418</td>\n",
       "      <td>2930418</td>\n",
       "      <td>0</td>\n",
       "      <td>0</td>\n",
       "      <td>1</td>\n",
       "      <td>0</td>\n",
       "    </tr>\n",
       "    <tr>\n",
       "      <th>60853</th>\n",
       "      <td>994453</td>\n",
       "      <td>1437370</td>\n",
       "      <td>442917</td>\n",
       "      <td>194812</td>\n",
       "      <td>665743</td>\n",
       "      <td>1</td>\n",
       "      <td>0</td>\n",
       "    </tr>\n",
       "    <tr>\n",
       "      <th>481250</th>\n",
       "      <td>10000000</td>\n",
       "      <td>11861008</td>\n",
       "      <td>1861008</td>\n",
       "      <td>0</td>\n",
       "      <td>0</td>\n",
       "      <td>1</td>\n",
       "      <td>0</td>\n",
       "    </tr>\n",
       "    <tr>\n",
       "      <th>586311</th>\n",
       "      <td>10000000</td>\n",
       "      <td>19887819</td>\n",
       "      <td>9887819</td>\n",
       "      <td>0</td>\n",
       "      <td>0</td>\n",
       "      <td>1</td>\n",
       "      <td>0</td>\n",
       "    </tr>\n",
       "    <tr>\n",
       "      <th>1030559</th>\n",
       "      <td>10000000</td>\n",
       "      <td>18594065</td>\n",
       "      <td>8594065</td>\n",
       "      <td>0</td>\n",
       "      <td>0</td>\n",
       "      <td>1</td>\n",
       "      <td>0</td>\n",
       "    </tr>\n",
       "    <tr>\n",
       "      <th>...</th>\n",
       "      <td>...</td>\n",
       "      <td>...</td>\n",
       "      <td>...</td>\n",
       "      <td>...</td>\n",
       "      <td>...</td>\n",
       "      <td>...</td>\n",
       "      <td>...</td>\n",
       "    </tr>\n",
       "    <tr>\n",
       "      <th>6362576</th>\n",
       "      <td>10000000</td>\n",
       "      <td>45674547</td>\n",
       "      <td>35674547</td>\n",
       "      <td>0</td>\n",
       "      <td>0</td>\n",
       "      <td>1</td>\n",
       "      <td>0</td>\n",
       "    </tr>\n",
       "    <tr>\n",
       "      <th>6362578</th>\n",
       "      <td>10000000</td>\n",
       "      <td>35674547</td>\n",
       "      <td>25674547</td>\n",
       "      <td>0</td>\n",
       "      <td>0</td>\n",
       "      <td>1</td>\n",
       "      <td>0</td>\n",
       "    </tr>\n",
       "    <tr>\n",
       "      <th>6362580</th>\n",
       "      <td>10000000</td>\n",
       "      <td>25674547</td>\n",
       "      <td>15674547</td>\n",
       "      <td>0</td>\n",
       "      <td>0</td>\n",
       "      <td>1</td>\n",
       "      <td>0</td>\n",
       "    </tr>\n",
       "    <tr>\n",
       "      <th>6362582</th>\n",
       "      <td>10000000</td>\n",
       "      <td>15674547</td>\n",
       "      <td>5674547</td>\n",
       "      <td>0</td>\n",
       "      <td>0</td>\n",
       "      <td>1</td>\n",
       "      <td>0</td>\n",
       "    </tr>\n",
       "    <tr>\n",
       "      <th>6362584</th>\n",
       "      <td>5674547</td>\n",
       "      <td>5674547</td>\n",
       "      <td>5674547</td>\n",
       "      <td>0</td>\n",
       "      <td>0</td>\n",
       "      <td>1</td>\n",
       "      <td>0</td>\n",
       "    </tr>\n",
       "  </tbody>\n",
       "</table>\n",
       "<p>159 rows × 7 columns</p>\n",
       "</div>"
      ],
      "text/plain": [
       "           amount  oldbalanceOrg  newbalanceOrig  oldbalanceDest  \\\n",
       "4440     10000000       12930418         2930418               0   \n",
       "60853      994453        1437370          442917          194812   \n",
       "481250   10000000       11861008         1861008               0   \n",
       "586311   10000000       19887819         9887819               0   \n",
       "1030559  10000000       18594065         8594065               0   \n",
       "...           ...            ...             ...             ...   \n",
       "6362576  10000000       45674547        35674547               0   \n",
       "6362578  10000000       35674547        25674547               0   \n",
       "6362580  10000000       25674547        15674547               0   \n",
       "6362582  10000000       15674547         5674547               0   \n",
       "6362584   5674547        5674547         5674547               0   \n",
       "\n",
       "         newbalanceDest  isFraud  CASH_OUT  \n",
       "4440                  0        1         0  \n",
       "60853            665743        1         0  \n",
       "481250                0        1         0  \n",
       "586311                0        1         0  \n",
       "1030559               0        1         0  \n",
       "...                 ...      ...       ...  \n",
       "6362576               0        1         0  \n",
       "6362578               0        1         0  \n",
       "6362580               0        1         0  \n",
       "6362582               0        1         0  \n",
       "6362584               0        1         0  \n",
       "\n",
       "[159 rows x 7 columns]"
      ]
     },
     "execution_count": 47,
     "metadata": {},
     "output_type": "execute_result"
    }
   ],
   "source": [
    "(fraudDS[fraudDS.newbalanceOrig!=0])[fraudDS.amount>200000]\n",
    "# For 159 out of 160 times when newbalanceOrig values not equal to 0 : the amount was > 200000 & the transaction was fraud."
   ]
  },
  {
   "cell_type": "code",
   "execution_count": 48,
   "id": "2ecb6409",
   "metadata": {},
   "outputs": [
    {
     "data": {
      "text/html": [
       "<div>\n",
       "<style scoped>\n",
       "    .dataframe tbody tr th:only-of-type {\n",
       "        vertical-align: middle;\n",
       "    }\n",
       "\n",
       "    .dataframe tbody tr th {\n",
       "        vertical-align: top;\n",
       "    }\n",
       "\n",
       "    .dataframe thead th {\n",
       "        text-align: right;\n",
       "    }\n",
       "</style>\n",
       "<table border=\"1\" class=\"dataframe\">\n",
       "  <thead>\n",
       "    <tr style=\"text-align: right;\">\n",
       "      <th></th>\n",
       "      <th>amount</th>\n",
       "      <th>oldbalanceOrg</th>\n",
       "      <th>newbalanceOrig</th>\n",
       "      <th>oldbalanceDest</th>\n",
       "      <th>newbalanceDest</th>\n",
       "      <th>isFraud</th>\n",
       "      <th>CASH_OUT</th>\n",
       "    </tr>\n",
       "  </thead>\n",
       "  <tbody>\n",
       "    <tr>\n",
       "      <th>377151</th>\n",
       "      <td>42062</td>\n",
       "      <td>340830</td>\n",
       "      <td>298767</td>\n",
       "      <td>398931</td>\n",
       "      <td>678419</td>\n",
       "      <td>1</td>\n",
       "      <td>1</td>\n",
       "    </tr>\n",
       "  </tbody>\n",
       "</table>\n",
       "</div>"
      ],
      "text/plain": [
       "        amount  oldbalanceOrg  newbalanceOrig  oldbalanceDest  newbalanceDest  \\\n",
       "377151   42062         340830          298767          398931          678419   \n",
       "\n",
       "        isFraud  CASH_OUT  \n",
       "377151        1         1  "
      ]
     },
     "execution_count": 48,
     "metadata": {},
     "output_type": "execute_result"
    }
   ],
   "source": [
    "(fraudDS[fraudDS.newbalanceOrig!=0])[fraudDS.amount<200000]\n",
    "# 1 out of 160 case that was termed as fraud with amount < 200000"
   ]
  },
  {
   "cell_type": "code",
   "execution_count": 49,
   "id": "c139af0c",
   "metadata": {},
   "outputs": [
    {
     "data": {
      "text/plain": [
       "(4122, 7)"
      ]
     },
     "execution_count": 49,
     "metadata": {},
     "output_type": "execute_result"
    }
   ],
   "source": [
    "fraudDS[fraudDS.newbalanceDest<fraudDS.amount].shape\n",
    "# 4122 out of 8213 times newbalanceDest was less than amount transacted."
   ]
  },
  {
   "cell_type": "code",
   "execution_count": 50,
   "id": "93791381",
   "metadata": {},
   "outputs": [
    {
     "data": {
      "text/plain": [
       "(4085, 7)"
      ]
     },
     "execution_count": 50,
     "metadata": {},
     "output_type": "execute_result"
    }
   ],
   "source": [
    "fraudDS[(fraudDS.newbalanceDest==0) & (fraudDS.amount!=0)].shape"
   ]
  },
  {
   "cell_type": "code",
   "execution_count": 51,
   "id": "ee6f5a07",
   "metadata": {},
   "outputs": [
    {
     "data": {
      "text/plain": [
       "0.4973821989528796"
      ]
     },
     "execution_count": 51,
     "metadata": {},
     "output_type": "execute_result"
    }
   ],
   "source": [
    "4085/8213 # 50% cases newbalanceDest==0 when amount!=0 for fraud "
   ]
  },
  {
   "cell_type": "code",
   "execution_count": 52,
   "id": "8a2415c5",
   "metadata": {},
   "outputs": [
    {
     "data": {
      "text/plain": [
       "(4070, 7)"
      ]
     },
     "execution_count": 52,
     "metadata": {},
     "output_type": "execute_result"
    }
   ],
   "source": [
    "fraudDS[(fraudDS.newbalanceDest==0) &(fraudDS.oldbalanceDest==0)& (fraudDS.amount!=0)].shape"
   ]
  },
  {
   "cell_type": "code",
   "execution_count": 53,
   "id": "f1c60e63",
   "metadata": {},
   "outputs": [
    {
     "data": {
      "text/plain": [
       "0.4955558261293072"
      ]
     },
     "execution_count": 53,
     "metadata": {},
     "output_type": "execute_result"
    }
   ],
   "source": [
    "4070/8213"
   ]
  },
  {
   "cell_type": "code",
   "execution_count": 54,
   "id": "c18d7b6e",
   "metadata": {},
   "outputs": [
    {
     "data": {
      "text/plain": [
       "(25, 7)"
      ]
     },
     "execution_count": 54,
     "metadata": {},
     "output_type": "execute_result"
    }
   ],
   "source": [
    "fraudDS[(fraudDS.oldbalanceOrg==0) &(fraudDS.newbalanceOrig==0)& (fraudDS.amount!=0)].shape"
   ]
  },
  {
   "cell_type": "code",
   "execution_count": 55,
   "id": "26df1b7c",
   "metadata": {},
   "outputs": [
    {
     "data": {
      "text/plain": [
       "0.30439547059539757"
      ]
     },
     "execution_count": 55,
     "metadata": {},
     "output_type": "execute_result"
    }
   ],
   "source": [
    "25/8213*100 "
   ]
  },
  {
   "cell_type": "code",
   "execution_count": 56,
   "id": "9600a42b",
   "metadata": {},
   "outputs": [
    {
     "data": {
      "text/html": [
       "<div>\n",
       "<style scoped>\n",
       "    .dataframe tbody tr th:only-of-type {\n",
       "        vertical-align: middle;\n",
       "    }\n",
       "\n",
       "    .dataframe tbody tr th {\n",
       "        vertical-align: top;\n",
       "    }\n",
       "\n",
       "    .dataframe thead th {\n",
       "        text-align: right;\n",
       "    }\n",
       "</style>\n",
       "<table border=\"1\" class=\"dataframe\">\n",
       "  <thead>\n",
       "    <tr style=\"text-align: right;\">\n",
       "      <th></th>\n",
       "      <th>amount</th>\n",
       "      <th>oldbalanceOrg</th>\n",
       "      <th>newbalanceOrig</th>\n",
       "      <th>oldbalanceDest</th>\n",
       "      <th>newbalanceDest</th>\n",
       "      <th>isFraud</th>\n",
       "      <th>CASH_OUT</th>\n",
       "    </tr>\n",
       "  </thead>\n",
       "  <tbody>\n",
       "    <tr>\n",
       "      <th>2</th>\n",
       "      <td>181</td>\n",
       "      <td>181</td>\n",
       "      <td>0</td>\n",
       "      <td>0</td>\n",
       "      <td>0</td>\n",
       "      <td>1</td>\n",
       "      <td>0</td>\n",
       "    </tr>\n",
       "    <tr>\n",
       "      <th>3</th>\n",
       "      <td>181</td>\n",
       "      <td>181</td>\n",
       "      <td>0</td>\n",
       "      <td>21182</td>\n",
       "      <td>0</td>\n",
       "      <td>1</td>\n",
       "      <td>1</td>\n",
       "    </tr>\n",
       "    <tr>\n",
       "      <th>251</th>\n",
       "      <td>2806</td>\n",
       "      <td>2806</td>\n",
       "      <td>0</td>\n",
       "      <td>0</td>\n",
       "      <td>0</td>\n",
       "      <td>1</td>\n",
       "      <td>0</td>\n",
       "    </tr>\n",
       "    <tr>\n",
       "      <th>252</th>\n",
       "      <td>2806</td>\n",
       "      <td>2806</td>\n",
       "      <td>0</td>\n",
       "      <td>26202</td>\n",
       "      <td>0</td>\n",
       "      <td>1</td>\n",
       "      <td>1</td>\n",
       "    </tr>\n",
       "    <tr>\n",
       "      <th>680</th>\n",
       "      <td>20128</td>\n",
       "      <td>20128</td>\n",
       "      <td>0</td>\n",
       "      <td>0</td>\n",
       "      <td>0</td>\n",
       "      <td>1</td>\n",
       "      <td>0</td>\n",
       "    </tr>\n",
       "    <tr>\n",
       "      <th>681</th>\n",
       "      <td>20128</td>\n",
       "      <td>20128</td>\n",
       "      <td>0</td>\n",
       "      <td>6268</td>\n",
       "      <td>12145</td>\n",
       "      <td>1</td>\n",
       "      <td>1</td>\n",
       "    </tr>\n",
       "    <tr>\n",
       "      <th>724</th>\n",
       "      <td>416001</td>\n",
       "      <td>0</td>\n",
       "      <td>0</td>\n",
       "      <td>102</td>\n",
       "      <td>9291619</td>\n",
       "      <td>1</td>\n",
       "      <td>1</td>\n",
       "    </tr>\n",
       "    <tr>\n",
       "      <th>969</th>\n",
       "      <td>1277212</td>\n",
       "      <td>1277212</td>\n",
       "      <td>0</td>\n",
       "      <td>0</td>\n",
       "      <td>0</td>\n",
       "      <td>1</td>\n",
       "      <td>0</td>\n",
       "    </tr>\n",
       "    <tr>\n",
       "      <th>970</th>\n",
       "      <td>1277212</td>\n",
       "      <td>1277212</td>\n",
       "      <td>0</td>\n",
       "      <td>0</td>\n",
       "      <td>2444985</td>\n",
       "      <td>1</td>\n",
       "      <td>1</td>\n",
       "    </tr>\n",
       "    <tr>\n",
       "      <th>1115</th>\n",
       "      <td>35063</td>\n",
       "      <td>35063</td>\n",
       "      <td>0</td>\n",
       "      <td>0</td>\n",
       "      <td>0</td>\n",
       "      <td>1</td>\n",
       "      <td>0</td>\n",
       "    </tr>\n",
       "  </tbody>\n",
       "</table>\n",
       "</div>"
      ],
      "text/plain": [
       "       amount  oldbalanceOrg  newbalanceOrig  oldbalanceDest  newbalanceDest  \\\n",
       "2         181            181               0               0               0   \n",
       "3         181            181               0           21182               0   \n",
       "251      2806           2806               0               0               0   \n",
       "252      2806           2806               0           26202               0   \n",
       "680     20128          20128               0               0               0   \n",
       "681     20128          20128               0            6268           12145   \n",
       "724    416001              0               0             102         9291619   \n",
       "969   1277212        1277212               0               0               0   \n",
       "970   1277212        1277212               0               0         2444985   \n",
       "1115    35063          35063               0               0               0   \n",
       "\n",
       "      isFraud  CASH_OUT  \n",
       "2           1         0  \n",
       "3           1         1  \n",
       "251         1         0  \n",
       "252         1         1  \n",
       "680         1         0  \n",
       "681         1         1  \n",
       "724         1         1  \n",
       "969         1         0  \n",
       "970         1         1  \n",
       "1115        1         0  "
      ]
     },
     "execution_count": 56,
     "metadata": {},
     "output_type": "execute_result"
    }
   ],
   "source": [
    "fraudDS[:10]"
   ]
  },
  {
   "cell_type": "markdown",
   "id": "055a4b9c",
   "metadata": {},
   "source": [
    "__Detecting the reason of nofrauds__"
   ]
  },
  {
   "cell_type": "code",
   "execution_count": 57,
   "id": "246b7dd0",
   "metadata": {},
   "outputs": [
    {
     "data": {
      "text/html": [
       "<div>\n",
       "<style scoped>\n",
       "    .dataframe tbody tr th:only-of-type {\n",
       "        vertical-align: middle;\n",
       "    }\n",
       "\n",
       "    .dataframe tbody tr th {\n",
       "        vertical-align: top;\n",
       "    }\n",
       "\n",
       "    .dataframe thead th {\n",
       "        text-align: right;\n",
       "    }\n",
       "</style>\n",
       "<table border=\"1\" class=\"dataframe\">\n",
       "  <thead>\n",
       "    <tr style=\"text-align: right;\">\n",
       "      <th></th>\n",
       "      <th>amount</th>\n",
       "      <th>oldbalanceOrg</th>\n",
       "      <th>newbalanceOrig</th>\n",
       "      <th>oldbalanceDest</th>\n",
       "      <th>newbalanceDest</th>\n",
       "      <th>isFraud</th>\n",
       "      <th>CASH_OUT</th>\n",
       "    </tr>\n",
       "  </thead>\n",
       "  <tbody>\n",
       "    <tr>\n",
       "      <th>15</th>\n",
       "      <td>229133</td>\n",
       "      <td>15325</td>\n",
       "      <td>0</td>\n",
       "      <td>5083</td>\n",
       "      <td>51513</td>\n",
       "      <td>0</td>\n",
       "      <td>1</td>\n",
       "    </tr>\n",
       "    <tr>\n",
       "      <th>19</th>\n",
       "      <td>215310</td>\n",
       "      <td>705</td>\n",
       "      <td>0</td>\n",
       "      <td>22425</td>\n",
       "      <td>0</td>\n",
       "      <td>0</td>\n",
       "      <td>0</td>\n",
       "    </tr>\n",
       "    <tr>\n",
       "      <th>24</th>\n",
       "      <td>311685</td>\n",
       "      <td>10835</td>\n",
       "      <td>0</td>\n",
       "      <td>6267</td>\n",
       "      <td>2719172</td>\n",
       "      <td>0</td>\n",
       "      <td>0</td>\n",
       "    </tr>\n",
       "    <tr>\n",
       "      <th>42</th>\n",
       "      <td>110414</td>\n",
       "      <td>26845</td>\n",
       "      <td>0</td>\n",
       "      <td>288800</td>\n",
       "      <td>2415</td>\n",
       "      <td>0</td>\n",
       "      <td>1</td>\n",
       "    </tr>\n",
       "    <tr>\n",
       "      <th>47</th>\n",
       "      <td>56953</td>\n",
       "      <td>1942</td>\n",
       "      <td>0</td>\n",
       "      <td>70253</td>\n",
       "      <td>64106</td>\n",
       "      <td>0</td>\n",
       "      <td>1</td>\n",
       "    </tr>\n",
       "    <tr>\n",
       "      <th>48</th>\n",
       "      <td>5346</td>\n",
       "      <td>0</td>\n",
       "      <td>0</td>\n",
       "      <td>652637</td>\n",
       "      <td>6453430</td>\n",
       "      <td>0</td>\n",
       "      <td>1</td>\n",
       "    </tr>\n",
       "    <tr>\n",
       "      <th>51</th>\n",
       "      <td>23261</td>\n",
       "      <td>20411</td>\n",
       "      <td>0</td>\n",
       "      <td>25742</td>\n",
       "      <td>0</td>\n",
       "      <td>0</td>\n",
       "      <td>1</td>\n",
       "    </tr>\n",
       "    <tr>\n",
       "      <th>58</th>\n",
       "      <td>62610</td>\n",
       "      <td>79114</td>\n",
       "      <td>16503</td>\n",
       "      <td>517</td>\n",
       "      <td>8383</td>\n",
       "      <td>0</td>\n",
       "      <td>0</td>\n",
       "    </tr>\n",
       "    <tr>\n",
       "      <th>60</th>\n",
       "      <td>82940</td>\n",
       "      <td>3017</td>\n",
       "      <td>0</td>\n",
       "      <td>132372</td>\n",
       "      <td>49864</td>\n",
       "      <td>0</td>\n",
       "      <td>1</td>\n",
       "    </tr>\n",
       "    <tr>\n",
       "      <th>70</th>\n",
       "      <td>47458</td>\n",
       "      <td>209534</td>\n",
       "      <td>162075</td>\n",
       "      <td>52120</td>\n",
       "      <td>0</td>\n",
       "      <td>0</td>\n",
       "      <td>1</td>\n",
       "    </tr>\n",
       "  </tbody>\n",
       "</table>\n",
       "</div>"
      ],
      "text/plain": [
       "    amount  oldbalanceOrg  newbalanceOrig  oldbalanceDest  newbalanceDest  \\\n",
       "15  229133          15325               0            5083           51513   \n",
       "19  215310            705               0           22425               0   \n",
       "24  311685          10835               0            6267         2719172   \n",
       "42  110414          26845               0          288800            2415   \n",
       "47   56953           1942               0           70253           64106   \n",
       "48    5346              0               0          652637         6453430   \n",
       "51   23261          20411               0           25742               0   \n",
       "58   62610          79114           16503             517            8383   \n",
       "60   82940           3017               0          132372           49864   \n",
       "70   47458         209534          162075           52120               0   \n",
       "\n",
       "    isFraud  CASH_OUT  \n",
       "15        0         1  \n",
       "19        0         0  \n",
       "24        0         0  \n",
       "42        0         1  \n",
       "47        0         1  \n",
       "48        0         1  \n",
       "51        0         1  \n",
       "58        0         0  \n",
       "60        0         1  \n",
       "70        0         1  "
      ]
     },
     "execution_count": 57,
     "metadata": {},
     "output_type": "execute_result"
    }
   ],
   "source": [
    "nofraudDS[:10]"
   ]
  },
  {
   "cell_type": "code",
   "execution_count": 58,
   "id": "75f4ef6a",
   "metadata": {},
   "outputs": [
    {
     "data": {
      "text/plain": [
       "162076"
      ]
     },
     "execution_count": 58,
     "metadata": {},
     "output_type": "execute_result"
    }
   ],
   "source": [
    "209534-47458"
   ]
  },
  {
   "cell_type": "code",
   "execution_count": 59,
   "id": "7b2ca853",
   "metadata": {},
   "outputs": [
    {
     "data": {
      "text/plain": [
       "(1, 7)"
      ]
     },
     "execution_count": 59,
     "metadata": {},
     "output_type": "execute_result"
    }
   ],
   "source": [
    "nofraudDS[nofraudDS.amount==nofraudDS.oldbalanceOrg].shape\n",
    "# only 1 case out of 2762196 the amount = oldbalanceOrg "
   ]
  },
  {
   "cell_type": "code",
   "execution_count": 60,
   "id": "1aa7cec7",
   "metadata": {},
   "outputs": [
    {
     "data": {
      "text/plain": [
       "(2488607, 7)"
      ]
     },
     "execution_count": 60,
     "metadata": {},
     "output_type": "execute_result"
    }
   ],
   "source": [
    "nofraudDS[nofraudDS.newbalanceOrig==0].shape\n",
    "# cases when newbalanceOrig = 0"
   ]
  },
  {
   "cell_type": "code",
   "execution_count": 61,
   "id": "7246669b",
   "metadata": {},
   "outputs": [
    {
     "data": {
      "text/plain": [
       "(2488604, 7)"
      ]
     },
     "execution_count": 61,
     "metadata": {},
     "output_type": "execute_result"
    }
   ],
   "source": [
    "nofraudDS[nofraudDS.amount>nofraudDS.oldbalanceOrg].shape\n",
    "# cases when amount > oldbalanceOrg"
   ]
  },
  {
   "cell_type": "code",
   "execution_count": 62,
   "id": "ac735f21",
   "metadata": {},
   "outputs": [
    {
     "data": {
      "text/plain": [
       "(1444676, 7)"
      ]
     },
     "execution_count": 62,
     "metadata": {},
     "output_type": "execute_result"
    }
   ],
   "source": [
    "nofraudDS[nofraudDS.newbalanceDest==(nofraudDS.oldbalanceDest + nofraudDS.amount)].shape\n",
    "# These are likely to be the correct "
   ]
  },
  {
   "cell_type": "code",
   "execution_count": 63,
   "id": "ab2214dc",
   "metadata": {},
   "outputs": [
    {
     "data": {
      "text/plain": [
       "(40222, 7)"
      ]
     },
     "execution_count": 63,
     "metadata": {},
     "output_type": "execute_result"
    }
   ],
   "source": [
    "nofraudDS[nofraudDS.oldbalanceOrg==(nofraudDS.newbalanceOrig + nofraudDS.amount)].shape\n",
    "# These are likely to be the correct"
   ]
  },
  {
   "cell_type": "code",
   "execution_count": 64,
   "id": "f70c9c06",
   "metadata": {},
   "outputs": [
    {
     "data": {
      "text/plain": [
       "(12506, 7)"
      ]
     },
     "execution_count": 64,
     "metadata": {},
     "output_type": "execute_result"
    }
   ],
   "source": [
    "nofraudDS[(nofraudDS.newbalanceDest==0) & (nofraudDS.amount!=0)].shape"
   ]
  },
  {
   "cell_type": "code",
   "execution_count": 65,
   "id": "fda42222",
   "metadata": {},
   "outputs": [
    {
     "data": {
      "text/plain": [
       "0.4527557059672811"
      ]
     },
     "execution_count": 65,
     "metadata": {},
     "output_type": "execute_result"
    }
   ],
   "source": [
    "12506/2762196*100 # 0.452% cases newbalanceDest==0 when amount!=0 for nofraud"
   ]
  },
  {
   "cell_type": "code",
   "execution_count": 66,
   "id": "609da97f",
   "metadata": {},
   "outputs": [
    {
     "data": {
      "text/plain": [
       "(1704, 7)"
      ]
     },
     "execution_count": 66,
     "metadata": {},
     "output_type": "execute_result"
    }
   ],
   "source": [
    "nofraudDS[(nofraudDS.newbalanceDest==0) & (nofraudDS.oldbalanceDest==0) & (nofraudDS.amount!=0)].shape"
   ]
  },
  {
   "cell_type": "code",
   "execution_count": 67,
   "id": "c2275df5",
   "metadata": {},
   "outputs": [
    {
     "data": {
      "text/plain": [
       "0.06169004661508452"
      ]
     },
     "execution_count": 67,
     "metadata": {},
     "output_type": "execute_result"
    }
   ],
   "source": [
    "1704/2762196*100 # 0.0616% cases newbalanceDest==oldbalanceDest==0 when amount!=0 for nofraud"
   ]
  },
  {
   "cell_type": "code",
   "execution_count": 68,
   "id": "dcfcaefe",
   "metadata": {},
   "outputs": [
    {
     "data": {
      "text/plain": [
       "(1308542, 7)"
      ]
     },
     "execution_count": 68,
     "metadata": {},
     "output_type": "execute_result"
    }
   ],
   "source": [
    "nofraudDS[(nofraudDS.oldbalanceOrg==0) & (nofraudDS.newbalanceOrig==0) & (nofraudDS.amount!=0)].shape"
   ]
  },
  {
   "cell_type": "code",
   "execution_count": 69,
   "id": "5ab2d0b6",
   "metadata": {},
   "outputs": [
    {
     "data": {
      "text/plain": [
       "47.37324940011498"
      ]
     },
     "execution_count": 69,
     "metadata": {},
     "output_type": "execute_result"
    }
   ],
   "source": [
    "1308542/2762196*100"
   ]
  },
  {
   "cell_type": "code",
   "execution_count": 70,
   "id": "74831e3f",
   "metadata": {},
   "outputs": [
    {
     "data": {
      "text/plain": [
       "(12508, 7)"
      ]
     },
     "execution_count": 70,
     "metadata": {},
     "output_type": "execute_result"
    }
   ],
   "source": [
    "nofraudDS[(nofraudDS.newbalanceDest==0)].shape"
   ]
  },
  {
   "cell_type": "markdown",
   "id": "22552117",
   "metadata": {},
   "source": [
    "__Finding errors in transactions__"
   ]
  },
  {
   "cell_type": "code",
   "execution_count": 71,
   "id": "78a0715a",
   "metadata": {},
   "outputs": [],
   "source": [
    "df4=df3.copy()"
   ]
  },
  {
   "cell_type": "code",
   "execution_count": 72,
   "id": "e6ac70fb",
   "metadata": {},
   "outputs": [
    {
     "data": {
      "text/html": [
       "<div>\n",
       "<style scoped>\n",
       "    .dataframe tbody tr th:only-of-type {\n",
       "        vertical-align: middle;\n",
       "    }\n",
       "\n",
       "    .dataframe tbody tr th {\n",
       "        vertical-align: top;\n",
       "    }\n",
       "\n",
       "    .dataframe thead th {\n",
       "        text-align: right;\n",
       "    }\n",
       "</style>\n",
       "<table border=\"1\" class=\"dataframe\">\n",
       "  <thead>\n",
       "    <tr style=\"text-align: right;\">\n",
       "      <th></th>\n",
       "      <th>amount</th>\n",
       "      <th>oldbalanceOrg</th>\n",
       "      <th>newbalanceOrig</th>\n",
       "      <th>oldbalanceDest</th>\n",
       "      <th>newbalanceDest</th>\n",
       "      <th>isFraud</th>\n",
       "      <th>CASH_OUT</th>\n",
       "      <th>error_balanceDest</th>\n",
       "      <th>error_balanceOrig</th>\n",
       "    </tr>\n",
       "  </thead>\n",
       "  <tbody>\n",
       "    <tr>\n",
       "      <th>2</th>\n",
       "      <td>181</td>\n",
       "      <td>181</td>\n",
       "      <td>0</td>\n",
       "      <td>0</td>\n",
       "      <td>0</td>\n",
       "      <td>1</td>\n",
       "      <td>0</td>\n",
       "      <td>181</td>\n",
       "      <td>0</td>\n",
       "    </tr>\n",
       "    <tr>\n",
       "      <th>3</th>\n",
       "      <td>181</td>\n",
       "      <td>181</td>\n",
       "      <td>0</td>\n",
       "      <td>21182</td>\n",
       "      <td>0</td>\n",
       "      <td>1</td>\n",
       "      <td>1</td>\n",
       "      <td>21363</td>\n",
       "      <td>0</td>\n",
       "    </tr>\n",
       "    <tr>\n",
       "      <th>15</th>\n",
       "      <td>229133</td>\n",
       "      <td>15325</td>\n",
       "      <td>0</td>\n",
       "      <td>5083</td>\n",
       "      <td>51513</td>\n",
       "      <td>0</td>\n",
       "      <td>1</td>\n",
       "      <td>182703</td>\n",
       "      <td>213808</td>\n",
       "    </tr>\n",
       "    <tr>\n",
       "      <th>19</th>\n",
       "      <td>215310</td>\n",
       "      <td>705</td>\n",
       "      <td>0</td>\n",
       "      <td>22425</td>\n",
       "      <td>0</td>\n",
       "      <td>0</td>\n",
       "      <td>0</td>\n",
       "      <td>237735</td>\n",
       "      <td>214605</td>\n",
       "    </tr>\n",
       "    <tr>\n",
       "      <th>24</th>\n",
       "      <td>311685</td>\n",
       "      <td>10835</td>\n",
       "      <td>0</td>\n",
       "      <td>6267</td>\n",
       "      <td>2719172</td>\n",
       "      <td>0</td>\n",
       "      <td>0</td>\n",
       "      <td>-2401220</td>\n",
       "      <td>300850</td>\n",
       "    </tr>\n",
       "    <tr>\n",
       "      <th>...</th>\n",
       "      <td>...</td>\n",
       "      <td>...</td>\n",
       "      <td>...</td>\n",
       "      <td>...</td>\n",
       "      <td>...</td>\n",
       "      <td>...</td>\n",
       "      <td>...</td>\n",
       "      <td>...</td>\n",
       "      <td>...</td>\n",
       "    </tr>\n",
       "    <tr>\n",
       "      <th>6362615</th>\n",
       "      <td>339682</td>\n",
       "      <td>339682</td>\n",
       "      <td>0</td>\n",
       "      <td>0</td>\n",
       "      <td>339682</td>\n",
       "      <td>1</td>\n",
       "      <td>1</td>\n",
       "      <td>0</td>\n",
       "      <td>0</td>\n",
       "    </tr>\n",
       "    <tr>\n",
       "      <th>6362616</th>\n",
       "      <td>6311409</td>\n",
       "      <td>6311409</td>\n",
       "      <td>0</td>\n",
       "      <td>0</td>\n",
       "      <td>0</td>\n",
       "      <td>1</td>\n",
       "      <td>0</td>\n",
       "      <td>6311409</td>\n",
       "      <td>0</td>\n",
       "    </tr>\n",
       "    <tr>\n",
       "      <th>6362617</th>\n",
       "      <td>6311409</td>\n",
       "      <td>6311409</td>\n",
       "      <td>0</td>\n",
       "      <td>68488</td>\n",
       "      <td>6379898</td>\n",
       "      <td>1</td>\n",
       "      <td>1</td>\n",
       "      <td>-1</td>\n",
       "      <td>0</td>\n",
       "    </tr>\n",
       "    <tr>\n",
       "      <th>6362618</th>\n",
       "      <td>850002</td>\n",
       "      <td>850002</td>\n",
       "      <td>0</td>\n",
       "      <td>0</td>\n",
       "      <td>0</td>\n",
       "      <td>1</td>\n",
       "      <td>0</td>\n",
       "      <td>850002</td>\n",
       "      <td>0</td>\n",
       "    </tr>\n",
       "    <tr>\n",
       "      <th>6362619</th>\n",
       "      <td>850002</td>\n",
       "      <td>850002</td>\n",
       "      <td>0</td>\n",
       "      <td>6510099</td>\n",
       "      <td>7360101</td>\n",
       "      <td>1</td>\n",
       "      <td>1</td>\n",
       "      <td>0</td>\n",
       "      <td>0</td>\n",
       "    </tr>\n",
       "  </tbody>\n",
       "</table>\n",
       "<p>2770409 rows × 9 columns</p>\n",
       "</div>"
      ],
      "text/plain": [
       "          amount  oldbalanceOrg  newbalanceOrig  oldbalanceDest  \\\n",
       "2            181            181               0               0   \n",
       "3            181            181               0           21182   \n",
       "15        229133          15325               0            5083   \n",
       "19        215310            705               0           22425   \n",
       "24        311685          10835               0            6267   \n",
       "...          ...            ...             ...             ...   \n",
       "6362615   339682         339682               0               0   \n",
       "6362616  6311409        6311409               0               0   \n",
       "6362617  6311409        6311409               0           68488   \n",
       "6362618   850002         850002               0               0   \n",
       "6362619   850002         850002               0         6510099   \n",
       "\n",
       "         newbalanceDest  isFraud  CASH_OUT  error_balanceDest  \\\n",
       "2                     0        1         0                181   \n",
       "3                     0        1         1              21363   \n",
       "15                51513        0         1             182703   \n",
       "19                    0        0         0             237735   \n",
       "24              2719172        0         0           -2401220   \n",
       "...                 ...      ...       ...                ...   \n",
       "6362615          339682        1         1                  0   \n",
       "6362616               0        1         0            6311409   \n",
       "6362617         6379898        1         1                 -1   \n",
       "6362618               0        1         0             850002   \n",
       "6362619         7360101        1         1                  0   \n",
       "\n",
       "         error_balanceOrig  \n",
       "2                        0  \n",
       "3                        0  \n",
       "15                  213808  \n",
       "19                  214605  \n",
       "24                  300850  \n",
       "...                    ...  \n",
       "6362615                  0  \n",
       "6362616                  0  \n",
       "6362617                  0  \n",
       "6362618                  0  \n",
       "6362619                  0  \n",
       "\n",
       "[2770409 rows x 9 columns]"
      ]
     },
     "execution_count": 72,
     "metadata": {},
     "output_type": "execute_result"
    }
   ],
   "source": [
    "df4['error_balanceDest'] = df3.oldbalanceDest + df3.amount - df3.newbalanceDest\n",
    "df4['error_balanceOrig'] = df3.newbalanceOrig + df3.amount - df3.oldbalanceOrg\n",
    "df4"
   ]
  },
  {
   "cell_type": "code",
   "execution_count": 73,
   "id": "bec4e4bf",
   "metadata": {},
   "outputs": [
    {
     "data": {
      "text/plain": [
       "(1323036, 9)"
      ]
     },
     "execution_count": 73,
     "metadata": {},
     "output_type": "execute_result"
    }
   ],
   "source": [
    "df4[df4.error_balanceDest!=0].shape"
   ]
  },
  {
   "cell_type": "code",
   "execution_count": 74,
   "id": "34f27cc4",
   "metadata": {},
   "outputs": [
    {
     "data": {
      "text/plain": [
       "47.755981156572915"
      ]
     },
     "execution_count": 74,
     "metadata": {},
     "output_type": "execute_result"
    }
   ],
   "source": [
    "1323036/2770409*100 # 47% error in destination transactions"
   ]
  },
  {
   "cell_type": "code",
   "execution_count": 75,
   "id": "0b93fb7f",
   "metadata": {},
   "outputs": [
    {
     "data": {
      "text/plain": [
       "(2722020, 9)"
      ]
     },
     "execution_count": 75,
     "metadata": {},
     "output_type": "execute_result"
    }
   ],
   "source": [
    "df4[df4.error_balanceOrig!=0].shape"
   ]
  },
  {
   "cell_type": "code",
   "execution_count": 76,
   "id": "23982dcc",
   "metadata": {},
   "outputs": [
    {
     "data": {
      "text/plain": [
       "98.25336259014463"
      ]
     },
     "execution_count": 76,
     "metadata": {},
     "output_type": "execute_result"
    }
   ],
   "source": [
    "2722020/2770409*100 # 98.25% error in origin transaction"
   ]
  },
  {
   "cell_type": "markdown",
   "id": "f4e35c05",
   "metadata": {},
   "source": [
    "    __All the error values can be imputed directly in the dataframe to the correct value, but that would affect the performance of the model.\n",
    "    We can use negate value such as -1 to help the model understand better for all transaction columns: \n",
    "    (oldbalanceOrg,\tnewbalanceOrig,\toldbalanceDest,\tnewbalanceDest)\n",
    "    Not imputing for now. Checking the performance without imputing"
   ]
  },
  {
   "cell_type": "markdown",
   "id": "482604a6",
   "metadata": {},
   "source": [
    "__Initially training a stand alone model using Logistic Regression. Later Hyperparameter tuning and model selection will be done.__"
   ]
  },
  {
   "cell_type": "markdown",
   "id": "bb7d8aac",
   "metadata": {},
   "source": [
    "__Separating X and y:__"
   ]
  },
  {
   "cell_type": "code",
   "execution_count": 77,
   "id": "d46b0f85",
   "metadata": {},
   "outputs": [
    {
     "data": {
      "text/html": [
       "<div>\n",
       "<style scoped>\n",
       "    .dataframe tbody tr th:only-of-type {\n",
       "        vertical-align: middle;\n",
       "    }\n",
       "\n",
       "    .dataframe tbody tr th {\n",
       "        vertical-align: top;\n",
       "    }\n",
       "\n",
       "    .dataframe thead th {\n",
       "        text-align: right;\n",
       "    }\n",
       "</style>\n",
       "<table border=\"1\" class=\"dataframe\">\n",
       "  <thead>\n",
       "    <tr style=\"text-align: right;\">\n",
       "      <th></th>\n",
       "      <th>amount</th>\n",
       "      <th>oldbalanceOrg</th>\n",
       "      <th>newbalanceOrig</th>\n",
       "      <th>oldbalanceDest</th>\n",
       "      <th>newbalanceDest</th>\n",
       "      <th>isFraud</th>\n",
       "      <th>CASH_OUT</th>\n",
       "    </tr>\n",
       "  </thead>\n",
       "  <tbody>\n",
       "    <tr>\n",
       "      <th>2</th>\n",
       "      <td>181</td>\n",
       "      <td>181</td>\n",
       "      <td>0</td>\n",
       "      <td>0</td>\n",
       "      <td>0</td>\n",
       "      <td>1</td>\n",
       "      <td>0</td>\n",
       "    </tr>\n",
       "    <tr>\n",
       "      <th>3</th>\n",
       "      <td>181</td>\n",
       "      <td>181</td>\n",
       "      <td>0</td>\n",
       "      <td>21182</td>\n",
       "      <td>0</td>\n",
       "      <td>1</td>\n",
       "      <td>1</td>\n",
       "    </tr>\n",
       "    <tr>\n",
       "      <th>15</th>\n",
       "      <td>229133</td>\n",
       "      <td>15325</td>\n",
       "      <td>0</td>\n",
       "      <td>5083</td>\n",
       "      <td>51513</td>\n",
       "      <td>0</td>\n",
       "      <td>1</td>\n",
       "    </tr>\n",
       "    <tr>\n",
       "      <th>19</th>\n",
       "      <td>215310</td>\n",
       "      <td>705</td>\n",
       "      <td>0</td>\n",
       "      <td>22425</td>\n",
       "      <td>0</td>\n",
       "      <td>0</td>\n",
       "      <td>0</td>\n",
       "    </tr>\n",
       "    <tr>\n",
       "      <th>24</th>\n",
       "      <td>311685</td>\n",
       "      <td>10835</td>\n",
       "      <td>0</td>\n",
       "      <td>6267</td>\n",
       "      <td>2719172</td>\n",
       "      <td>0</td>\n",
       "      <td>0</td>\n",
       "    </tr>\n",
       "  </tbody>\n",
       "</table>\n",
       "</div>"
      ],
      "text/plain": [
       "    amount  oldbalanceOrg  newbalanceOrig  oldbalanceDest  newbalanceDest  \\\n",
       "2      181            181               0               0               0   \n",
       "3      181            181               0           21182               0   \n",
       "15  229133          15325               0            5083           51513   \n",
       "19  215310            705               0           22425               0   \n",
       "24  311685          10835               0            6267         2719172   \n",
       "\n",
       "    isFraud  CASH_OUT  \n",
       "2         1         0  \n",
       "3         1         1  \n",
       "15        0         1  \n",
       "19        0         0  \n",
       "24        0         0  "
      ]
     },
     "execution_count": 77,
     "metadata": {},
     "output_type": "execute_result"
    }
   ],
   "source": [
    "X= df3.copy()\n",
    "X.head()"
   ]
  },
  {
   "cell_type": "code",
   "execution_count": 78,
   "id": "03db318d",
   "metadata": {},
   "outputs": [
    {
     "data": {
      "text/html": [
       "<div>\n",
       "<style scoped>\n",
       "    .dataframe tbody tr th:only-of-type {\n",
       "        vertical-align: middle;\n",
       "    }\n",
       "\n",
       "    .dataframe tbody tr th {\n",
       "        vertical-align: top;\n",
       "    }\n",
       "\n",
       "    .dataframe thead th {\n",
       "        text-align: right;\n",
       "    }\n",
       "</style>\n",
       "<table border=\"1\" class=\"dataframe\">\n",
       "  <thead>\n",
       "    <tr style=\"text-align: right;\">\n",
       "      <th></th>\n",
       "      <th>amount</th>\n",
       "      <th>oldbalanceOrg</th>\n",
       "      <th>newbalanceOrig</th>\n",
       "      <th>oldbalanceDest</th>\n",
       "      <th>newbalanceDest</th>\n",
       "      <th>CASH_OUT</th>\n",
       "    </tr>\n",
       "  </thead>\n",
       "  <tbody>\n",
       "    <tr>\n",
       "      <th>2</th>\n",
       "      <td>181</td>\n",
       "      <td>181</td>\n",
       "      <td>0</td>\n",
       "      <td>0</td>\n",
       "      <td>0</td>\n",
       "      <td>0</td>\n",
       "    </tr>\n",
       "    <tr>\n",
       "      <th>3</th>\n",
       "      <td>181</td>\n",
       "      <td>181</td>\n",
       "      <td>0</td>\n",
       "      <td>21182</td>\n",
       "      <td>0</td>\n",
       "      <td>1</td>\n",
       "    </tr>\n",
       "    <tr>\n",
       "      <th>15</th>\n",
       "      <td>229133</td>\n",
       "      <td>15325</td>\n",
       "      <td>0</td>\n",
       "      <td>5083</td>\n",
       "      <td>51513</td>\n",
       "      <td>1</td>\n",
       "    </tr>\n",
       "    <tr>\n",
       "      <th>19</th>\n",
       "      <td>215310</td>\n",
       "      <td>705</td>\n",
       "      <td>0</td>\n",
       "      <td>22425</td>\n",
       "      <td>0</td>\n",
       "      <td>0</td>\n",
       "    </tr>\n",
       "    <tr>\n",
       "      <th>24</th>\n",
       "      <td>311685</td>\n",
       "      <td>10835</td>\n",
       "      <td>0</td>\n",
       "      <td>6267</td>\n",
       "      <td>2719172</td>\n",
       "      <td>0</td>\n",
       "    </tr>\n",
       "  </tbody>\n",
       "</table>\n",
       "</div>"
      ],
      "text/plain": [
       "    amount  oldbalanceOrg  newbalanceOrig  oldbalanceDest  newbalanceDest  \\\n",
       "2      181            181               0               0               0   \n",
       "3      181            181               0           21182               0   \n",
       "15  229133          15325               0            5083           51513   \n",
       "19  215310            705               0           22425               0   \n",
       "24  311685          10835               0            6267         2719172   \n",
       "\n",
       "    CASH_OUT  \n",
       "2          0  \n",
       "3          1  \n",
       "15         1  \n",
       "19         0  \n",
       "24         0  "
      ]
     },
     "execution_count": 78,
     "metadata": {},
     "output_type": "execute_result"
    }
   ],
   "source": [
    "X = X.drop(['isFraud'], axis = 'columns')\n",
    "X.head()"
   ]
  },
  {
   "cell_type": "code",
   "execution_count": 79,
   "id": "8720d7ed",
   "metadata": {},
   "outputs": [
    {
     "data": {
      "text/plain": [
       "(2770409, 6)"
      ]
     },
     "execution_count": 79,
     "metadata": {},
     "output_type": "execute_result"
    }
   ],
   "source": [
    "X.shape"
   ]
  },
  {
   "cell_type": "code",
   "execution_count": 80,
   "id": "73f39be4",
   "metadata": {},
   "outputs": [
    {
     "data": {
      "text/plain": [
       "(2770409,)"
      ]
     },
     "execution_count": 80,
     "metadata": {},
     "output_type": "execute_result"
    }
   ],
   "source": [
    "y = df3.isFraud\n",
    "y.shape"
   ]
  },
  {
   "cell_type": "markdown",
   "id": "d932380f",
   "metadata": {},
   "source": [
    "## Step 1. Solving using Unbalanced Dataset"
   ]
  },
  {
   "cell_type": "markdown",
   "id": "c57f6477",
   "metadata": {},
   "source": [
    "__Train_test_splitting__"
   ]
  },
  {
   "cell_type": "code",
   "execution_count": 81,
   "id": "a79bb216",
   "metadata": {},
   "outputs": [],
   "source": [
    "from sklearn.model_selection import train_test_split\n",
    "X_train, X_test, y_train, y_test = train_test_split(X,y,test_size= 0.2) # (flattened 2d array,1d array)"
   ]
  },
  {
   "cell_type": "code",
   "execution_count": 82,
   "id": "8f1cfde7",
   "metadata": {},
   "outputs": [
    {
     "data": {
      "text/plain": [
       "(2216327, 554082, 2216327, 554082)"
      ]
     },
     "execution_count": 82,
     "metadata": {},
     "output_type": "execute_result"
    }
   ],
   "source": [
    "len(X_train),len(X_test),len(y_train),len(y_test)"
   ]
  },
  {
   "cell_type": "markdown",
   "id": "f41f6406",
   "metadata": {},
   "source": [
    "__Logistic Regression StandAlone Model__"
   ]
  },
  {
   "cell_type": "code",
   "execution_count": null,
   "id": "7365c877",
   "metadata": {},
   "outputs": [],
   "source": [
    "# from sklearn.linear_model import LogisticRegression\n",
    "# logmodel = LogisticRegression()\n",
    "# logmodel.fit(X_train,y_train)"
   ]
  },
  {
   "cell_type": "markdown",
   "id": "13208c84",
   "metadata": {},
   "source": [
    "__Saving fit model to joblib file.__"
   ]
  },
  {
   "cell_type": "code",
   "execution_count": 83,
   "id": "744ceb70",
   "metadata": {},
   "outputs": [],
   "source": [
    "import joblib\n",
    "# joblib.dump(logmodel,'logmodel')\n",
    "logmodel= joblib.load('logmodel')"
   ]
  },
  {
   "cell_type": "code",
   "execution_count": 84,
   "id": "aa44ca65",
   "metadata": {},
   "outputs": [
    {
     "data": {
      "text/plain": [
       "0.9973072577705105"
      ]
     },
     "execution_count": 84,
     "metadata": {},
     "output_type": "execute_result"
    }
   ],
   "source": [
    "logmodel.score(X_test,y_test)"
   ]
  },
  {
   "cell_type": "code",
   "execution_count": 85,
   "id": "b2c3e2aa",
   "metadata": {},
   "outputs": [
    {
     "data": {
      "text/plain": [
       "array([0, 0, 0, ..., 0, 0, 0])"
      ]
     },
     "execution_count": 85,
     "metadata": {},
     "output_type": "execute_result"
    }
   ],
   "source": [
    "y_pred= logmodel.predict(X_test)\n",
    "y_pred"
   ]
  },
  {
   "cell_type": "code",
   "execution_count": 86,
   "id": "f16e5f0f",
   "metadata": {},
   "outputs": [
    {
     "data": {
      "text/plain": [
       "array([[8.13360106e-01, 1.86639894e-01],\n",
       "       [9.99969390e-01, 3.06103383e-05],\n",
       "       [9.99861227e-01, 1.38773206e-04],\n",
       "       ...,\n",
       "       [1.00000000e+00, 2.53027500e-11],\n",
       "       [9.14401005e-01, 8.55989951e-02],\n",
       "       [1.00000000e+00, 8.83048323e-68]])"
      ]
     },
     "execution_count": 86,
     "metadata": {},
     "output_type": "execute_result"
    }
   ],
   "source": [
    "logmodel.predict_proba(X_test) \n",
    "# probablities of fraud happening. \n",
    "# Only logistic regression can predict this as it uses sigmoid function."
   ]
  },
  {
   "cell_type": "code",
   "execution_count": 87,
   "id": "2723e8a4",
   "metadata": {},
   "outputs": [
    {
     "data": {
      "text/plain": [
       "(array([0, 1]), array([551841,   2241], dtype=int64))"
      ]
     },
     "execution_count": 87,
     "metadata": {},
     "output_type": "execute_result"
    }
   ],
   "source": [
    "np.unique(np.array(y_pred),return_counts= True) # to count unique 0 and 1 returned by predictions"
   ]
  },
  {
   "cell_type": "code",
   "execution_count": 88,
   "id": "4809fc01",
   "metadata": {
    "scrolled": true
   },
   "outputs": [
    {
     "data": {
      "text/plain": [
       "Text(24.0, 0.5, 'True')"
      ]
     },
     "execution_count": 88,
     "metadata": {},
     "output_type": "execute_result"
    },
    {
     "data": {
      "image/png": "[encoded data removed]",
      "text/plain": [
       "<Figure size 360x252 with 2 Axes>"
      ]
     },
     "metadata": {
      "needs_background": "light"
     },
     "output_type": "display_data"
    }
   ],
   "source": [
    "from sklearn.metrics import confusion_matrix\n",
    "cm = confusion_matrix(y_test,y_pred)\n",
    "import seaborn as sn\n",
    "plt.figure (figsize =(5,3.5))\n",
    "sn.heatmap(cm, annot = True,fmt = \"d\" )\n",
    "plt.xlabel(\"Predicted\")\n",
    "plt.ylabel(\"True\")"
   ]
  },
  {
   "cell_type": "code",
   "execution_count": 89,
   "id": "b44b64cf",
   "metadata": {},
   "outputs": [
    {
     "name": "stdout",
     "output_type": "stream",
     "text": [
      "              precision    recall  f1-score   support\n",
      "\n",
      "           0       1.00      1.00      1.00    552477\n",
      "           1       0.53      0.73      0.61      1605\n",
      "\n",
      "    accuracy                           1.00    554082\n",
      "   macro avg       0.76      0.87      0.81    554082\n",
      "weighted avg       1.00      1.00      1.00    554082\n",
      "\n"
     ]
    }
   ],
   "source": [
    "from sklearn.metrics import confusion_matrix, classification_report\n",
    "print(classification_report(y_test,y_pred))"
   ]
  },
  {
   "cell_type": "markdown",
   "id": "15ef37cd",
   "metadata": {},
   "source": [
    "    We observe that:\n",
    "    1. Accuracy is 1: This might be an overfitting issue.Lets try balancing the dataset.\n",
    "    2. As class 0 is the majority class the precision,f1,recall for class 0 is greater as compared to minority class of 1.\n",
    "    3. For class 1 the f1,precision and recall can be improved by balancing the dataset. Supports for each class are not equal."
   ]
  },
  {
   "cell_type": "markdown",
   "id": "5899b1f6",
   "metadata": {},
   "source": [
    "## Step 2. Solving using balanced dataset using different balancing methods."
   ]
  },
  {
   "cell_type": "markdown",
   "id": "0cf23170",
   "metadata": {},
   "source": [
    "__Balancing the dataset__\n",
    "    \n",
    "    Method1: Undersampling\n",
    "    Method2: Oversampling\n",
    "    Method3:SMOTE (Synthetic minority oversampling technique) - uses KNN algo\n",
    "    Method4: Ensemble method (Majority vote)"
   ]
  },
  {
   "cell_type": "markdown",
   "id": "62720d34",
   "metadata": {},
   "source": [
    "**Using Method 2: Oversampling to trade a balance between computational time and accuracy of model**"
   ]
  },
  {
   "cell_type": "markdown",
   "id": "671a6ae4",
   "metadata": {},
   "source": [
    "## METHOD 2: Oversampling"
   ]
  },
  {
   "attachments": {
    "Capture2.png": {
     "image/png": "[encoded data removed]"
    }
   },
   "cell_type": "markdown",
   "id": "b79ebc34",
   "metadata": {},
   "source": [
    "![Capture2.png](attachment:Capture2.png)"
   ]
  },
  {
   "cell_type": "code",
   "execution_count": 90,
   "id": "ed1a254b",
   "metadata": {},
   "outputs": [
    {
     "data": {
      "text/plain": [
       "array([1, 0])"
      ]
     },
     "execution_count": 90,
     "metadata": {},
     "output_type": "execute_result"
    }
   ],
   "source": [
    "df3.isFraud.unique() #unique values"
   ]
  },
  {
   "cell_type": "code",
   "execution_count": 91,
   "id": "76855da1",
   "metadata": {},
   "outputs": [
    {
     "data": {
      "text/plain": [
       "0    2762196\n",
       "1       8213\n",
       "Name: isFraud, dtype: int64"
      ]
     },
     "execution_count": 91,
     "metadata": {},
     "output_type": "execute_result"
    }
   ],
   "source": [
    "df3.isFraud.value_counts() #The dataset is highly imbalanced"
   ]
  },
  {
   "cell_type": "code",
   "execution_count": 92,
   "id": "15ec983d",
   "metadata": {},
   "outputs": [],
   "source": [
    "count_class_0,count_class_1 =  df3.isFraud.value_counts()"
   ]
  },
  {
   "cell_type": "code",
   "execution_count": 93,
   "id": "40b4f182",
   "metadata": {},
   "outputs": [
    {
     "data": {
      "text/plain": [
       "2762196"
      ]
     },
     "execution_count": 93,
     "metadata": {},
     "output_type": "execute_result"
    }
   ],
   "source": [
    "count_class_0"
   ]
  },
  {
   "cell_type": "code",
   "execution_count": 94,
   "id": "75621804",
   "metadata": {},
   "outputs": [
    {
     "data": {
      "text/plain": [
       "8213"
      ]
     },
     "execution_count": 94,
     "metadata": {},
     "output_type": "execute_result"
    }
   ],
   "source": [
    "count_class_1"
   ]
  },
  {
   "cell_type": "code",
   "execution_count": 95,
   "id": "bffadd4a",
   "metadata": {},
   "outputs": [
    {
     "data": {
      "text/plain": [
       "0    2762196\n",
       "Name: isFraud, dtype: int64"
      ]
     },
     "execution_count": 95,
     "metadata": {},
     "output_type": "execute_result"
    }
   ],
   "source": [
    "df_class_0 = df3[df3['isFraud']==0]\n",
    "df_class_0['isFraud'].value_counts() # Only 1 class i.e. 0 with 5163 no of elements."
   ]
  },
  {
   "cell_type": "code",
   "execution_count": 96,
   "id": "ff63f9a0",
   "metadata": {},
   "outputs": [
    {
     "data": {
      "text/plain": [
       "1    8213\n",
       "Name: isFraud, dtype: int64"
      ]
     },
     "execution_count": 96,
     "metadata": {},
     "output_type": "execute_result"
    }
   ],
   "source": [
    "df_class_1 = df3[df3['isFraud']==1]\n",
    "df_class_1['isFraud'].value_counts() # Only 1 class i.e. 0 with 1869 no of elements."
   ]
  },
  {
   "cell_type": "code",
   "execution_count": 97,
   "id": "b6bce5fa",
   "metadata": {},
   "outputs": [
    {
     "data": {
      "text/plain": [
       "(2762196, 7)"
      ]
     },
     "execution_count": 97,
     "metadata": {},
     "output_type": "execute_result"
    }
   ],
   "source": [
    "df_class_0.shape"
   ]
  },
  {
   "cell_type": "code",
   "execution_count": 98,
   "id": "2634a7df",
   "metadata": {},
   "outputs": [
    {
     "data": {
      "text/plain": [
       "(8213, 7)"
      ]
     },
     "execution_count": 98,
     "metadata": {},
     "output_type": "execute_result"
    }
   ],
   "source": [
    "df_class_1.shape"
   ]
  },
  {
   "cell_type": "code",
   "execution_count": 99,
   "id": "4c140ec0",
   "metadata": {},
   "outputs": [
    {
     "data": {
      "text/plain": [
       "(2762196, 7)"
      ]
     },
     "execution_count": 99,
     "metadata": {},
     "output_type": "execute_result"
    }
   ],
   "source": [
    "df_class_1_over = df_class_1.sample(count_class_0, replace = True)\n",
    "df_class_1_over.shape"
   ]
  },
  {
   "cell_type": "code",
   "execution_count": 100,
   "id": "c896cfaf",
   "metadata": {},
   "outputs": [
    {
     "data": {
      "text/plain": [
       "(5524392, 7)"
      ]
     },
     "execution_count": 100,
     "metadata": {},
     "output_type": "execute_result"
    }
   ],
   "source": [
    "df_test_over = pd.concat([df_class_0,df_class_1_over],axis = 0) #Combining the two dataframes \n",
    "df_test_over.shape"
   ]
  },
  {
   "cell_type": "code",
   "execution_count": 101,
   "id": "17bae861",
   "metadata": {},
   "outputs": [
    {
     "data": {
      "text/plain": [
       "0    2762196\n",
       "1    2762196\n",
       "Name: isFraud, dtype: int64"
      ]
     },
     "execution_count": 101,
     "metadata": {},
     "output_type": "execute_result"
    }
   ],
   "source": [
    "df_test_over.isFraud.value_counts() # 1 is oversampled. 0 and 1 equally distributed."
   ]
  },
  {
   "cell_type": "code",
   "execution_count": 102,
   "id": "3a1dda0e",
   "metadata": {},
   "outputs": [
    {
     "data": {
      "text/html": [
       "<div>\n",
       "<style scoped>\n",
       "    .dataframe tbody tr th:only-of-type {\n",
       "        vertical-align: middle;\n",
       "    }\n",
       "\n",
       "    .dataframe tbody tr th {\n",
       "        vertical-align: top;\n",
       "    }\n",
       "\n",
       "    .dataframe thead th {\n",
       "        text-align: right;\n",
       "    }\n",
       "</style>\n",
       "<table border=\"1\" class=\"dataframe\">\n",
       "  <thead>\n",
       "    <tr style=\"text-align: right;\">\n",
       "      <th></th>\n",
       "      <th>amount</th>\n",
       "      <th>oldbalanceOrg</th>\n",
       "      <th>newbalanceOrig</th>\n",
       "      <th>oldbalanceDest</th>\n",
       "      <th>newbalanceDest</th>\n",
       "      <th>isFraud</th>\n",
       "      <th>CASH_OUT</th>\n",
       "    </tr>\n",
       "  </thead>\n",
       "  <tbody>\n",
       "    <tr>\n",
       "      <th>15</th>\n",
       "      <td>229133</td>\n",
       "      <td>15325</td>\n",
       "      <td>0</td>\n",
       "      <td>5083</td>\n",
       "      <td>51513</td>\n",
       "      <td>0</td>\n",
       "      <td>1</td>\n",
       "    </tr>\n",
       "    <tr>\n",
       "      <th>19</th>\n",
       "      <td>215310</td>\n",
       "      <td>705</td>\n",
       "      <td>0</td>\n",
       "      <td>22425</td>\n",
       "      <td>0</td>\n",
       "      <td>0</td>\n",
       "      <td>0</td>\n",
       "    </tr>\n",
       "    <tr>\n",
       "      <th>24</th>\n",
       "      <td>311685</td>\n",
       "      <td>10835</td>\n",
       "      <td>0</td>\n",
       "      <td>6267</td>\n",
       "      <td>2719172</td>\n",
       "      <td>0</td>\n",
       "      <td>0</td>\n",
       "    </tr>\n",
       "    <tr>\n",
       "      <th>42</th>\n",
       "      <td>110414</td>\n",
       "      <td>26845</td>\n",
       "      <td>0</td>\n",
       "      <td>288800</td>\n",
       "      <td>2415</td>\n",
       "      <td>0</td>\n",
       "      <td>1</td>\n",
       "    </tr>\n",
       "    <tr>\n",
       "      <th>47</th>\n",
       "      <td>56953</td>\n",
       "      <td>1942</td>\n",
       "      <td>0</td>\n",
       "      <td>70253</td>\n",
       "      <td>64106</td>\n",
       "      <td>0</td>\n",
       "      <td>1</td>\n",
       "    </tr>\n",
       "    <tr>\n",
       "      <th>...</th>\n",
       "      <td>...</td>\n",
       "      <td>...</td>\n",
       "      <td>...</td>\n",
       "      <td>...</td>\n",
       "      <td>...</td>\n",
       "      <td>...</td>\n",
       "      <td>...</td>\n",
       "    </tr>\n",
       "    <tr>\n",
       "      <th>6359043</th>\n",
       "      <td>8443528</td>\n",
       "      <td>8443528</td>\n",
       "      <td>0</td>\n",
       "      <td>0</td>\n",
       "      <td>0</td>\n",
       "      <td>1</td>\n",
       "      <td>0</td>\n",
       "    </tr>\n",
       "    <tr>\n",
       "      <th>4775</th>\n",
       "      <td>86070</td>\n",
       "      <td>86070</td>\n",
       "      <td>0</td>\n",
       "      <td>0</td>\n",
       "      <td>0</td>\n",
       "      <td>1</td>\n",
       "      <td>0</td>\n",
       "    </tr>\n",
       "    <tr>\n",
       "      <th>5186345</th>\n",
       "      <td>140807</td>\n",
       "      <td>140807</td>\n",
       "      <td>0</td>\n",
       "      <td>137903</td>\n",
       "      <td>278711</td>\n",
       "      <td>1</td>\n",
       "      <td>1</td>\n",
       "    </tr>\n",
       "    <tr>\n",
       "      <th>5563708</th>\n",
       "      <td>10000000</td>\n",
       "      <td>10000000</td>\n",
       "      <td>0</td>\n",
       "      <td>109827</td>\n",
       "      <td>10109827</td>\n",
       "      <td>1</td>\n",
       "      <td>1</td>\n",
       "    </tr>\n",
       "    <tr>\n",
       "      <th>1030314</th>\n",
       "      <td>829885</td>\n",
       "      <td>829885</td>\n",
       "      <td>0</td>\n",
       "      <td>13276462</td>\n",
       "      <td>14106347</td>\n",
       "      <td>1</td>\n",
       "      <td>1</td>\n",
       "    </tr>\n",
       "  </tbody>\n",
       "</table>\n",
       "<p>5524392 rows × 7 columns</p>\n",
       "</div>"
      ],
      "text/plain": [
       "           amount  oldbalanceOrg  newbalanceOrig  oldbalanceDest  \\\n",
       "15         229133          15325               0            5083   \n",
       "19         215310            705               0           22425   \n",
       "24         311685          10835               0            6267   \n",
       "42         110414          26845               0          288800   \n",
       "47          56953           1942               0           70253   \n",
       "...           ...            ...             ...             ...   \n",
       "6359043   8443528        8443528               0               0   \n",
       "4775        86070          86070               0               0   \n",
       "5186345    140807         140807               0          137903   \n",
       "5563708  10000000       10000000               0          109827   \n",
       "1030314    829885         829885               0        13276462   \n",
       "\n",
       "         newbalanceDest  isFraud  CASH_OUT  \n",
       "15                51513        0         1  \n",
       "19                    0        0         0  \n",
       "24              2719172        0         0  \n",
       "42                 2415        0         1  \n",
       "47                64106        0         1  \n",
       "...                 ...      ...       ...  \n",
       "6359043               0        1         0  \n",
       "4775                  0        1         0  \n",
       "5186345          278711        1         1  \n",
       "5563708        10109827        1         1  \n",
       "1030314        14106347        1         1  \n",
       "\n",
       "[5524392 rows x 7 columns]"
      ]
     },
     "execution_count": 102,
     "metadata": {},
     "output_type": "execute_result"
    }
   ],
   "source": [
    "df_test_over"
   ]
  },
  {
   "cell_type": "code",
   "execution_count": 103,
   "id": "be28a143",
   "metadata": {},
   "outputs": [],
   "source": [
    "X = df_test_over.drop(['isFraud'],axis = 'columns')\n",
    "y = df_test_over['isFraud']"
   ]
  },
  {
   "cell_type": "code",
   "execution_count": 104,
   "id": "caabcfab",
   "metadata": {},
   "outputs": [
    {
     "data": {
      "text/plain": [
       "(5524392, 6)"
      ]
     },
     "execution_count": 104,
     "metadata": {},
     "output_type": "execute_result"
    }
   ],
   "source": [
    "X.shape"
   ]
  },
  {
   "cell_type": "code",
   "execution_count": 105,
   "id": "fea7ef67",
   "metadata": {},
   "outputs": [
    {
     "data": {
      "text/plain": [
       "(5524392,)"
      ]
     },
     "execution_count": 105,
     "metadata": {},
     "output_type": "execute_result"
    }
   ],
   "source": [
    "y.shape"
   ]
  },
  {
   "cell_type": "code",
   "execution_count": 106,
   "id": "aae31cfc",
   "metadata": {},
   "outputs": [
    {
     "data": {
      "text/plain": [
       "0    2762196\n",
       "1    2762196\n",
       "Name: isFraud, dtype: int64"
      ]
     },
     "execution_count": 106,
     "metadata": {},
     "output_type": "execute_result"
    }
   ],
   "source": [
    "y.value_counts()"
   ]
  },
  {
   "cell_type": "code",
   "execution_count": 107,
   "id": "737a36d2",
   "metadata": {},
   "outputs": [],
   "source": [
    "from sklearn.model_selection import train_test_split\n",
    "X_train,X_test,y_train, y_test = train_test_split(X,y,test_size = 0.2, stratify = y) \n",
    "# stratify ensures equal dist of X and y values while splitting."
   ]
  },
  {
   "cell_type": "code",
   "execution_count": 108,
   "id": "c913773a",
   "metadata": {},
   "outputs": [],
   "source": [
    "def shape_print (X_train,X_test,y_train,y_test):\n",
    "    list = [X_train,X_test,y_train,y_test]\n",
    "    list1 = ['X_train','X_test','y_train','y_test']\n",
    "    for i,j in zip(list,list1):\n",
    "        print(f'{j} : {i.shape}')"
   ]
  },
  {
   "cell_type": "code",
   "execution_count": 109,
   "id": "b5e9039b",
   "metadata": {},
   "outputs": [],
   "source": [
    "def value_counts(y_train,y_test):\n",
    "    print (y_train.value_counts())\n",
    "    print (y_test.value_counts())"
   ]
  },
  {
   "cell_type": "code",
   "execution_count": 110,
   "id": "6e308aa5",
   "metadata": {},
   "outputs": [
    {
     "name": "stdout",
     "output_type": "stream",
     "text": [
      "X_train : (4419513, 6)\n",
      "X_test : (1104879, 6)\n",
      "y_train : (4419513,)\n",
      "y_test : (1104879,)\n"
     ]
    }
   ],
   "source": [
    "shape_print(X_train,X_test,y_train,y_test)"
   ]
  },
  {
   "cell_type": "code",
   "execution_count": 111,
   "id": "7a67d299",
   "metadata": {},
   "outputs": [
    {
     "name": "stdout",
     "output_type": "stream",
     "text": [
      "1    2209757\n",
      "0    2209756\n",
      "Name: isFraud, dtype: int64\n",
      "0    552440\n",
      "1    552439\n",
      "Name: isFraud, dtype: int64\n"
     ]
    }
   ],
   "source": [
    "value_counts(y_train,y_test) # When Strat is  used"
   ]
  },
  {
   "cell_type": "code",
   "execution_count": null,
   "id": "d35f8d60",
   "metadata": {},
   "outputs": [],
   "source": [
    "# from sklearn.linear_model import LogisticRegression\n",
    "# logmodel_balanced_OS = LogisticRegression()\n",
    "# logmodel_balanced_OS.fit(X_train,y_train)"
   ]
  },
  {
   "cell_type": "code",
   "execution_count": 112,
   "id": "7af585b3",
   "metadata": {},
   "outputs": [],
   "source": [
    "import joblib\n",
    "# joblib.dump(logmodel_balanced_OS,'logmodel_balanced_OS')\n",
    "logmodel_balanced_OS= joblib.load('logmodel_balanced_OS')"
   ]
  },
  {
   "cell_type": "code",
   "execution_count": 113,
   "id": "f3a5acfa",
   "metadata": {},
   "outputs": [
    {
     "data": {
      "text/plain": [
       "0.9231264237984431"
      ]
     },
     "execution_count": 113,
     "metadata": {},
     "output_type": "execute_result"
    }
   ],
   "source": [
    "logmodel_balanced_OS.score(X_test,y_test) # Accuracy of 92%"
   ]
  },
  {
   "cell_type": "code",
   "execution_count": 114,
   "id": "9da674ea",
   "metadata": {},
   "outputs": [
    {
     "data": {
      "text/plain": [
       "array([[3.60343183e-01, 6.39656817e-01],\n",
       "       [6.22403085e-04, 9.99377597e-01],\n",
       "       [9.79350785e-01, 2.06492146e-02],\n",
       "       ...,\n",
       "       [0.00000000e+00, 1.00000000e+00],\n",
       "       [1.00000000e+00, 1.33703345e-12],\n",
       "       [2.52681989e-02, 9.74731801e-01]])"
      ]
     },
     "execution_count": 114,
     "metadata": {},
     "output_type": "execute_result"
    }
   ],
   "source": [
    "logmodel_balanced_OS.predict_proba(X_test)"
   ]
  },
  {
   "cell_type": "code",
   "execution_count": 115,
   "id": "1831969a",
   "metadata": {},
   "outputs": [
    {
     "data": {
      "text/plain": [
       "array([1, 1, 0, ..., 1, 0, 1])"
      ]
     },
     "execution_count": 115,
     "metadata": {},
     "output_type": "execute_result"
    }
   ],
   "source": [
    "y_pred= logmodel_balanced_OS.predict(X_test)\n",
    "y_pred"
   ]
  },
  {
   "cell_type": "code",
   "execution_count": 116,
   "id": "2da32034",
   "metadata": {},
   "outputs": [
    {
     "data": {
      "text/plain": [
       "Text(24.0, 0.5, 'True')"
      ]
     },
     "execution_count": 116,
     "metadata": {},
     "output_type": "execute_result"
    },
    {
     "data": {
      "image/png": "[encoded data removed]",
      "text/plain": [
       "<Figure size 360x252 with 2 Axes>"
      ]
     },
     "metadata": {
      "needs_background": "light"
     },
     "output_type": "display_data"
    }
   ],
   "source": [
    "from sklearn.metrics import confusion_matrix\n",
    "cm = confusion_matrix(y_test,y_pred)\n",
    "import seaborn as sn\n",
    "plt.figure (figsize =(5,3.5))\n",
    "sn.heatmap(cm, annot = True,fmt = \"d\" )\n",
    "plt.xlabel(\"Predicted\")\n",
    "plt.ylabel(\"True\")"
   ]
  },
  {
   "cell_type": "code",
   "execution_count": 117,
   "id": "f411529a",
   "metadata": {},
   "outputs": [
    {
     "name": "stdout",
     "output_type": "stream",
     "text": [
      "              precision    recall  f1-score   support\n",
      "\n",
      "           0       0.97      0.88      0.92    552440\n",
      "           1       0.89      0.97      0.93    552439\n",
      "\n",
      "    accuracy                           0.92   1104879\n",
      "   macro avg       0.93      0.92      0.92   1104879\n",
      "weighted avg       0.93      0.92      0.92   1104879\n",
      "\n"
     ]
    }
   ],
   "source": [
    "from sklearn.metrics import confusion_matrix, classification_report\n",
    "print(classification_report(y_test,y_pred))"
   ]
  },
  {
   "cell_type": "markdown",
   "id": "1432d00f",
   "metadata": {},
   "source": [
    "    We can see a significant improvement in precision recall and f1 score after balancing dataset.\n",
    "    for class 0 precision recall and f1 dropped\n",
    "    for class 1 precsion recall and f1 increased\n",
    "    accuracy dropped from 1 to 0.92\n",
    "    Lets check the accuracy using cross validation."
   ]
  },
  {
   "cell_type": "markdown",
   "id": "a2b45245",
   "metadata": {},
   "source": [
    "__Cross Validation Score__"
   ]
  },
  {
   "cell_type": "code",
   "execution_count": 118,
   "id": "99459814",
   "metadata": {},
   "outputs": [],
   "source": [
    "from sklearn.model_selection import cross_val_score  # default n_splits= 5.Train test split is not required for C-validation\n",
    "# scores = cross_val_score(LogisticRegression(),X,y)"
   ]
  },
  {
   "cell_type": "code",
   "execution_count": 119,
   "id": "bd390ac1",
   "metadata": {},
   "outputs": [],
   "source": [
    "import joblib\n",
    "# joblib.dump(scores,'bal_cv_scores')\n",
    "bal_cv_scores= joblib.load('bal_cv_scores')"
   ]
  },
  {
   "cell_type": "code",
   "execution_count": 120,
   "id": "a22420ed",
   "metadata": {},
   "outputs": [
    {
     "data": {
      "text/plain": [
       "array([0.91217138, 0.92504428, 0.9245971 , 0.92858759, 0.9254162 ])"
      ]
     },
     "execution_count": 120,
     "metadata": {},
     "output_type": "execute_result"
    }
   ],
   "source": [
    "bal_cv_scores"
   ]
  },
  {
   "cell_type": "code",
   "execution_count": 121,
   "id": "1c883cc6",
   "metadata": {},
   "outputs": [
    {
     "data": {
      "text/plain": [
       "0.9231633108423448"
      ]
     },
     "execution_count": 121,
     "metadata": {},
     "output_type": "execute_result"
    }
   ],
   "source": [
    "np.mean(bal_cv_scores)"
   ]
  },
  {
   "cell_type": "markdown",
   "id": "182e03bf",
   "metadata": {},
   "source": [
    "__Hyper Parameter Tuning__\n",
    "\n",
    "    Using SKLEARN's Grid Search CV to fine tune our model and select the best model and parameters."
   ]
  },
  {
   "cell_type": "code",
   "execution_count": 122,
   "id": "ae1b3af2",
   "metadata": {},
   "outputs": [],
   "source": [
    "from sklearn.svm import SVC\n",
    "from sklearn.ensemble import RandomForestClassifier\n",
    "from sklearn.linear_model import LogisticRegression\n",
    "from sklearn.naive_bayes import GaussianNB\n",
    "from sklearn.naive_bayes import MultinomialNB\n",
    "from sklearn.tree import DecisionTreeClassifier"
   ]
  },
  {
   "cell_type": "code",
   "execution_count": null,
   "id": "a4b7529a",
   "metadata": {},
   "outputs": [],
   "source": [
    "# model_params = {                           # creating model parameters\n",
    "#     'svm': {\n",
    "#         'model': SVC(gamma='auto'),\n",
    "#         'params': {\n",
    "#             'C':[1,10,20],\n",
    "#             'kernel': ['rbf','linear']\n",
    "#         }\n",
    "#     },\n",
    "#     'random_forest':{\n",
    "#         'model': RandomForestClassifier(),\n",
    "#         'params': {\n",
    "#             'n_estimators': [1,5,10]\n",
    "#         }\n",
    "#     },\n",
    "#     'logistic_regression': {\n",
    "#         'model': LogisticRegression(),\n",
    "#         'params': {\n",
    "#             'C': [1,5,10]\n",
    "#         }\n",
    "#     },\n",
    "#      'Gaussian_NB': {\n",
    "#         'model': GaussianNB(),\n",
    "#         'params': {\n",
    "       \n",
    "#         }\n",
    "#     },\n",
    "#      'Multinomial_NB': {\n",
    "#         'model': MultinomialNB(),\n",
    "#         'params': {\n",
    "           \n",
    "#         }\n",
    "#     },\n",
    "#      'Decision_Tree_Classifier': {\n",
    "#         'model': DecisionTreeClassifier(),\n",
    "#         'params': {\n",
    "#             'criterion': ['gini','entropy']\n",
    "#         }\n",
    "#     }\n",
    "# }"
   ]
  },
  {
   "cell_type": "markdown",
   "id": "d980c902",
   "metadata": {},
   "source": [
    "    While all the above algorithms can be used to predict the fraud using gridsearchCV, decision tree performs well in the case of classification. Here, to reduce the computation time, intuitively selecting decision tree for further predictions.Comparison between ['gini','entropy'] parameters will be made and best parameter will be selected to build the model."
   ]
  },
  {
   "cell_type": "markdown",
   "id": "e2617ec4",
   "metadata": {},
   "source": [
    "**Hypertuning models with multiple parameters is computationally expensive on CPU.**\n",
    "\n",
    "**We can tackle this problem in following order of priority:** \n",
    "     \n",
    "     1. Distributed training on GPU by parallel batch training methods.\n",
    "     2. Randomized search CV (selecting the random combinations of parameters)\n",
    "     3. Reducing the sample size for training (reducing training samples)\n",
    "\n",
    "**Now just using Decision tree with parameters ['gini','entropy'] to find the scores with crossvalidation = 3**"
   ]
  },
  {
   "cell_type": "code",
   "execution_count": null,
   "id": "8fe42570",
   "metadata": {},
   "outputs": [],
   "source": [
    "# model_params = {                           # creating model parameters\n",
    "#      'Decision_Tree_Classifier': {\n",
    "#         'model': DecisionTreeClassifier(),\n",
    "#         'params': {\n",
    "#             'criterion': ['gini','entropy']\n",
    "#         }\n",
    "#     }\n",
    "# }"
   ]
  },
  {
   "cell_type": "code",
   "execution_count": null,
   "id": "41460ff6",
   "metadata": {},
   "outputs": [],
   "source": [
    "# model_params1 = {                           # creating model parameters\n",
    "#     'svm': {\n",
    "#         'model': SVC(gamma='auto'),\n",
    "#         'params': {\n",
    "#             'C':[1,10,20],\n",
    "#             'kernel': ['rbf','linear']\n",
    "#         }\n",
    "#     },\n",
    "#     'random_forest':{\n",
    "#         'model': RandomForestClassifier(),\n",
    "#         'params': {\n",
    "#             'n_estimators': [1,5,10]\n",
    "#         }\n",
    "#     },\n",
    "#      'Decision_Tree_Classifier': {\n",
    "#         'model': DecisionTreeClassifier(),\n",
    "#         'params': {\n",
    "#             'criterion': ['gini','entropy']\n",
    "#         }\n",
    "#     }\n",
    "# }"
   ]
  },
  {
   "cell_type": "code",
   "execution_count": 123,
   "id": "6ba0af9e",
   "metadata": {},
   "outputs": [],
   "source": [
    "# from sklearn.model_selection import GridSearchCV #takes (estimator, param_grid, cv)"
   ]
  },
  {
   "cell_type": "code",
   "execution_count": null,
   "id": "ed09baff",
   "metadata": {},
   "outputs": [],
   "source": [
    "# HT_scores = []\n",
    "# for i,j in model_params.items():\n",
    "#     clf = GridSearchCV(j['model'], j['params'],cv =3)\n",
    "#     clf.fit(X,y)\n",
    "#     HT_scores.append({\n",
    "#         'MODEL': i,\n",
    "#         'BEST SCORE': clf.best_score_,\n",
    "#         'BEST PARAMS': clf.best_params_\n",
    "#     })\n",
    "# HT_scores"
   ]
  },
  {
   "cell_type": "code",
   "execution_count": null,
   "id": "dd553fa6",
   "metadata": {},
   "outputs": [],
   "source": [
    "# HT_scores1 = []\n",
    "# for i,j in model_params1.items():\n",
    "#     clf = GridSearchCV(j['model'], j['params'],cv =3)\n",
    "#     clf.fit(X,y)\n",
    "#     HT_scores1.append({\n",
    "#         'MODEL': i,\n",
    "#         'BEST SCORE': clf.best_score_,\n",
    "#         'BEST PARAMS': clf.best_params_\n",
    "#     })\n",
    "# HT_scores1"
   ]
  },
  {
   "cell_type": "code",
   "execution_count": 124,
   "id": "eba81fd7",
   "metadata": {},
   "outputs": [
    {
     "data": {
      "text/plain": [
       "[{'MODEL': 'Decision_Tree_Classifier',\n",
       "  'BEST SCORE': 0.9998097528198578,\n",
       "  'BEST PARAMS': {'criterion': 'entropy'}}]"
      ]
     },
     "execution_count": 124,
     "metadata": {},
     "output_type": "execute_result"
    }
   ],
   "source": [
    "import joblib                \n",
    "# joblib.dump(HT_scores1,'HT_scores')\n",
    "HT_scores= joblib.load('HT_scores')\n",
    "HT_scores"
   ]
  },
  {
   "cell_type": "code",
   "execution_count": null,
   "id": "84222281",
   "metadata": {},
   "outputs": [],
   "source": [
    "# import joblib                \n",
    "# joblib.dump(HT_scores1,'HT_scores1')\n",
    "# HT_scores1= joblib.load('HT_scores1')\n",
    "# HT_scores1"
   ]
  },
  {
   "cell_type": "code",
   "execution_count": 125,
   "id": "2c0db6df",
   "metadata": {},
   "outputs": [
    {
     "data": {
      "text/html": [
       "<div>\n",
       "<style scoped>\n",
       "    .dataframe tbody tr th:only-of-type {\n",
       "        vertical-align: middle;\n",
       "    }\n",
       "\n",
       "    .dataframe tbody tr th {\n",
       "        vertical-align: top;\n",
       "    }\n",
       "\n",
       "    .dataframe thead th {\n",
       "        text-align: right;\n",
       "    }\n",
       "</style>\n",
       "<table border=\"1\" class=\"dataframe\">\n",
       "  <thead>\n",
       "    <tr style=\"text-align: right;\">\n",
       "      <th></th>\n",
       "      <th>MODEL</th>\n",
       "      <th>BEST SCORE</th>\n",
       "      <th>BEST PARAMS</th>\n",
       "    </tr>\n",
       "  </thead>\n",
       "  <tbody>\n",
       "    <tr>\n",
       "      <th>0</th>\n",
       "      <td>Decision_Tree_Classifier</td>\n",
       "      <td>0.99981</td>\n",
       "      <td>{'criterion': 'entropy'}</td>\n",
       "    </tr>\n",
       "  </tbody>\n",
       "</table>\n",
       "</div>"
      ],
      "text/plain": [
       "                      MODEL  BEST SCORE               BEST PARAMS\n",
       "0  Decision_Tree_Classifier     0.99981  {'criterion': 'entropy'}"
      ]
     },
     "execution_count": 125,
     "metadata": {},
     "output_type": "execute_result"
    }
   ],
   "source": [
    "best_model = pd.DataFrame(HT_scores) # creating dataframe from the above scores \n",
    "best_model"
   ]
  },
  {
   "cell_type": "markdown",
   "id": "8b3eb4a6",
   "metadata": {},
   "source": [
    "    We found decision tree with criterion: 'entropy' to be the best Algorithm that gives the best score.\n",
    "    We can use this algorithm to further predict our model and create a pipeline."
   ]
  },
  {
   "cell_type": "markdown",
   "id": "c62cef2e",
   "metadata": {},
   "source": [
    "## Step 3. Selecting the best model from hyper parameter tuning scores to train the model."
   ]
  },
  {
   "cell_type": "markdown",
   "id": "0ba83746",
   "metadata": {},
   "source": [
    "__Predicting using Decision tree: criterion: 'entropy'__"
   ]
  },
  {
   "cell_type": "code",
   "execution_count": 130,
   "id": "298733f6",
   "metadata": {},
   "outputs": [],
   "source": [
    "from sklearn import tree"
   ]
  },
  {
   "cell_type": "code",
   "execution_count": null,
   "id": "dafb1dc0",
   "metadata": {},
   "outputs": [],
   "source": [
    "# DTmodel = tree.DecisionTreeClassifier(criterion='entropy')\n",
    "# DTmodel.fit(X_train,y_train)"
   ]
  },
  {
   "cell_type": "code",
   "execution_count": 132,
   "id": "bd1848ff",
   "metadata": {},
   "outputs": [
    {
     "data": {
      "text/plain": [
       "DecisionTreeClassifier(criterion='entropy')"
      ]
     },
     "execution_count": 132,
     "metadata": {},
     "output_type": "execute_result"
    }
   ],
   "source": [
    "import joblib                \n",
    "# joblib.dump(DTmodel,'DT_model')\n",
    "DT_model= joblib.load('DT_model')\n",
    "DT_model"
   ]
  },
  {
   "cell_type": "code",
   "execution_count": 133,
   "id": "6876eac5",
   "metadata": {},
   "outputs": [
    {
     "data": {
      "text/plain": [
       "0.9999692273995614"
      ]
     },
     "execution_count": 133,
     "metadata": {},
     "output_type": "execute_result"
    }
   ],
   "source": [
    "DT_model.score(X_test,y_test)"
   ]
  },
  {
   "cell_type": "code",
   "execution_count": 134,
   "id": "135352b7",
   "metadata": {},
   "outputs": [
    {
     "data": {
      "text/plain": [
       "array([0, 1, 0, ..., 1, 0, 1])"
      ]
     },
     "execution_count": 134,
     "metadata": {},
     "output_type": "execute_result"
    }
   ],
   "source": [
    "y_pred= DT_model.predict(X_test)\n",
    "y_pred"
   ]
  },
  {
   "cell_type": "code",
   "execution_count": 135,
   "id": "259b0d9e",
   "metadata": {},
   "outputs": [],
   "source": [
    "from sklearn.model_selection import cross_val_score  # default n_splits= 5.Train test split is not required for C-validation\n",
    "DT_scores = cross_val_score(tree.DecisionTreeClassifier(criterion='entropy'),X,y)"
   ]
  },
  {
   "cell_type": "code",
   "execution_count": 137,
   "id": "1d4b1ca0",
   "metadata": {},
   "outputs": [
    {
     "data": {
      "text/plain": [
       "array([0.99973029, 0.99986876, 0.99986333, 0.99986424, 0.99984885])"
      ]
     },
     "execution_count": 137,
     "metadata": {},
     "output_type": "execute_result"
    }
   ],
   "source": [
    "import joblib                \n",
    "joblib.dump(DT_scores,'DT_scores')\n",
    "DT_scores= joblib.load('DT_scores')\n",
    "DT_scores"
   ]
  },
  {
   "cell_type": "code",
   "execution_count": 143,
   "id": "f095ec34",
   "metadata": {},
   "outputs": [
    {
     "data": {
      "text/plain": [
       "0.9998350949880347"
      ]
     },
     "execution_count": 143,
     "metadata": {},
     "output_type": "execute_result"
    }
   ],
   "source": [
    "np.mean(DT_scores)"
   ]
  },
  {
   "cell_type": "code",
   "execution_count": 138,
   "id": "41bfb9b7",
   "metadata": {},
   "outputs": [
    {
     "data": {
      "text/plain": [
       "Text(24.0, 0.5, 'True')"
      ]
     },
     "execution_count": 138,
     "metadata": {},
     "output_type": "execute_result"
    },
    {
     "data": {
      "image/png": "[encoded data removed]",
      "text/plain": [
       "<Figure size 360x252 with 2 Axes>"
      ]
     },
     "metadata": {
      "needs_background": "light"
     },
     "output_type": "display_data"
    }
   ],
   "source": [
    "from sklearn.metrics import confusion_matrix\n",
    "cm = confusion_matrix(y_test,y_pred)\n",
    "import seaborn as sn\n",
    "plt.figure (figsize =(5,3.5))\n",
    "sn.heatmap(cm, annot = True,fmt = \"d\" )\n",
    "plt.xlabel(\"Predicted\")\n",
    "plt.ylabel(\"True\")"
   ]
  },
  {
   "cell_type": "code",
   "execution_count": 139,
   "id": "62d08f57",
   "metadata": {
    "scrolled": true
   },
   "outputs": [
    {
     "name": "stdout",
     "output_type": "stream",
     "text": [
      "              precision    recall  f1-score   support\n",
      "\n",
      "           0       1.00      1.00      1.00    552440\n",
      "           1       1.00      1.00      1.00    552439\n",
      "\n",
      "    accuracy                           1.00   1104879\n",
      "   macro avg       1.00      1.00      1.00   1104879\n",
      "weighted avg       1.00      1.00      1.00   1104879\n",
      "\n"
     ]
    }
   ],
   "source": [
    "from sklearn.metrics import confusion_matrix, classification_report\n",
    "print(classification_report(y_test,y_pred))"
   ]
  },
  {
   "cell_type": "markdown",
   "id": "8f38561b",
   "metadata": {},
   "source": [
    "    Conclusion:\n",
    "    Decision tree with entropy gave the best score of 99.98542826861584 % \n",
    "    Confusion matrix results of Decision Tree Classifier are better as compared to the logistic regression.\n",
    "    Supports are balanced perfectly for values of 1 and 0\n",
    "    Precision,recall and f1 score shows significant improvements."
   ]
  },
  {
   "cell_type": "code",
   "execution_count": 140,
   "id": "d2511be0",
   "metadata": {},
   "outputs": [
    {
     "data": {
      "text/html": [
       "<div>\n",
       "<style scoped>\n",
       "    .dataframe tbody tr th:only-of-type {\n",
       "        vertical-align: middle;\n",
       "    }\n",
       "\n",
       "    .dataframe tbody tr th {\n",
       "        vertical-align: top;\n",
       "    }\n",
       "\n",
       "    .dataframe thead th {\n",
       "        text-align: right;\n",
       "    }\n",
       "</style>\n",
       "<table border=\"1\" class=\"dataframe\">\n",
       "  <thead>\n",
       "    <tr style=\"text-align: right;\">\n",
       "      <th></th>\n",
       "      <th>amount</th>\n",
       "      <th>oldbalanceOrg</th>\n",
       "      <th>newbalanceOrig</th>\n",
       "      <th>oldbalanceDest</th>\n",
       "      <th>newbalanceDest</th>\n",
       "      <th>CASH_OUT</th>\n",
       "    </tr>\n",
       "  </thead>\n",
       "  <tbody>\n",
       "    <tr>\n",
       "      <th>4877120</th>\n",
       "      <td>89241</td>\n",
       "      <td>87952</td>\n",
       "      <td>0</td>\n",
       "      <td>880310</td>\n",
       "      <td>969552</td>\n",
       "      <td>1</td>\n",
       "    </tr>\n",
       "    <tr>\n",
       "      <th>6333195</th>\n",
       "      <td>912950</td>\n",
       "      <td>912950</td>\n",
       "      <td>0</td>\n",
       "      <td>2316416</td>\n",
       "      <td>3229367</td>\n",
       "      <td>1</td>\n",
       "    </tr>\n",
       "    <tr>\n",
       "      <th>5373257</th>\n",
       "      <td>232894</td>\n",
       "      <td>0</td>\n",
       "      <td>0</td>\n",
       "      <td>682348</td>\n",
       "      <td>915243</td>\n",
       "      <td>0</td>\n",
       "    </tr>\n",
       "    <tr>\n",
       "      <th>4580662</th>\n",
       "      <td>364375</td>\n",
       "      <td>364375</td>\n",
       "      <td>0</td>\n",
       "      <td>1167810</td>\n",
       "      <td>1532186</td>\n",
       "      <td>1</td>\n",
       "    </tr>\n",
       "    <tr>\n",
       "      <th>1216102</th>\n",
       "      <td>420353</td>\n",
       "      <td>146783</td>\n",
       "      <td>0</td>\n",
       "      <td>221030</td>\n",
       "      <td>641383</td>\n",
       "      <td>1</td>\n",
       "    </tr>\n",
       "    <tr>\n",
       "      <th>...</th>\n",
       "      <td>...</td>\n",
       "      <td>...</td>\n",
       "      <td>...</td>\n",
       "      <td>...</td>\n",
       "      <td>...</td>\n",
       "      <td>...</td>\n",
       "    </tr>\n",
       "    <tr>\n",
       "      <th>718845</th>\n",
       "      <td>44885</td>\n",
       "      <td>207451</td>\n",
       "      <td>162566</td>\n",
       "      <td>903880</td>\n",
       "      <td>948765</td>\n",
       "      <td>1</td>\n",
       "    </tr>\n",
       "    <tr>\n",
       "      <th>1932211</th>\n",
       "      <td>18887</td>\n",
       "      <td>18887</td>\n",
       "      <td>0</td>\n",
       "      <td>0</td>\n",
       "      <td>0</td>\n",
       "      <td>0</td>\n",
       "    </tr>\n",
       "    <tr>\n",
       "      <th>3960329</th>\n",
       "      <td>10000000</td>\n",
       "      <td>10000000</td>\n",
       "      <td>0</td>\n",
       "      <td>920463</td>\n",
       "      <td>10920463</td>\n",
       "      <td>1</td>\n",
       "    </tr>\n",
       "    <tr>\n",
       "      <th>1573150</th>\n",
       "      <td>1722572</td>\n",
       "      <td>15121</td>\n",
       "      <td>0</td>\n",
       "      <td>356041</td>\n",
       "      <td>2078614</td>\n",
       "      <td>0</td>\n",
       "    </tr>\n",
       "    <tr>\n",
       "      <th>5257406</th>\n",
       "      <td>299172</td>\n",
       "      <td>299172</td>\n",
       "      <td>0</td>\n",
       "      <td>45633</td>\n",
       "      <td>269864</td>\n",
       "      <td>1</td>\n",
       "    </tr>\n",
       "  </tbody>\n",
       "</table>\n",
       "<p>1104879 rows × 6 columns</p>\n",
       "</div>"
      ],
      "text/plain": [
       "           amount  oldbalanceOrg  newbalanceOrig  oldbalanceDest  \\\n",
       "4877120     89241          87952               0          880310   \n",
       "6333195    912950         912950               0         2316416   \n",
       "5373257    232894              0               0          682348   \n",
       "4580662    364375         364375               0         1167810   \n",
       "1216102    420353         146783               0          221030   \n",
       "...           ...            ...             ...             ...   \n",
       "718845      44885         207451          162566          903880   \n",
       "1932211     18887          18887               0               0   \n",
       "3960329  10000000       10000000               0          920463   \n",
       "1573150   1722572          15121               0          356041   \n",
       "5257406    299172         299172               0           45633   \n",
       "\n",
       "         newbalanceDest  CASH_OUT  \n",
       "4877120          969552         1  \n",
       "6333195         3229367         1  \n",
       "5373257          915243         0  \n",
       "4580662         1532186         1  \n",
       "1216102          641383         1  \n",
       "...                 ...       ...  \n",
       "718845           948765         1  \n",
       "1932211               0         0  \n",
       "3960329        10920463         1  \n",
       "1573150         2078614         0  \n",
       "5257406          269864         1  \n",
       "\n",
       "[1104879 rows x 6 columns]"
      ]
     },
     "execution_count": 140,
     "metadata": {},
     "output_type": "execute_result"
    }
   ],
   "source": [
    "X_test"
   ]
  },
  {
   "cell_type": "markdown",
   "id": "6f44207e",
   "metadata": {},
   "source": [
    "**Entering some random values to predict if fraud is detected using our joblib model.**"
   ]
  },
  {
   "cell_type": "code",
   "execution_count": 141,
   "id": "ec935dcb",
   "metadata": {
    "scrolled": true
   },
   "outputs": [
    {
     "data": {
      "text/plain": [
       "array([1])"
      ]
     },
     "execution_count": 141,
     "metadata": {},
     "output_type": "execute_result"
    }
   ],
   "source": [
    "DT_model.predict([[123548,1254887,0,8745478,457878,1]]) # Case of fraud happening"
   ]
  },
  {
   "cell_type": "code",
   "execution_count": 142,
   "id": "de09b0c8",
   "metadata": {},
   "outputs": [
    {
     "data": {
      "text/plain": [
       "array([0])"
      ]
     },
     "execution_count": 142,
     "metadata": {},
     "output_type": "execute_result"
    }
   ],
   "source": [
    "DT_model.predict([[0,12514887,0,8745478,457878,0]]) # Case of fraud not happening"
   ]
  },
  {
   "cell_type": "markdown",
   "id": "b554a34d",
   "metadata": {},
   "source": [
    "**Further pipelines can be created and model can be deployed using flask/django etc**"
   ]
  }
 ],
 "metadata": {
  "kernelspec": {
   "display_name": "Python 3 (ipykernel)",
   "language": "python",
   "name": "python3"
  },
  "language_info": {
   "codemirror_mode": {
    "name": "ipython",
    "version": 3
   },
   "file_extension": ".py",
   "mimetype": "text/x-python",
   "name": "python",
   "nbconvert_exporter": "python",
   "pygments_lexer": "ipython3",
   "version": "3.9.12"
  }
 },
 "nbformat": 4,
 "nbformat_minor": 5
}
