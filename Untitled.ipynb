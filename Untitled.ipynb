{
 "cells": [
  {
   "cell_type": "code",
   "execution_count": 1,
   "id": "be467546",
   "metadata": {},
   "outputs": [
    {
     "name": "stdout",
     "output_type": "stream",
     "text": [
      "Collecting jupyterhub\n",
      "  Downloading jupyterhub-3.1.1-py3-none-any.whl (3.8 MB)\n",
      "Requirement already satisfied: psutil>=5.6.5 in c:\\users\\dell\\anaconda3\\lib\\site-packages (from jupyterhub) (5.8.0)\n",
      "Requirement already satisfied: jinja2>=2.11.0 in c:\\users\\dell\\anaconda3\\lib\\site-packages (from jupyterhub) (3.1.2)\n",
      "Requirement already satisfied: packaging in c:\\users\\dell\\anaconda3\\lib\\site-packages (from jupyterhub) (21.3)\n",
      "Requirement already satisfied: python-dateutil in c:\\users\\dell\\anaconda3\\lib\\site-packages (from jupyterhub) (2.8.2)\n",
      "Collecting jupyter-telemetry>=0.1.0\n",
      "  Downloading jupyter_telemetry-0.1.0-py3-none-any.whl (7.1 kB)\n",
      "Collecting alembic>=1.4\n",
      "  Downloading alembic-1.9.3-py3-none-any.whl (210 kB)\n",
      "Requirement already satisfied: traitlets>=4.3.2 in c:\\users\\dell\\anaconda3\\lib\\site-packages (from jupyterhub) (5.1.1)\n",
      "Requirement already satisfied: importlib-metadata>=3.6 in c:\\users\\dell\\anaconda3\\lib\\site-packages (from jupyterhub) (4.11.3)\n",
      "Collecting certipy>=0.1.2\n",
      "  Downloading certipy-0.1.3-py3-none-any.whl (22 kB)\n",
      "Requirement already satisfied: prometheus-client>=0.4.0 in c:\\users\\dell\\anaconda3\\lib\\site-packages (from jupyterhub) (0.13.1)\n",
      "Collecting async-generator>=1.9\n",
      "  Using cached async_generator-1.10-py3-none-any.whl (18 kB)\n",
      "Requirement already satisfied: requests in c:\\users\\dell\\anaconda3\\lib\\site-packages (from jupyterhub) (2.27.1)\n",
      "Requirement already satisfied: oauthlib>=3.0 in c:\\users\\dell\\anaconda3\\lib\\site-packages (from jupyterhub) (3.2.1)\n",
      "Requirement already satisfied: SQLAlchemy>=1.1 in c:\\users\\dell\\anaconda3\\lib\\site-packages (from jupyterhub) (1.4.32)\n",
      "Requirement already satisfied: tornado>=5.1 in c:\\users\\dell\\anaconda3\\lib\\site-packages (from jupyterhub) (6.2)\n",
      "Collecting Mako\n",
      "  Downloading Mako-1.2.4-py3-none-any.whl (78 kB)\n",
      "Requirement already satisfied: pyopenssl in c:\\users\\dell\\anaconda3\\lib\\site-packages (from certipy>=0.1.2->jupyterhub) (21.0.0)\n",
      "Requirement already satisfied: zipp>=0.5 in c:\\users\\dell\\anaconda3\\lib\\site-packages (from importlib-metadata>=3.6->jupyterhub) (3.7.0)\n",
      "Requirement already satisfied: MarkupSafe>=2.0 in c:\\users\\dell\\anaconda3\\lib\\site-packages (from jinja2>=2.11.0->jupyterhub) (2.0.1)\n",
      "Collecting python-json-logger\n",
      "  Downloading python_json_logger-2.0.4-py3-none-any.whl (7.8 kB)\n",
      "Requirement already satisfied: jsonschema in c:\\users\\dell\\anaconda3\\lib\\site-packages (from jupyter-telemetry>=0.1.0->jupyterhub) (4.4.0)\n",
      "Collecting ruamel.yaml\n",
      "  Downloading ruamel.yaml-0.17.21-py3-none-any.whl (109 kB)\n",
      "Requirement already satisfied: greenlet!=0.4.17 in c:\\users\\dell\\anaconda3\\lib\\site-packages (from SQLAlchemy>=1.1->jupyterhub) (1.1.1)\n",
      "Requirement already satisfied: attrs>=17.4.0 in c:\\users\\dell\\anaconda3\\lib\\site-packages (from jsonschema->jupyter-telemetry>=0.1.0->jupyterhub) (21.4.0)\n",
      "Requirement already satisfied: pyrsistent!=0.17.0,!=0.17.1,!=0.17.2,>=0.14.0 in c:\\users\\dell\\anaconda3\\lib\\site-packages (from jsonschema->jupyter-telemetry>=0.1.0->jupyterhub) (0.18.0)\n",
      "Requirement already satisfied: pyparsing!=3.0.5,>=2.0.2 in c:\\users\\dell\\anaconda3\\lib\\site-packages (from packaging->jupyterhub) (3.0.4)\n",
      "Requirement already satisfied: six>=1.5.2 in c:\\users\\dell\\anaconda3\\lib\\site-packages (from pyopenssl->certipy>=0.1.2->jupyterhub) (1.16.0)\n",
      "Requirement already satisfied: cryptography>=3.3 in c:\\users\\dell\\anaconda3\\lib\\site-packages (from pyopenssl->certipy>=0.1.2->jupyterhub) (3.4.8)\n",
      "Requirement already satisfied: cffi>=1.12 in c:\\users\\dell\\anaconda3\\lib\\site-packages (from cryptography>=3.3->pyopenssl->certipy>=0.1.2->jupyterhub) (1.15.0)\n",
      "Requirement already satisfied: pycparser in c:\\users\\dell\\anaconda3\\lib\\site-packages (from cffi>=1.12->cryptography>=3.3->pyopenssl->certipy>=0.1.2->jupyterhub) (2.21)\n",
      "Requirement already satisfied: idna<4,>=2.5 in c:\\users\\dell\\anaconda3\\lib\\site-packages (from requests->jupyterhub) (3.3)\n",
      "Requirement already satisfied: charset-normalizer~=2.0.0 in c:\\users\\dell\\anaconda3\\lib\\site-packages (from requests->jupyterhub) (2.0.4)\n",
      "Requirement already satisfied: urllib3<1.27,>=1.21.1 in c:\\users\\dell\\anaconda3\\lib\\site-packages (from requests->jupyterhub) (1.26.9)\n",
      "Requirement already satisfied: certifi>=2017.4.17 in c:\\users\\dell\\anaconda3\\lib\\site-packages (from requests->jupyterhub) (2021.10.8)\n",
      "Collecting ruamel.yaml.clib>=0.2.6\n",
      "  Downloading ruamel.yaml.clib-0.2.7-cp39-cp39-win_amd64.whl (118 kB)\n",
      "Installing collected packages: ruamel.yaml.clib, ruamel.yaml, python-json-logger, Mako, jupyter-telemetry, certipy, async-generator, alembic, jupyterhub\n",
      "Successfully installed Mako-1.2.4 alembic-1.9.3 async-generator-1.10 certipy-0.1.3 jupyter-telemetry-0.1.0 jupyterhub-3.1.1 python-json-logger-2.0.4 ruamel.yaml-0.17.21 ruamel.yaml.clib-0.2.7\n",
      "Note: you may need to restart the kernel to use updated packages.\n"
     ]
    }
   ],
   "source": [
    "pip install --upgrade jupyterhub"
   ]
  },
  {
   "cell_type": "code",
   "execution_count": 2,
   "id": "56471d66",
   "metadata": {},
   "outputs": [
    {
     "name": "stdout",
     "output_type": "stream",
     "text": [
      "Requirement already satisfied: nbconvert in c:\\users\\dell\\anaconda3\\lib\\site-packages (6.4.4)Note: you may need to restart the kernel to use updated packages.\n"
     ]
    },
    {
     "name": "stderr",
     "output_type": "stream",
     "text": [
      "  WARNING: The scripts jupyter-dejavu.exe and jupyter-nbconvert.exe are installed in 'C:\\Users\\DELL\\AppData\\Roaming\\Python\\Python39\\Scripts' which is not on PATH.\n",
      "  Consider adding this directory to PATH or, if you prefer to suppress this warning, use --no-warn-script-location.\n",
      "ERROR: pip's dependency resolver does not currently take into account all the packages that are installed. This behaviour is the source of the following dependency conflicts.\n",
      "spyder 5.1.5 requires pyqt5<5.13, which is not installed.\n",
      "spyder 5.1.5 requires pyqtwebengine<5.13, which is not installed.\n",
      "jupyter-server 1.13.5 requires pywinpty<2; os_name == \"nt\", but you have pywinpty 2.0.2 which is incompatible.\n"
     ]
    },
    {
     "name": "stdout",
     "output_type": "stream",
     "text": [
      "\n",
      "Collecting nbconvert\n",
      "  Downloading nbconvert-7.2.9-py3-none-any.whl (274 kB)\n",
      "Requirement already satisfied: jinja2>=3.0 in c:\\users\\dell\\anaconda3\\lib\\site-packages (from nbconvert) (3.1.2)\n",
      "Requirement already satisfied: beautifulsoup4 in c:\\users\\dell\\anaconda3\\lib\\site-packages (from nbconvert) (4.11.1)\n",
      "Collecting mistune<3,>=2.0.3\n",
      "  Downloading mistune-2.0.5-py2.py3-none-any.whl (24 kB)\n",
      "Requirement already satisfied: packaging in c:\\users\\dell\\anaconda3\\lib\\site-packages (from nbconvert) (21.3)\n",
      "Requirement already satisfied: traitlets>=5.0 in c:\\users\\dell\\anaconda3\\lib\\site-packages (from nbconvert) (5.1.1)\n",
      "Requirement already satisfied: pygments>=2.4.1 in c:\\users\\dell\\anaconda3\\lib\\site-packages (from nbconvert) (2.11.2)\n",
      "Requirement already satisfied: nbformat>=5.1 in c:\\users\\dell\\anaconda3\\lib\\site-packages (from nbconvert) (5.3.0)\n",
      "Requirement already satisfied: defusedxml in c:\\users\\dell\\anaconda3\\lib\\site-packages (from nbconvert) (0.7.1)\n",
      "Requirement already satisfied: bleach in c:\\users\\dell\\anaconda3\\lib\\site-packages (from nbconvert) (4.1.0)\n",
      "Requirement already satisfied: jupyterlab-pygments in c:\\users\\dell\\anaconda3\\lib\\site-packages (from nbconvert) (0.1.2)\n",
      "Requirement already satisfied: nbclient>=0.5.0 in c:\\users\\dell\\anaconda3\\lib\\site-packages (from nbconvert) (0.5.13)\n",
      "Requirement already satisfied: markupsafe>=2.0 in c:\\users\\dell\\anaconda3\\lib\\site-packages (from nbconvert) (2.0.1)\n",
      "Collecting tinycss2\n",
      "  Downloading tinycss2-1.2.1-py3-none-any.whl (21 kB)\n",
      "Requirement already satisfied: jupyter-core>=4.7 in c:\\users\\dell\\anaconda3\\lib\\site-packages (from nbconvert) (4.9.2)\n",
      "Requirement already satisfied: importlib-metadata>=3.6 in c:\\users\\dell\\anaconda3\\lib\\site-packages (from nbconvert) (4.11.3)\n",
      "Requirement already satisfied: pandocfilters>=1.4.1 in c:\\users\\dell\\anaconda3\\lib\\site-packages (from nbconvert) (1.5.0)\n",
      "Requirement already satisfied: zipp>=0.5 in c:\\users\\dell\\anaconda3\\lib\\site-packages (from importlib-metadata>=3.6->nbconvert) (3.7.0)\n",
      "Requirement already satisfied: pywin32>=1.0 in c:\\users\\dell\\anaconda3\\lib\\site-packages (from jupyter-core>=4.7->nbconvert) (302)\n",
      "Requirement already satisfied: nest-asyncio in c:\\users\\dell\\anaconda3\\lib\\site-packages (from nbclient>=0.5.0->nbconvert) (1.5.5)\n",
      "Requirement already satisfied: jupyter-client>=6.1.5 in c:\\users\\dell\\anaconda3\\lib\\site-packages (from nbclient>=0.5.0->nbconvert) (6.1.12)\n",
      "Requirement already satisfied: python-dateutil>=2.1 in c:\\users\\dell\\anaconda3\\lib\\site-packages (from jupyter-client>=6.1.5->nbclient>=0.5.0->nbconvert) (2.8.2)\n",
      "Requirement already satisfied: pyzmq>=13 in c:\\users\\dell\\anaconda3\\lib\\site-packages (from jupyter-client>=6.1.5->nbclient>=0.5.0->nbconvert) (19.0.2)\n",
      "Requirement already satisfied: tornado>=4.1 in c:\\users\\dell\\anaconda3\\lib\\site-packages (from jupyter-client>=6.1.5->nbclient>=0.5.0->nbconvert) (6.2)\n",
      "Requirement already satisfied: fastjsonschema in c:\\users\\dell\\anaconda3\\lib\\site-packages (from nbformat>=5.1->nbconvert) (2.15.1)\n",
      "Requirement already satisfied: jsonschema>=2.6 in c:\\users\\dell\\anaconda3\\lib\\site-packages (from nbformat>=5.1->nbconvert) (4.4.0)\n",
      "Requirement already satisfied: attrs>=17.4.0 in c:\\users\\dell\\anaconda3\\lib\\site-packages (from jsonschema>=2.6->nbformat>=5.1->nbconvert) (21.4.0)\n",
      "Requirement already satisfied: pyrsistent!=0.17.0,!=0.17.1,!=0.17.2,>=0.14.0 in c:\\users\\dell\\anaconda3\\lib\\site-packages (from jsonschema>=2.6->nbformat>=5.1->nbconvert) (0.18.0)\n",
      "Requirement already satisfied: six>=1.5 in c:\\users\\dell\\anaconda3\\lib\\site-packages (from python-dateutil>=2.1->jupyter-client>=6.1.5->nbclient>=0.5.0->nbconvert) (1.16.0)\n",
      "Requirement already satisfied: soupsieve>1.2 in c:\\users\\dell\\anaconda3\\lib\\site-packages (from beautifulsoup4->nbconvert) (2.3.1)\n",
      "Requirement already satisfied: webencodings in c:\\users\\dell\\anaconda3\\lib\\site-packages (from bleach->nbconvert) (0.5.1)\n",
      "Requirement already satisfied: pyparsing!=3.0.5,>=2.0.2 in c:\\users\\dell\\anaconda3\\lib\\site-packages (from packaging->nbconvert) (3.0.4)\n",
      "Installing collected packages: tinycss2, mistune, nbconvert\n",
      "Successfully installed mistune-2.0.5 nbconvert-7.2.9 tinycss2-1.2.1\n"
     ]
    }
   ],
   "source": [
    "pip install --upgrade --user nbconvert"
   ]
  },
  {
   "cell_type": "code",
   "execution_count": null,
   "id": "4b0a71b0",
   "metadata": {},
   "outputs": [],
   "source": []
  }
 ],
 "metadata": {
  "kernelspec": {
   "display_name": "Python 3 (ipykernel)",
   "language": "python",
   "name": "python3"
  },
  "language_info": {
   "codemirror_mode": {
    "name": "ipython",
    "version": 3
   },
   "file_extension": ".py",
   "mimetype": "text/x-python",
   "name": "python",
   "nbconvert_exporter": "python",
   "pygments_lexer": "ipython3",
   "version": "3.9.12"
  }
 },
 "nbformat": 4,
 "nbformat_minor": 5
}
